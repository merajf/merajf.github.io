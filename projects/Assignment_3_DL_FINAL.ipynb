{
  "nbformat": 4,
  "nbformat_minor": 0,
  "metadata": {
    "colab": {
      "provenance": [],
      "collapsed_sections": [
        "7hknfgtRdn0n",
        "TRgApdoRLxr5"
      ],
      "include_colab_link": true
    },
    "kernelspec": {
      "name": "python3",
      "display_name": "Python 3"
    }
  },
  "cells": [
    {
      "cell_type": "markdown",
      "metadata": {
        "id": "view-in-github",
        "colab_type": "text"
      },
      "source": [
        "<a href=\"https://colab.research.google.com/github/merajf/merajf.github.io/blob/main/Assignment_3_DL_FINAL.ipynb\" target=\"_parent\"><img src=\"https://colab.research.google.com/assets/colab-badge.svg\" alt=\"Open In Colab\"/></a>"
      ]
    },
    {
      "cell_type": "markdown",
      "metadata": {
        "id": "VKK5DA390wRe"
      },
      "source": [
        "# Prediction Challenge 3\n"
      ]
    },
    {
      "cell_type": "code",
      "source": [
        "!pip install keras-rl2 --upgrade -q\n",
        "!pip install gym -q"
      ],
      "metadata": {
        "id": "a9tCXYD3j71D",
        "colab": {
          "base_uri": "https://localhost:8080/"
        },
        "outputId": "86c500a9-a721-44df-c7d5-a61bbb9d93ac"
      },
      "execution_count": null,
      "outputs": [
        {
          "output_type": "stream",
          "name": "stdout",
          "text": [
            "\u001b[?25l     \u001b[90m━━━━━━━━━━━━━━━━━━━━━━━━━━━━━━━━━━━━━━━━\u001b[0m \u001b[32m0.0/52.1 KB\u001b[0m \u001b[31m?\u001b[0m eta \u001b[36m-:--:--\u001b[0m\r\u001b[2K     \u001b[90m━━━━━━━━━━━━━━━━━━━━━━━━━━━━━━━━━━━━━━━━\u001b[0m \u001b[32m52.1/52.1 KB\u001b[0m \u001b[31m5.2 MB/s\u001b[0m eta \u001b[36m0:00:00\u001b[0m\n",
            "\u001b[?25h"
          ]
        }
      ]
    },
    {
      "cell_type": "code",
      "source": [
        "import rl\n",
        "from rl.memory import SequentialMemory  # import the exerience replay buffer module\n",
        "from rl.policy import EpsGreedyQPolicy  # import the policy\n",
        "from rl.policy import LinearAnnealedPolicy\n",
        "from rl.agents.dqn import DQNAgent      # import the DQN agent"
      ],
      "metadata": {
        "id": "trTr8Ywwh24U"
      },
      "execution_count": null,
      "outputs": []
    },
    {
      "cell_type": "code",
      "metadata": {
        "id": "M0AMLzq08ap0",
        "colab": {
          "base_uri": "https://localhost:8080/"
        },
        "outputId": "d70f873d-2802-413b-d97d-ad1b1a0dd873"
      },
      "source": [
        "# load the gym module\n",
        "import gym\n",
        "import matplotlib.pyplot as plt\n",
        "# import the usual Keras modules for creating deep neural networks\n",
        "from keras import Sequential\n",
        "from keras.layers import Input, Flatten, Dense\n",
        "from keras.optimizers import Adam\n",
        "\n",
        "ENV_NAME = 'CartPole-v0'\n",
        "env = gym.make(ENV_NAME)"
      ],
      "execution_count": null,
      "outputs": [
        {
          "output_type": "stream",
          "name": "stderr",
          "text": [
            "/usr/local/lib/python3.9/dist-packages/gym/envs/registration.py:593: UserWarning: \u001b[33mWARN: The environment CartPole-v0 is out of date. You should consider upgrading to version `v1`.\u001b[0m\n",
            "  logger.warn(\n",
            "/usr/local/lib/python3.9/dist-packages/gym/core.py:317: DeprecationWarning: \u001b[33mWARN: Initializing wrapper in old step API which returns one bool instead of two. It is recommended to set `new_step_api=True` to use new step API. This will be the default behaviour in future.\u001b[0m\n",
            "  deprecation(\n",
            "/usr/local/lib/python3.9/dist-packages/gym/wrappers/step_api_compatibility.py:39: DeprecationWarning: \u001b[33mWARN: Initializing environment in old step API which returns one bool instead of two. It is recommended to set `new_step_api=True` to use new step API. This will be the default behaviour in future.\u001b[0m\n",
            "  deprecation(\n"
          ]
        }
      ]
    },
    {
      "cell_type": "markdown",
      "source": [
        "##Warm up 10 & No gamma value"
      ],
      "metadata": {
        "id": "Zk-mif2jeE1Q"
      }
    },
    {
      "cell_type": "code",
      "metadata": {
        "id": "R8ZiiRbxlH2D",
        "colab": {
          "base_uri": "https://localhost:8080/"
        },
        "outputId": "32b489d0-81a4-4213-be6d-daa3ec3df154"
      },
      "source": [
        "\n",
        "# setup experience replay buffer\n",
        "# here the sequential memory limit is set up the same as the nb_steps (number of steps)\n",
        "# parameter in the fit method.  This means that all the action-states will fit into the\n",
        "# memory buffer\n",
        "# keep window_length as 1. It's used in other RL methods, but keep it to 1 in DQNs\n",
        "\n",
        "memory = SequentialMemory(limit=10000, window_length=1)\n",
        "\n",
        "policy =  LinearAnnealedPolicy(inner_policy=EpsGreedyQPolicy(0.2), \n",
        "                               attr='eps',            \n",
        "                               value_max=1.,\n",
        "                               value_min=.1, \n",
        "                               value_test=.05,\n",
        "                               nb_steps=200)\n",
        "\n",
        "# Q-Network\n",
        "model = Sequential()\n",
        "model.add(Input(shape=(1,env.observation_space.shape[0])))  # The input is 1 observation vector, and the number of observations in that vector \n",
        "# add extra layers here\n",
        "model.add(Flatten())\n",
        "model.add(Dense(16, activation='relu'))\n",
        "model.add(Dense(16, activation='relu'))\n",
        "model.add(Dense(env.action_space.n, activation='linear'))   # the output is the number of actions in the action space\n",
        "print(model.summary())\n"
      ],
      "execution_count": null,
      "outputs": [
        {
          "output_type": "stream",
          "name": "stdout",
          "text": [
            "Model: \"sequential_11\"\n",
            "_________________________________________________________________\n",
            " Layer (type)                Output Shape              Param #   \n",
            "=================================================================\n",
            " flatten_11 (Flatten)        (None, 4)                 0         \n",
            "                                                                 \n",
            " dense_23 (Dense)            (None, 16)                80        \n",
            "                                                                 \n",
            " dense_24 (Dense)            (None, 16)                272       \n",
            "                                                                 \n",
            " dense_25 (Dense)            (None, 2)                 34        \n",
            "                                                                 \n",
            "=================================================================\n",
            "Total params: 386\n",
            "Trainable params: 386\n",
            "Non-trainable params: 0\n",
            "_________________________________________________________________\n",
            "None\n"
          ]
        }
      ]
    },
    {
      "cell_type": "code",
      "source": [
        "# define the agent\n",
        "dqn = DQNAgent(model=model,                   # Q-Network model\n",
        "               nb_actions=env.action_space.n, # number of actions\n",
        "               memory=memory,                 # experience replay memory\n",
        "               nb_steps_warmup=10,            # how many steps are waited before starting experience replay,\n",
        "               target_model_update=1e-2,      # how often the target network is updated\n",
        "               policy=policy)                 # the action selection policy\n",
        "\n",
        "dqn.compile(Adam(learning_rate=.0003), metrics=['mae'])\n",
        "\n",
        "history = dqn.fit(env, nb_steps=10000, visualize=False, verbose=2)\n",
        "\n",
        "# summarize the history for number  of episode steps\n",
        "plt.plot(history.history['nb_episode_steps'])\n",
        "plt.ylabel('nb_episode_steps')\n",
        "plt.xlabel('episodes')\n",
        "plt.show()\n",
        "\n",
        "dqn.test(env, nb_episodes=20, visualize=False)"
      ],
      "metadata": {
        "colab": {
          "base_uri": "https://localhost:8080/",
          "height": 1000
        },
        "id": "eIPaCLWjoNET",
        "outputId": "20f209fb-cb8a-4c0c-a103-986882d0da98"
      },
      "execution_count": null,
      "outputs": [
        {
          "output_type": "stream",
          "name": "stdout",
          "text": [
            "Training for 10000 steps ...\n"
          ]
        },
        {
          "output_type": "stream",
          "name": "stderr",
          "text": [
            "/usr/local/lib/python3.9/dist-packages/keras/engine/training_v1.py:2357: UserWarning: `Model.state_updates` will be removed in a future version. This property should not be used in TensorFlow 2.0, as `updates` are applied automatically.\n",
            "  updates=self.state_updates,\n",
            "/usr/local/lib/python3.9/dist-packages/rl/memory.py:37: UserWarning: Not enough entries to sample without replacement. Consider increasing your warm-up phase to avoid oversampling!\n",
            "  warnings.warn('Not enough entries to sample without replacement. Consider increasing your warm-up phase to avoid oversampling!')\n",
            "/usr/local/lib/python3.9/dist-packages/rl/memory.py:38: DeprecationWarning: This function is deprecated. Please call randint(1, 10 + 1) instead\n",
            "  batch_idxs = np.random.random_integers(low, high - 1, size=size)\n",
            "/usr/local/lib/python3.9/dist-packages/rl/memory.py:38: DeprecationWarning: This function is deprecated. Please call randint(1, 11 + 1) instead\n",
            "  batch_idxs = np.random.random_integers(low, high - 1, size=size)\n",
            "/usr/local/lib/python3.9/dist-packages/rl/memory.py:38: DeprecationWarning: This function is deprecated. Please call randint(1, 12 + 1) instead\n",
            "  batch_idxs = np.random.random_integers(low, high - 1, size=size)\n",
            "/usr/local/lib/python3.9/dist-packages/rl/memory.py:38: DeprecationWarning: This function is deprecated. Please call randint(1, 13 + 1) instead\n",
            "  batch_idxs = np.random.random_integers(low, high - 1, size=size)\n",
            "/usr/local/lib/python3.9/dist-packages/rl/memory.py:38: DeprecationWarning: This function is deprecated. Please call randint(1, 14 + 1) instead\n",
            "  batch_idxs = np.random.random_integers(low, high - 1, size=size)\n",
            "/usr/local/lib/python3.9/dist-packages/rl/memory.py:38: DeprecationWarning: This function is deprecated. Please call randint(1, 15 + 1) instead\n",
            "  batch_idxs = np.random.random_integers(low, high - 1, size=size)\n",
            "/usr/local/lib/python3.9/dist-packages/rl/memory.py:38: DeprecationWarning: This function is deprecated. Please call randint(1, 16 + 1) instead\n",
            "  batch_idxs = np.random.random_integers(low, high - 1, size=size)\n",
            "/usr/local/lib/python3.9/dist-packages/rl/memory.py:38: DeprecationWarning: This function is deprecated. Please call randint(1, 17 + 1) instead\n",
            "  batch_idxs = np.random.random_integers(low, high - 1, size=size)\n",
            "/usr/local/lib/python3.9/dist-packages/rl/memory.py:38: DeprecationWarning: This function is deprecated. Please call randint(1, 18 + 1) instead\n",
            "  batch_idxs = np.random.random_integers(low, high - 1, size=size)\n",
            "/usr/local/lib/python3.9/dist-packages/rl/memory.py:38: DeprecationWarning: This function is deprecated. Please call randint(1, 19 + 1) instead\n",
            "  batch_idxs = np.random.random_integers(low, high - 1, size=size)\n",
            "/usr/local/lib/python3.9/dist-packages/rl/memory.py:38: DeprecationWarning: This function is deprecated. Please call randint(1, 20 + 1) instead\n",
            "  batch_idxs = np.random.random_integers(low, high - 1, size=size)\n",
            "/usr/local/lib/python3.9/dist-packages/rl/memory.py:38: DeprecationWarning: This function is deprecated. Please call randint(1, 21 + 1) instead\n",
            "  batch_idxs = np.random.random_integers(low, high - 1, size=size)\n",
            "/usr/local/lib/python3.9/dist-packages/rl/memory.py:38: DeprecationWarning: This function is deprecated. Please call randint(1, 22 + 1) instead\n",
            "  batch_idxs = np.random.random_integers(low, high - 1, size=size)\n",
            "/usr/local/lib/python3.9/dist-packages/rl/memory.py:38: DeprecationWarning: This function is deprecated. Please call randint(1, 23 + 1) instead\n",
            "  batch_idxs = np.random.random_integers(low, high - 1, size=size)\n",
            "/usr/local/lib/python3.9/dist-packages/rl/memory.py:38: DeprecationWarning: This function is deprecated. Please call randint(1, 24 + 1) instead\n",
            "  batch_idxs = np.random.random_integers(low, high - 1, size=size)\n",
            "/usr/local/lib/python3.9/dist-packages/rl/memory.py:38: DeprecationWarning: This function is deprecated. Please call randint(1, 25 + 1) instead\n",
            "  batch_idxs = np.random.random_integers(low, high - 1, size=size)\n",
            "/usr/local/lib/python3.9/dist-packages/rl/memory.py:38: DeprecationWarning: This function is deprecated. Please call randint(1, 26 + 1) instead\n",
            "  batch_idxs = np.random.random_integers(low, high - 1, size=size)\n",
            "/usr/local/lib/python3.9/dist-packages/rl/memory.py:38: DeprecationWarning: This function is deprecated. Please call randint(1, 27 + 1) instead\n",
            "  batch_idxs = np.random.random_integers(low, high - 1, size=size)\n",
            "/usr/local/lib/python3.9/dist-packages/rl/memory.py:37: UserWarning: Not enough entries to sample without replacement. Consider increasing your warm-up phase to avoid oversampling!\n",
            "  warnings.warn('Not enough entries to sample without replacement. Consider increasing your warm-up phase to avoid oversampling!')\n",
            "/usr/local/lib/python3.9/dist-packages/rl/memory.py:38: DeprecationWarning: This function is deprecated. Please call randint(1, 28 + 1) instead\n",
            "  batch_idxs = np.random.random_integers(low, high - 1, size=size)\n",
            "/usr/local/lib/python3.9/dist-packages/rl/memory.py:38: DeprecationWarning: This function is deprecated. Please call randint(1, 29 + 1) instead\n",
            "  batch_idxs = np.random.random_integers(low, high - 1, size=size)\n",
            "/usr/local/lib/python3.9/dist-packages/rl/memory.py:38: DeprecationWarning: This function is deprecated. Please call randint(1, 30 + 1) instead\n",
            "  batch_idxs = np.random.random_integers(low, high - 1, size=size)\n"
          ]
        },
        {
          "output_type": "stream",
          "name": "stdout",
          "text": [
            "   28/10000: episode: 1, duration: 6.439s, episode steps:  28, steps per second:   4, episode reward: 28.000, mean reward:  1.000 [ 1.000,  1.000], mean action: 0.429 [0.000, 1.000],  loss: 0.504225, mae: 0.520064, mean_q: 0.046803, mean_eps: 0.914500\n",
            "   46/10000: episode: 2, duration: 0.169s, episode steps:  18, steps per second: 106, episode reward: 18.000, mean reward:  1.000 [ 1.000,  1.000], mean action: 0.389 [0.000, 1.000],  loss: 0.507460, mae: 0.552046, mean_q: 0.150188, mean_eps: 0.835750\n"
          ]
        },
        {
          "output_type": "stream",
          "name": "stderr",
          "text": [
            "/usr/local/lib/python3.9/dist-packages/rl/memory.py:38: DeprecationWarning: This function is deprecated. Please call randint(1, 31 + 1) instead\n",
            "  batch_idxs = np.random.random_integers(low, high - 1, size=size)\n"
          ]
        },
        {
          "output_type": "stream",
          "name": "stdout",
          "text": [
            "   77/10000: episode: 3, duration: 0.282s, episode steps:  31, steps per second: 110, episode reward: 31.000, mean reward:  1.000 [ 1.000,  1.000], mean action: 0.419 [0.000, 1.000],  loss: 0.483564, mae: 0.561849, mean_q: 0.207288, mean_eps: 0.725500\n",
            "  132/10000: episode: 4, duration: 0.508s, episode steps:  55, steps per second: 108, episode reward: 55.000, mean reward:  1.000 [ 1.000,  1.000], mean action: 0.527 [0.000, 1.000],  loss: 0.454622, mae: 0.579936, mean_q: 0.288835, mean_eps: 0.532000\n",
            "  280/10000: episode: 5, duration: 1.359s, episode steps: 148, steps per second: 109, episode reward: 148.000, mean reward:  1.000 [ 1.000,  1.000], mean action: 0.507 [0.000, 1.000],  loss: 0.362579, mae: 0.624818, mean_q: 0.505239, mean_eps: 0.171331\n",
            "  478/10000: episode: 6, duration: 1.773s, episode steps: 198, steps per second: 112, episode reward: 198.000, mean reward:  1.000 [ 1.000,  1.000], mean action: 0.515 [0.000, 1.000],  loss: 0.223667, mae: 0.842120, mean_q: 1.178703, mean_eps: 0.100000\n",
            "  621/10000: episode: 7, duration: 1.284s, episode steps: 143, steps per second: 111, episode reward: 143.000, mean reward:  1.000 [ 1.000,  1.000], mean action: 0.517 [0.000, 1.000],  loss: 0.138818, mae: 1.288408, mean_q: 2.248476, mean_eps: 0.100000\n",
            "  673/10000: episode: 8, duration: 0.480s, episode steps:  52, steps per second: 108, episode reward: 52.000, mean reward:  1.000 [ 1.000,  1.000], mean action: 0.538 [0.000, 1.000],  loss: 0.130034, mae: 1.618539, mean_q: 2.941836, mean_eps: 0.100000\n",
            "  682/10000: episode: 9, duration: 0.087s, episode steps:   9, steps per second: 104, episode reward:  9.000, mean reward:  1.000 [ 1.000,  1.000], mean action: 0.000 [0.000, 0.000],  loss: 0.150332, mae: 1.722478, mean_q: 3.186150, mean_eps: 0.100000\n",
            "  691/10000: episode: 10, duration: 0.090s, episode steps:   9, steps per second: 100, episode reward:  9.000, mean reward:  1.000 [ 1.000,  1.000], mean action: 0.111 [0.000, 1.000],  loss: 0.156120, mae: 1.800291, mean_q: 3.322906, mean_eps: 0.100000\n",
            "  701/10000: episode: 11, duration: 0.114s, episode steps:  10, steps per second:  87, episode reward: 10.000, mean reward:  1.000 [ 1.000,  1.000], mean action: 0.000 [0.000, 0.000],  loss: 0.315191, mae: 1.905821, mean_q: 3.462305, mean_eps: 0.100000\n",
            "  712/10000: episode: 12, duration: 0.113s, episode steps:  11, steps per second:  97, episode reward: 11.000, mean reward:  1.000 [ 1.000,  1.000], mean action: 0.091 [0.000, 1.000],  loss: 0.366787, mae: 1.952769, mean_q: 3.511511, mean_eps: 0.100000\n",
            "  720/10000: episode: 13, duration: 0.081s, episode steps:   8, steps per second:  98, episode reward:  8.000, mean reward:  1.000 [ 1.000,  1.000], mean action: 0.000 [0.000, 0.000],  loss: 0.533077, mae: 2.010174, mean_q: 3.574438, mean_eps: 0.100000\n",
            "  801/10000: episode: 14, duration: 0.732s, episode steps:  81, steps per second: 111, episode reward: 81.000, mean reward:  1.000 [ 1.000,  1.000], mean action: 0.543 [0.000, 1.000],  loss: 0.353094, mae: 2.124130, mean_q: 3.851232, mean_eps: 0.100000\n",
            "  817/10000: episode: 15, duration: 0.157s, episode steps:  16, steps per second: 102, episode reward: 16.000, mean reward:  1.000 [ 1.000,  1.000], mean action: 0.750 [0.000, 1.000],  loss: 0.246255, mae: 2.250010, mean_q: 4.181660, mean_eps: 0.100000\n",
            "  829/10000: episode: 16, duration: 0.120s, episode steps:  12, steps per second: 100, episode reward: 12.000, mean reward:  1.000 [ 1.000,  1.000], mean action: 0.917 [0.000, 1.000],  loss: 0.322139, mae: 2.337388, mean_q: 4.340002, mean_eps: 0.100000\n",
            "  894/10000: episode: 17, duration: 0.594s, episode steps:  65, steps per second: 109, episode reward: 65.000, mean reward:  1.000 [ 1.000,  1.000], mean action: 0.538 [0.000, 1.000],  loss: 0.325977, mae: 2.469803, mean_q: 4.616600, mean_eps: 0.100000\n",
            "  926/10000: episode: 18, duration: 0.444s, episode steps:  32, steps per second:  72, episode reward: 32.000, mean reward:  1.000 [ 1.000,  1.000], mean action: 0.375 [0.000, 1.000],  loss: 0.483947, mae: 2.676535, mean_q: 4.972347, mean_eps: 0.100000\n",
            "  936/10000: episode: 19, duration: 0.132s, episode steps:  10, steps per second:  76, episode reward: 10.000, mean reward:  1.000 [ 1.000,  1.000], mean action: 0.000 [0.000, 0.000],  loss: 0.365332, mae: 2.704056, mean_q: 5.086736, mean_eps: 0.100000\n",
            "  945/10000: episode: 20, duration: 0.131s, episode steps:   9, steps per second:  69, episode reward:  9.000, mean reward:  1.000 [ 1.000,  1.000], mean action: 0.111 [0.000, 1.000],  loss: 0.405545, mae: 2.811618, mean_q: 5.233224, mean_eps: 0.100000\n",
            "  955/10000: episode: 21, duration: 0.138s, episode steps:  10, steps per second:  73, episode reward: 10.000, mean reward:  1.000 [ 1.000,  1.000], mean action: 0.000 [0.000, 0.000],  loss: 0.792101, mae: 2.900869, mean_q: 5.362604, mean_eps: 0.100000\n",
            "  971/10000: episode: 22, duration: 0.216s, episode steps:  16, steps per second:  74, episode reward: 16.000, mean reward:  1.000 [ 1.000,  1.000], mean action: 0.250 [0.000, 1.000],  loss: 0.705684, mae: 2.905614, mean_q: 5.355690, mean_eps: 0.100000\n",
            " 1095/10000: episode: 23, duration: 1.538s, episode steps: 124, steps per second:  81, episode reward: 124.000, mean reward:  1.000 [ 1.000,  1.000], mean action: 0.492 [0.000, 1.000],  loss: 0.650464, mae: 3.136828, mean_q: 5.867247, mean_eps: 0.100000\n",
            " 1109/10000: episode: 24, duration: 0.133s, episode steps:  14, steps per second: 105, episode reward: 14.000, mean reward:  1.000 [ 1.000,  1.000], mean action: 0.500 [0.000, 1.000],  loss: 0.716063, mae: 3.365005, mean_q: 6.351819, mean_eps: 0.100000\n",
            " 1130/10000: episode: 25, duration: 0.201s, episode steps:  21, steps per second: 105, episode reward: 21.000, mean reward:  1.000 [ 1.000,  1.000], mean action: 0.476 [0.000, 1.000],  loss: 0.581674, mae: 3.407956, mean_q: 6.447755, mean_eps: 0.100000\n",
            " 1171/10000: episode: 26, duration: 0.372s, episode steps:  41, steps per second: 110, episode reward: 41.000, mean reward:  1.000 [ 1.000,  1.000], mean action: 0.463 [0.000, 1.000],  loss: 0.695390, mae: 3.542567, mean_q: 6.715260, mean_eps: 0.100000\n",
            " 1194/10000: episode: 27, duration: 0.215s, episode steps:  23, steps per second: 107, episode reward: 23.000, mean reward:  1.000 [ 1.000,  1.000], mean action: 0.522 [0.000, 1.000],  loss: 0.493804, mae: 3.600622, mean_q: 6.870205, mean_eps: 0.100000\n",
            " 1205/10000: episode: 28, duration: 0.108s, episode steps:  11, steps per second: 102, episode reward: 11.000, mean reward:  1.000 [ 1.000,  1.000], mean action: 0.545 [0.000, 1.000],  loss: 0.756921, mae: 3.734774, mean_q: 7.160530, mean_eps: 0.100000\n",
            " 1218/10000: episode: 29, duration: 0.140s, episode steps:  13, steps per second:  93, episode reward: 13.000, mean reward:  1.000 [ 1.000,  1.000], mean action: 0.538 [0.000, 1.000],  loss: 0.529762, mae: 3.741009, mean_q: 7.177446, mean_eps: 0.100000\n",
            " 1234/10000: episode: 30, duration: 0.166s, episode steps:  16, steps per second:  97, episode reward: 16.000, mean reward:  1.000 [ 1.000,  1.000], mean action: 0.500 [0.000, 1.000],  loss: 1.028832, mae: 3.850973, mean_q: 7.268244, mean_eps: 0.100000\n",
            " 1270/10000: episode: 31, duration: 0.332s, episode steps:  36, steps per second: 108, episode reward: 36.000, mean reward:  1.000 [ 1.000,  1.000], mean action: 0.472 [0.000, 1.000],  loss: 0.763877, mae: 3.904955, mean_q: 7.399976, mean_eps: 0.100000\n",
            " 1297/10000: episode: 32, duration: 0.255s, episode steps:  27, steps per second: 106, episode reward: 27.000, mean reward:  1.000 [ 1.000,  1.000], mean action: 0.481 [0.000, 1.000],  loss: 0.792944, mae: 3.987869, mean_q: 7.572944, mean_eps: 0.100000\n",
            " 1314/10000: episode: 33, duration: 0.155s, episode steps:  17, steps per second: 110, episode reward: 17.000, mean reward:  1.000 [ 1.000,  1.000], mean action: 0.471 [0.000, 1.000],  loss: 0.917692, mae: 4.111981, mean_q: 7.775780, mean_eps: 0.100000\n",
            " 1336/10000: episode: 34, duration: 0.203s, episode steps:  22, steps per second: 109, episode reward: 22.000, mean reward:  1.000 [ 1.000,  1.000], mean action: 0.455 [0.000, 1.000],  loss: 0.578228, mae: 4.114761, mean_q: 7.876670, mean_eps: 0.100000\n",
            " 1362/10000: episode: 35, duration: 0.231s, episode steps:  26, steps per second: 113, episode reward: 26.000, mean reward:  1.000 [ 1.000,  1.000], mean action: 0.462 [0.000, 1.000],  loss: 0.737151, mae: 4.203404, mean_q: 8.075604, mean_eps: 0.100000\n",
            " 1381/10000: episode: 36, duration: 0.173s, episode steps:  19, steps per second: 110, episode reward: 19.000, mean reward:  1.000 [ 1.000,  1.000], mean action: 0.526 [0.000, 1.000],  loss: 1.092995, mae: 4.334137, mean_q: 8.237857, mean_eps: 0.100000\n",
            " 1392/10000: episode: 37, duration: 0.127s, episode steps:  11, steps per second:  86, episode reward: 11.000, mean reward:  1.000 [ 1.000,  1.000], mean action: 0.636 [0.000, 1.000],  loss: 0.621943, mae: 4.285829, mean_q: 8.297028, mean_eps: 0.100000\n",
            " 1402/10000: episode: 38, duration: 0.100s, episode steps:  10, steps per second: 100, episode reward: 10.000, mean reward:  1.000 [ 1.000,  1.000], mean action: 0.700 [0.000, 1.000],  loss: 0.801850, mae: 4.367073, mean_q: 8.505010, mean_eps: 0.100000\n",
            " 1411/10000: episode: 39, duration: 0.088s, episode steps:   9, steps per second: 102, episode reward:  9.000, mean reward:  1.000 [ 1.000,  1.000], mean action: 0.667 [0.000, 1.000],  loss: 0.614856, mae: 4.380406, mean_q: 8.531388, mean_eps: 0.100000\n",
            " 1432/10000: episode: 40, duration: 0.190s, episode steps:  21, steps per second: 110, episode reward: 21.000, mean reward:  1.000 [ 1.000,  1.000], mean action: 0.476 [0.000, 1.000],  loss: 1.024906, mae: 4.528562, mean_q: 8.688069, mean_eps: 0.100000\n",
            " 1449/10000: episode: 41, duration: 0.160s, episode steps:  17, steps per second: 106, episode reward: 17.000, mean reward:  1.000 [ 1.000,  1.000], mean action: 0.529 [0.000, 1.000],  loss: 1.202575, mae: 4.582545, mean_q: 8.665191, mean_eps: 0.100000\n",
            " 1463/10000: episode: 42, duration: 0.139s, episode steps:  14, steps per second: 101, episode reward: 14.000, mean reward:  1.000 [ 1.000,  1.000], mean action: 0.643 [0.000, 1.000],  loss: 0.978570, mae: 4.634016, mean_q: 8.837697, mean_eps: 0.100000\n",
            " 1473/10000: episode: 43, duration: 0.096s, episode steps:  10, steps per second: 105, episode reward: 10.000, mean reward:  1.000 [ 1.000,  1.000], mean action: 0.700 [0.000, 1.000],  loss: 0.359230, mae: 4.610704, mean_q: 9.061277, mean_eps: 0.100000\n",
            " 1482/10000: episode: 44, duration: 0.092s, episode steps:   9, steps per second:  97, episode reward:  9.000, mean reward:  1.000 [ 1.000,  1.000], mean action: 0.889 [0.000, 1.000],  loss: 1.914543, mae: 4.816098, mean_q: 9.160445, mean_eps: 0.100000\n",
            " 1493/10000: episode: 45, duration: 0.114s, episode steps:  11, steps per second:  96, episode reward: 11.000, mean reward:  1.000 [ 1.000,  1.000], mean action: 0.909 [0.000, 1.000],  loss: 1.246113, mae: 4.791668, mean_q: 9.203331, mean_eps: 0.100000\n",
            " 1503/10000: episode: 46, duration: 0.096s, episode steps:  10, steps per second: 105, episode reward: 10.000, mean reward:  1.000 [ 1.000,  1.000], mean action: 0.900 [0.000, 1.000],  loss: 1.523386, mae: 4.890010, mean_q: 9.327074, mean_eps: 0.100000\n",
            " 1515/10000: episode: 47, duration: 0.121s, episode steps:  12, steps per second:  99, episode reward: 12.000, mean reward:  1.000 [ 1.000,  1.000], mean action: 0.667 [0.000, 1.000],  loss: 1.252709, mae: 4.876618, mean_q: 9.246849, mean_eps: 0.100000\n",
            " 1527/10000: episode: 48, duration: 0.114s, episode steps:  12, steps per second: 105, episode reward: 12.000, mean reward:  1.000 [ 1.000,  1.000], mean action: 0.667 [0.000, 1.000],  loss: 1.228876, mae: 4.907876, mean_q: 9.349539, mean_eps: 0.100000\n",
            " 1537/10000: episode: 49, duration: 0.103s, episode steps:  10, steps per second:  97, episode reward: 10.000, mean reward:  1.000 [ 1.000,  1.000], mean action: 0.800 [0.000, 1.000],  loss: 1.724855, mae: 4.987523, mean_q: 9.416828, mean_eps: 0.100000\n",
            " 1546/10000: episode: 50, duration: 0.086s, episode steps:   9, steps per second: 104, episode reward:  9.000, mean reward:  1.000 [ 1.000,  1.000], mean action: 0.889 [0.000, 1.000],  loss: 1.056420, mae: 4.959490, mean_q: 9.452515, mean_eps: 0.100000\n",
            " 1556/10000: episode: 51, duration: 0.093s, episode steps:  10, steps per second: 108, episode reward: 10.000, mean reward:  1.000 [ 1.000,  1.000], mean action: 0.900 [0.000, 1.000],  loss: 1.338819, mae: 5.035614, mean_q: 9.606997, mean_eps: 0.100000\n",
            " 1568/10000: episode: 52, duration: 0.115s, episode steps:  12, steps per second: 104, episode reward: 12.000, mean reward:  1.000 [ 1.000,  1.000], mean action: 0.917 [0.000, 1.000],  loss: 1.732762, mae: 5.094240, mean_q: 9.666382, mean_eps: 0.100000\n",
            " 1577/10000: episode: 53, duration: 0.087s, episode steps:   9, steps per second: 104, episode reward:  9.000, mean reward:  1.000 [ 1.000,  1.000], mean action: 0.889 [0.000, 1.000],  loss: 2.765538, mae: 5.282125, mean_q: 9.783113, mean_eps: 0.100000\n",
            " 1586/10000: episode: 54, duration: 0.087s, episode steps:   9, steps per second: 104, episode reward:  9.000, mean reward:  1.000 [ 1.000,  1.000], mean action: 1.000 [1.000, 1.000],  loss: 1.459901, mae: 5.159306, mean_q: 9.677313, mean_eps: 0.100000\n",
            " 1596/10000: episode: 55, duration: 0.109s, episode steps:  10, steps per second:  92, episode reward: 10.000, mean reward:  1.000 [ 1.000,  1.000], mean action: 0.900 [0.000, 1.000],  loss: 1.376329, mae: 5.195579, mean_q: 9.776127, mean_eps: 0.100000\n",
            " 1608/10000: episode: 56, duration: 0.114s, episode steps:  12, steps per second: 105, episode reward: 12.000, mean reward:  1.000 [ 1.000,  1.000], mean action: 0.917 [0.000, 1.000],  loss: 1.963545, mae: 5.283750, mean_q: 9.961197, mean_eps: 0.100000\n",
            " 1620/10000: episode: 57, duration: 0.112s, episode steps:  12, steps per second: 107, episode reward: 12.000, mean reward:  1.000 [ 1.000,  1.000], mean action: 0.833 [0.000, 1.000],  loss: 2.211152, mae: 5.354264, mean_q: 10.020344, mean_eps: 0.100000\n",
            " 1629/10000: episode: 58, duration: 0.093s, episode steps:   9, steps per second:  97, episode reward:  9.000, mean reward:  1.000 [ 1.000,  1.000], mean action: 0.778 [0.000, 1.000],  loss: 2.163536, mae: 5.363528, mean_q: 10.003754, mean_eps: 0.100000\n",
            " 1641/10000: episode: 59, duration: 0.115s, episode steps:  12, steps per second: 104, episode reward: 12.000, mean reward:  1.000 [ 1.000,  1.000], mean action: 0.833 [0.000, 1.000],  loss: 1.225233, mae: 5.305762, mean_q: 10.055959, mean_eps: 0.100000\n",
            " 1650/10000: episode: 60, duration: 0.087s, episode steps:   9, steps per second: 104, episode reward:  9.000, mean reward:  1.000 [ 1.000,  1.000], mean action: 0.889 [0.000, 1.000],  loss: 1.700081, mae: 5.388477, mean_q: 10.176173, mean_eps: 0.100000\n",
            " 1663/10000: episode: 61, duration: 0.124s, episode steps:  13, steps per second: 105, episode reward: 13.000, mean reward:  1.000 [ 1.000,  1.000], mean action: 0.769 [0.000, 1.000],  loss: 1.564426, mae: 5.392114, mean_q: 10.270383, mean_eps: 0.100000\n",
            " 1672/10000: episode: 62, duration: 0.088s, episode steps:   9, steps per second: 102, episode reward:  9.000, mean reward:  1.000 [ 1.000,  1.000], mean action: 0.889 [0.000, 1.000],  loss: 1.894029, mae: 5.498435, mean_q: 10.327218, mean_eps: 0.100000\n",
            " 1682/10000: episode: 63, duration: 0.100s, episode steps:  10, steps per second: 100, episode reward: 10.000, mean reward:  1.000 [ 1.000,  1.000], mean action: 1.000 [1.000, 1.000],  loss: 1.381930, mae: 5.453669, mean_q: 10.406725, mean_eps: 0.100000\n",
            " 1691/10000: episode: 64, duration: 0.094s, episode steps:   9, steps per second:  96, episode reward:  9.000, mean reward:  1.000 [ 1.000,  1.000], mean action: 1.000 [1.000, 1.000],  loss: 1.284194, mae: 5.471353, mean_q: 10.477873, mean_eps: 0.100000\n",
            " 1700/10000: episode: 65, duration: 0.095s, episode steps:   9, steps per second:  95, episode reward:  9.000, mean reward:  1.000 [ 1.000,  1.000], mean action: 1.000 [1.000, 1.000],  loss: 1.758270, mae: 5.607786, mean_q: 10.676438, mean_eps: 0.100000\n",
            " 1709/10000: episode: 66, duration: 0.095s, episode steps:   9, steps per second:  95, episode reward:  9.000, mean reward:  1.000 [ 1.000,  1.000], mean action: 0.889 [0.000, 1.000],  loss: 1.239978, mae: 5.566339, mean_q: 10.678022, mean_eps: 0.100000\n",
            " 1720/10000: episode: 67, duration: 0.109s, episode steps:  11, steps per second: 101, episode reward: 11.000, mean reward:  1.000 [ 1.000,  1.000], mean action: 0.818 [0.000, 1.000],  loss: 2.136255, mae: 5.684823, mean_q: 10.736005, mean_eps: 0.100000\n",
            " 1730/10000: episode: 68, duration: 0.108s, episode steps:  10, steps per second:  92, episode reward: 10.000, mean reward:  1.000 [ 1.000,  1.000], mean action: 0.900 [0.000, 1.000],  loss: 1.914955, mae: 5.669829, mean_q: 10.710276, mean_eps: 0.100000\n",
            " 1741/10000: episode: 69, duration: 0.119s, episode steps:  11, steps per second:  92, episode reward: 11.000, mean reward:  1.000 [ 1.000,  1.000], mean action: 0.818 [0.000, 1.000],  loss: 2.477506, mae: 5.757329, mean_q: 10.729556, mean_eps: 0.100000\n",
            " 1750/10000: episode: 70, duration: 0.094s, episode steps:   9, steps per second:  96, episode reward:  9.000, mean reward:  1.000 [ 1.000,  1.000], mean action: 0.778 [0.000, 1.000],  loss: 2.478309, mae: 5.750913, mean_q: 10.646138, mean_eps: 0.100000\n",
            " 1761/10000: episode: 71, duration: 0.117s, episode steps:  11, steps per second:  94, episode reward: 11.000, mean reward:  1.000 [ 1.000,  1.000], mean action: 0.545 [0.000, 1.000],  loss: 2.215344, mae: 5.752377, mean_q: 10.656260, mean_eps: 0.100000\n",
            " 1774/10000: episode: 72, duration: 0.132s, episode steps:  13, steps per second:  98, episode reward: 13.000, mean reward:  1.000 [ 1.000,  1.000], mean action: 0.538 [0.000, 1.000],  loss: 2.235067, mae: 5.816675, mean_q: 10.788873, mean_eps: 0.100000\n",
            " 1788/10000: episode: 73, duration: 0.137s, episode steps:  14, steps per second: 102, episode reward: 14.000, mean reward:  1.000 [ 1.000,  1.000], mean action: 0.571 [0.000, 1.000],  loss: 1.328805, mae: 5.773457, mean_q: 10.886300, mean_eps: 0.100000\n",
            " 1803/10000: episode: 74, duration: 0.144s, episode steps:  15, steps per second: 104, episode reward: 15.000, mean reward:  1.000 [ 1.000,  1.000], mean action: 0.533 [0.000, 1.000],  loss: 1.344987, mae: 5.782178, mean_q: 11.027029, mean_eps: 0.100000\n",
            " 1816/10000: episode: 75, duration: 0.122s, episode steps:  13, steps per second: 106, episode reward: 13.000, mean reward:  1.000 [ 1.000,  1.000], mean action: 0.615 [0.000, 1.000],  loss: 2.200507, mae: 5.885087, mean_q: 11.104308, mean_eps: 0.100000\n",
            " 1826/10000: episode: 76, duration: 0.104s, episode steps:  10, steps per second:  96, episode reward: 10.000, mean reward:  1.000 [ 1.000,  1.000], mean action: 0.600 [0.000, 1.000],  loss: 1.915027, mae: 5.931436, mean_q: 11.201536, mean_eps: 0.100000\n",
            " 1837/10000: episode: 77, duration: 0.103s, episode steps:  11, steps per second: 107, episode reward: 11.000, mean reward:  1.000 [ 1.000,  1.000], mean action: 0.727 [0.000, 1.000],  loss: 2.508682, mae: 5.929482, mean_q: 10.965725, mean_eps: 0.100000\n",
            " 1848/10000: episode: 78, duration: 0.105s, episode steps:  11, steps per second: 105, episode reward: 11.000, mean reward:  1.000 [ 1.000,  1.000], mean action: 0.727 [0.000, 1.000],  loss: 1.892559, mae: 5.900310, mean_q: 10.985519, mean_eps: 0.100000\n",
            " 1861/10000: episode: 79, duration: 0.128s, episode steps:  13, steps per second: 101, episode reward: 13.000, mean reward:  1.000 [ 1.000,  1.000], mean action: 0.846 [0.000, 1.000],  loss: 2.655609, mae: 6.029077, mean_q: 11.191999, mean_eps: 0.100000\n",
            " 1870/10000: episode: 80, duration: 0.094s, episode steps:   9, steps per second:  95, episode reward:  9.000, mean reward:  1.000 [ 1.000,  1.000], mean action: 1.000 [1.000, 1.000],  loss: 2.239178, mae: 5.957184, mean_q: 11.126181, mean_eps: 0.100000\n",
            " 1880/10000: episode: 81, duration: 0.097s, episode steps:  10, steps per second: 103, episode reward: 10.000, mean reward:  1.000 [ 1.000,  1.000], mean action: 0.900 [0.000, 1.000],  loss: 2.514953, mae: 6.079805, mean_q: 11.293819, mean_eps: 0.100000\n",
            " 1889/10000: episode: 82, duration: 0.095s, episode steps:   9, steps per second:  95, episode reward:  9.000, mean reward:  1.000 [ 1.000,  1.000], mean action: 1.000 [1.000, 1.000],  loss: 3.625302, mae: 6.184511, mean_q: 11.278078, mean_eps: 0.100000\n",
            " 1898/10000: episode: 83, duration: 0.096s, episode steps:   9, steps per second:  94, episode reward:  9.000, mean reward:  1.000 [ 1.000,  1.000], mean action: 0.778 [0.000, 1.000],  loss: 1.928335, mae: 5.969463, mean_q: 11.042485, mean_eps: 0.100000\n",
            " 1906/10000: episode: 84, duration: 0.081s, episode steps:   8, steps per second:  99, episode reward:  8.000, mean reward:  1.000 [ 1.000,  1.000], mean action: 1.000 [1.000, 1.000],  loss: 1.926625, mae: 6.075168, mean_q: 11.191634, mean_eps: 0.100000\n",
            " 1915/10000: episode: 85, duration: 0.092s, episode steps:   9, steps per second:  98, episode reward:  9.000, mean reward:  1.000 [ 1.000,  1.000], mean action: 0.778 [0.000, 1.000],  loss: 1.900451, mae: 6.072575, mean_q: 11.352472, mean_eps: 0.100000\n",
            " 1928/10000: episode: 86, duration: 0.123s, episode steps:  13, steps per second: 105, episode reward: 13.000, mean reward:  1.000 [ 1.000,  1.000], mean action: 0.615 [0.000, 1.000],  loss: 1.303001, mae: 6.003157, mean_q: 11.385634, mean_eps: 0.100000\n",
            " 1936/10000: episode: 87, duration: 0.092s, episode steps:   8, steps per second:  87, episode reward:  8.000, mean reward:  1.000 [ 1.000,  1.000], mean action: 0.875 [0.000, 1.000],  loss: 2.314729, mae: 6.118860, mean_q: 11.439193, mean_eps: 0.100000\n",
            " 1949/10000: episode: 88, duration: 0.121s, episode steps:  13, steps per second: 107, episode reward: 13.000, mean reward:  1.000 [ 1.000,  1.000], mean action: 0.538 [0.000, 1.000],  loss: 2.608811, mae: 6.161599, mean_q: 11.382124, mean_eps: 0.100000\n",
            " 1962/10000: episode: 89, duration: 0.121s, episode steps:  13, steps per second: 107, episode reward: 13.000, mean reward:  1.000 [ 1.000,  1.000], mean action: 0.692 [0.000, 1.000],  loss: 2.068172, mae: 6.132419, mean_q: 11.397200, mean_eps: 0.100000\n",
            " 1973/10000: episode: 90, duration: 0.107s, episode steps:  11, steps per second: 103, episode reward: 11.000, mean reward:  1.000 [ 1.000,  1.000], mean action: 0.727 [0.000, 1.000],  loss: 2.210931, mae: 6.116786, mean_q: 11.432810, mean_eps: 0.100000\n",
            " 1982/10000: episode: 91, duration: 0.086s, episode steps:   9, steps per second: 105, episode reward:  9.000, mean reward:  1.000 [ 1.000,  1.000], mean action: 0.667 [0.000, 1.000],  loss: 1.867663, mae: 6.160820, mean_q: 11.530993, mean_eps: 0.100000\n",
            " 1991/10000: episode: 92, duration: 0.090s, episode steps:   9, steps per second:  99, episode reward:  9.000, mean reward:  1.000 [ 1.000,  1.000], mean action: 0.667 [0.000, 1.000],  loss: 2.759027, mae: 6.232248, mean_q: 11.515766, mean_eps: 0.100000\n",
            " 2008/10000: episode: 93, duration: 0.162s, episode steps:  17, steps per second: 105, episode reward: 17.000, mean reward:  1.000 [ 1.000,  1.000], mean action: 0.529 [0.000, 1.000],  loss: 2.380956, mae: 6.242659, mean_q: 11.575062, mean_eps: 0.100000\n",
            " 2047/10000: episode: 94, duration: 0.355s, episode steps:  39, steps per second: 110, episode reward: 39.000, mean reward:  1.000 [ 1.000,  1.000], mean action: 0.564 [0.000, 1.000],  loss: 1.934900, mae: 6.249828, mean_q: 11.697756, mean_eps: 0.100000\n",
            " 2061/10000: episode: 95, duration: 0.137s, episode steps:  14, steps per second: 102, episode reward: 14.000, mean reward:  1.000 [ 1.000,  1.000], mean action: 0.214 [0.000, 1.000],  loss: 1.941909, mae: 6.285590, mean_q: 11.857684, mean_eps: 0.100000\n",
            " 2069/10000: episode: 96, duration: 0.082s, episode steps:   8, steps per second:  98, episode reward:  8.000, mean reward:  1.000 [ 1.000,  1.000], mean action: 0.000 [0.000, 0.000],  loss: 1.908437, mae: 6.249173, mean_q: 11.783410, mean_eps: 0.100000\n",
            " 2079/10000: episode: 97, duration: 0.095s, episode steps:  10, steps per second: 105, episode reward: 10.000, mean reward:  1.000 [ 1.000,  1.000], mean action: 0.000 [0.000, 0.000],  loss: 2.115160, mae: 6.327579, mean_q: 11.858974, mean_eps: 0.100000\n",
            " 2089/10000: episode: 98, duration: 0.100s, episode steps:  10, steps per second: 100, episode reward: 10.000, mean reward:  1.000 [ 1.000,  1.000], mean action: 0.100 [0.000, 1.000],  loss: 2.186388, mae: 6.350029, mean_q: 11.931554, mean_eps: 0.100000\n",
            " 2099/10000: episode: 99, duration: 0.099s, episode steps:  10, steps per second: 101, episode reward: 10.000, mean reward:  1.000 [ 1.000,  1.000], mean action: 0.000 [0.000, 0.000],  loss: 1.294296, mae: 6.265617, mean_q: 11.821284, mean_eps: 0.100000\n",
            " 2107/10000: episode: 100, duration: 0.111s, episode steps:   8, steps per second:  72, episode reward:  8.000, mean reward:  1.000 [ 1.000,  1.000], mean action: 0.125 [0.000, 1.000],  loss: 0.874262, mae: 6.276310, mean_q: 11.974018, mean_eps: 0.100000\n",
            " 2120/10000: episode: 101, duration: 0.199s, episode steps:  13, steps per second:  65, episode reward: 13.000, mean reward:  1.000 [ 1.000,  1.000], mean action: 0.231 [0.000, 1.000],  loss: 2.033255, mae: 6.436529, mean_q: 12.144532, mean_eps: 0.100000\n",
            " 2159/10000: episode: 102, duration: 0.525s, episode steps:  39, steps per second:  74, episode reward: 39.000, mean reward:  1.000 [ 1.000,  1.000], mean action: 0.385 [0.000, 1.000],  loss: 1.919153, mae: 6.472952, mean_q: 12.214198, mean_eps: 0.100000\n",
            " 2168/10000: episode: 103, duration: 0.126s, episode steps:   9, steps per second:  72, episode reward:  9.000, mean reward:  1.000 [ 1.000,  1.000], mean action: 0.111 [0.000, 1.000],  loss: 2.041067, mae: 6.536307, mean_q: 12.350581, mean_eps: 0.100000\n",
            " 2178/10000: episode: 104, duration: 0.164s, episode steps:  10, steps per second:  61, episode reward: 10.000, mean reward:  1.000 [ 1.000,  1.000], mean action: 0.100 [0.000, 1.000],  loss: 2.487501, mae: 6.534423, mean_q: 12.234716, mean_eps: 0.100000\n",
            " 2189/10000: episode: 105, duration: 0.155s, episode steps:  11, steps per second:  71, episode reward: 11.000, mean reward:  1.000 [ 1.000,  1.000], mean action: 0.091 [0.000, 1.000],  loss: 2.787535, mae: 6.608393, mean_q: 12.298689, mean_eps: 0.100000\n",
            " 2198/10000: episode: 106, duration: 0.129s, episode steps:   9, steps per second:  70, episode reward:  9.000, mean reward:  1.000 [ 1.000,  1.000], mean action: 0.000 [0.000, 0.000],  loss: 2.547132, mae: 6.653546, mean_q: 12.398090, mean_eps: 0.100000\n",
            " 2237/10000: episode: 107, duration: 0.527s, episode steps:  39, steps per second:  74, episode reward: 39.000, mean reward:  1.000 [ 1.000,  1.000], mean action: 0.436 [0.000, 1.000],  loss: 2.657832, mae: 6.651693, mean_q: 12.337183, mean_eps: 0.100000\n",
            " 2245/10000: episode: 108, duration: 0.123s, episode steps:   8, steps per second:  65, episode reward:  8.000, mean reward:  1.000 [ 1.000,  1.000], mean action: 0.000 [0.000, 0.000],  loss: 3.377439, mae: 6.718883, mean_q: 12.366002, mean_eps: 0.100000\n",
            " 2254/10000: episode: 109, duration: 0.137s, episode steps:   9, steps per second:  66, episode reward:  9.000, mean reward:  1.000 [ 1.000,  1.000], mean action: 0.000 [0.000, 0.000],  loss: 1.407157, mae: 6.536962, mean_q: 12.399238, mean_eps: 0.100000\n",
            " 2263/10000: episode: 110, duration: 0.131s, episode steps:   9, steps per second:  69, episode reward:  9.000, mean reward:  1.000 [ 1.000,  1.000], mean action: 0.000 [0.000, 0.000],  loss: 2.893332, mae: 6.706191, mean_q: 12.551322, mean_eps: 0.100000\n",
            " 2272/10000: episode: 111, duration: 0.135s, episode steps:   9, steps per second:  67, episode reward:  9.000, mean reward:  1.000 [ 1.000,  1.000], mean action: 0.000 [0.000, 0.000],  loss: 2.912334, mae: 6.812771, mean_q: 12.773242, mean_eps: 0.100000\n",
            " 2281/10000: episode: 112, duration: 0.126s, episode steps:   9, steps per second:  71, episode reward:  9.000, mean reward:  1.000 [ 1.000,  1.000], mean action: 0.000 [0.000, 0.000],  loss: 1.785730, mae: 6.633623, mean_q: 12.525187, mean_eps: 0.100000\n",
            " 2289/10000: episode: 113, duration: 0.084s, episode steps:   8, steps per second:  95, episode reward:  8.000, mean reward:  1.000 [ 1.000,  1.000], mean action: 0.000 [0.000, 0.000],  loss: 1.753600, mae: 6.686439, mean_q: 12.708776, mean_eps: 0.100000\n",
            " 2298/10000: episode: 114, duration: 0.090s, episode steps:   9, steps per second: 100, episode reward:  9.000, mean reward:  1.000 [ 1.000,  1.000], mean action: 0.000 [0.000, 0.000],  loss: 1.747050, mae: 6.808843, mean_q: 12.986933, mean_eps: 0.100000\n",
            " 2310/10000: episode: 115, duration: 0.118s, episode steps:  12, steps per second: 102, episode reward: 12.000, mean reward:  1.000 [ 1.000,  1.000], mean action: 0.083 [0.000, 1.000],  loss: 2.975309, mae: 6.903408, mean_q: 12.970684, mean_eps: 0.100000\n",
            " 2345/10000: episode: 116, duration: 0.327s, episode steps:  35, steps per second: 107, episode reward: 35.000, mean reward:  1.000 [ 1.000,  1.000], mean action: 0.486 [0.000, 1.000],  loss: 2.284099, mae: 6.800039, mean_q: 12.721330, mean_eps: 0.100000\n",
            " 2381/10000: episode: 117, duration: 0.333s, episode steps:  36, steps per second: 108, episode reward: 36.000, mean reward:  1.000 [ 1.000,  1.000], mean action: 0.389 [0.000, 1.000],  loss: 2.708801, mae: 6.862932, mean_q: 12.756642, mean_eps: 0.100000\n",
            " 2419/10000: episode: 118, duration: 0.349s, episode steps:  38, steps per second: 109, episode reward: 38.000, mean reward:  1.000 [ 1.000,  1.000], mean action: 0.553 [0.000, 1.000],  loss: 2.595501, mae: 6.907896, mean_q: 12.808790, mean_eps: 0.100000\n",
            " 2455/10000: episode: 119, duration: 0.340s, episode steps:  36, steps per second: 106, episode reward: 36.000, mean reward:  1.000 [ 1.000,  1.000], mean action: 0.500 [0.000, 1.000],  loss: 1.616501, mae: 6.918320, mean_q: 13.107164, mean_eps: 0.100000\n",
            " 2474/10000: episode: 120, duration: 0.176s, episode steps:  19, steps per second: 108, episode reward: 19.000, mean reward:  1.000 [ 1.000,  1.000], mean action: 0.421 [0.000, 1.000],  loss: 2.340081, mae: 7.035204, mean_q: 13.371785, mean_eps: 0.100000\n",
            " 2486/10000: episode: 121, duration: 0.131s, episode steps:  12, steps per second:  92, episode reward: 12.000, mean reward:  1.000 [ 1.000,  1.000], mean action: 0.333 [0.000, 1.000],  loss: 2.516417, mae: 7.057790, mean_q: 13.331002, mean_eps: 0.100000\n",
            " 2496/10000: episode: 122, duration: 0.101s, episode steps:  10, steps per second:  99, episode reward: 10.000, mean reward:  1.000 [ 1.000,  1.000], mean action: 0.300 [0.000, 1.000],  loss: 2.219013, mae: 7.010387, mean_q: 13.234753, mean_eps: 0.100000\n",
            " 2509/10000: episode: 123, duration: 0.127s, episode steps:  13, steps per second: 103, episode reward: 13.000, mean reward:  1.000 [ 1.000,  1.000], mean action: 0.385 [0.000, 1.000],  loss: 2.491093, mae: 7.116061, mean_q: 13.416744, mean_eps: 0.100000\n",
            " 2535/10000: episode: 124, duration: 0.243s, episode steps:  26, steps per second: 107, episode reward: 26.000, mean reward:  1.000 [ 1.000,  1.000], mean action: 0.385 [0.000, 1.000],  loss: 3.103546, mae: 7.132811, mean_q: 13.273302, mean_eps: 0.100000\n",
            " 2544/10000: episode: 125, duration: 0.091s, episode steps:   9, steps per second:  99, episode reward:  9.000, mean reward:  1.000 [ 1.000,  1.000], mean action: 0.000 [0.000, 0.000],  loss: 2.441691, mae: 7.074319, mean_q: 13.233165, mean_eps: 0.100000\n",
            " 2557/10000: episode: 126, duration: 0.130s, episode steps:  13, steps per second: 100, episode reward: 13.000, mean reward:  1.000 [ 1.000,  1.000], mean action: 0.385 [0.000, 1.000],  loss: 2.280853, mae: 7.158391, mean_q: 13.545363, mean_eps: 0.100000\n",
            " 2570/10000: episode: 127, duration: 0.124s, episode steps:  13, steps per second: 105, episode reward: 13.000, mean reward:  1.000 [ 1.000,  1.000], mean action: 0.308 [0.000, 1.000],  loss: 2.853769, mae: 7.090992, mean_q: 13.255760, mean_eps: 0.100000\n",
            " 2591/10000: episode: 128, duration: 0.203s, episode steps:  21, steps per second: 104, episode reward: 21.000, mean reward:  1.000 [ 1.000,  1.000], mean action: 0.476 [0.000, 1.000],  loss: 3.002277, mae: 7.141419, mean_q: 13.308451, mean_eps: 0.100000\n",
            " 2636/10000: episode: 129, duration: 0.426s, episode steps:  45, steps per second: 106, episode reward: 45.000, mean reward:  1.000 [ 1.000,  1.000], mean action: 0.511 [0.000, 1.000],  loss: 2.168317, mae: 7.180469, mean_q: 13.500528, mean_eps: 0.100000\n",
            " 2684/10000: episode: 130, duration: 0.441s, episode steps:  48, steps per second: 109, episode reward: 48.000, mean reward:  1.000 [ 1.000,  1.000], mean action: 0.500 [0.000, 1.000],  loss: 2.243278, mae: 7.224908, mean_q: 13.620471, mean_eps: 0.100000\n",
            " 2718/10000: episode: 131, duration: 0.318s, episode steps:  34, steps per second: 107, episode reward: 34.000, mean reward:  1.000 [ 1.000,  1.000], mean action: 0.500 [0.000, 1.000],  loss: 2.282636, mae: 7.247051, mean_q: 13.637666, mean_eps: 0.100000\n",
            " 2751/10000: episode: 132, duration: 0.305s, episode steps:  33, steps per second: 108, episode reward: 33.000, mean reward:  1.000 [ 1.000,  1.000], mean action: 0.455 [0.000, 1.000],  loss: 2.214107, mae: 7.357589, mean_q: 13.932516, mean_eps: 0.100000\n",
            " 2786/10000: episode: 133, duration: 0.335s, episode steps:  35, steps per second: 105, episode reward: 35.000, mean reward:  1.000 [ 1.000,  1.000], mean action: 0.514 [0.000, 1.000],  loss: 2.286128, mae: 7.364061, mean_q: 13.889782, mean_eps: 0.100000\n",
            " 2809/10000: episode: 134, duration: 0.206s, episode steps:  23, steps per second: 112, episode reward: 23.000, mean reward:  1.000 [ 1.000,  1.000], mean action: 0.478 [0.000, 1.000],  loss: 1.832035, mae: 7.458800, mean_q: 14.221378, mean_eps: 0.100000\n",
            " 2842/10000: episode: 135, duration: 0.294s, episode steps:  33, steps per second: 112, episode reward: 33.000, mean reward:  1.000 [ 1.000,  1.000], mean action: 0.485 [0.000, 1.000],  loss: 1.965412, mae: 7.525722, mean_q: 14.355062, mean_eps: 0.100000\n",
            " 2921/10000: episode: 136, duration: 0.720s, episode steps:  79, steps per second: 110, episode reward: 79.000, mean reward:  1.000 [ 1.000,  1.000], mean action: 0.506 [0.000, 1.000],  loss: 2.292251, mae: 7.620522, mean_q: 14.438068, mean_eps: 0.100000\n",
            " 2957/10000: episode: 137, duration: 0.334s, episode steps:  36, steps per second: 108, episode reward: 36.000, mean reward:  1.000 [ 1.000,  1.000], mean action: 0.500 [0.000, 1.000],  loss: 2.433269, mae: 7.772628, mean_q: 14.713182, mean_eps: 0.100000\n",
            " 3000/10000: episode: 138, duration: 0.412s, episode steps:  43, steps per second: 104, episode reward: 43.000, mean reward:  1.000 [ 1.000,  1.000], mean action: 0.512 [0.000, 1.000],  loss: 2.079714, mae: 7.746209, mean_q: 14.706708, mean_eps: 0.100000\n",
            " 3053/10000: episode: 139, duration: 0.481s, episode steps:  53, steps per second: 110, episode reward: 53.000, mean reward:  1.000 [ 1.000,  1.000], mean action: 0.491 [0.000, 1.000],  loss: 2.653334, mae: 7.810988, mean_q: 14.760430, mean_eps: 0.100000\n",
            " 3094/10000: episode: 140, duration: 0.372s, episode steps:  41, steps per second: 110, episode reward: 41.000, mean reward:  1.000 [ 1.000,  1.000], mean action: 0.512 [0.000, 1.000],  loss: 2.509610, mae: 7.901564, mean_q: 14.996889, mean_eps: 0.100000\n",
            " 3147/10000: episode: 141, duration: 0.486s, episode steps:  53, steps per second: 109, episode reward: 53.000, mean reward:  1.000 [ 1.000,  1.000], mean action: 0.509 [0.000, 1.000],  loss: 2.422172, mae: 7.923753, mean_q: 15.043225, mean_eps: 0.100000\n",
            " 3195/10000: episode: 142, duration: 0.453s, episode steps:  48, steps per second: 106, episode reward: 48.000, mean reward:  1.000 [ 1.000,  1.000], mean action: 0.521 [0.000, 1.000],  loss: 2.245652, mae: 8.073384, mean_q: 15.368970, mean_eps: 0.100000\n",
            " 3263/10000: episode: 143, duration: 0.620s, episode steps:  68, steps per second: 110, episode reward: 68.000, mean reward:  1.000 [ 1.000,  1.000], mean action: 0.485 [0.000, 1.000],  loss: 2.137784, mae: 8.093579, mean_q: 15.399462, mean_eps: 0.100000\n",
            " 3312/10000: episode: 144, duration: 0.462s, episode steps:  49, steps per second: 106, episode reward: 49.000, mean reward:  1.000 [ 1.000,  1.000], mean action: 0.531 [0.000, 1.000],  loss: 2.154047, mae: 8.296767, mean_q: 15.843980, mean_eps: 0.100000\n",
            " 3361/10000: episode: 145, duration: 0.538s, episode steps:  49, steps per second:  91, episode reward: 49.000, mean reward:  1.000 [ 1.000,  1.000], mean action: 0.510 [0.000, 1.000],  loss: 2.620311, mae: 8.407303, mean_q: 16.018357, mean_eps: 0.100000\n",
            " 3526/10000: episode: 146, duration: 2.121s, episode steps: 165, steps per second:  78, episode reward: 165.000, mean reward:  1.000 [ 1.000,  1.000], mean action: 0.491 [0.000, 1.000],  loss: 2.631488, mae: 8.586183, mean_q: 16.369125, mean_eps: 0.100000\n",
            " 3627/10000: episode: 147, duration: 0.933s, episode steps: 101, steps per second: 108, episode reward: 101.000, mean reward:  1.000 [ 1.000,  1.000], mean action: 0.485 [0.000, 1.000],  loss: 2.315838, mae: 8.854006, mean_q: 17.003849, mean_eps: 0.100000\n",
            " 3662/10000: episode: 148, duration: 0.328s, episode steps:  35, steps per second: 107, episode reward: 35.000, mean reward:  1.000 [ 1.000,  1.000], mean action: 0.543 [0.000, 1.000],  loss: 2.735731, mae: 9.029584, mean_q: 17.366392, mean_eps: 0.100000\n",
            " 3724/10000: episode: 149, duration: 0.594s, episode steps:  62, steps per second: 104, episode reward: 62.000, mean reward:  1.000 [ 1.000,  1.000], mean action: 0.484 [0.000, 1.000],  loss: 2.515939, mae: 9.045904, mean_q: 17.338190, mean_eps: 0.100000\n",
            " 3798/10000: episode: 150, duration: 0.703s, episode steps:  74, steps per second: 105, episode reward: 74.000, mean reward:  1.000 [ 1.000,  1.000], mean action: 0.514 [0.000, 1.000],  loss: 2.406635, mae: 9.158752, mean_q: 17.629959, mean_eps: 0.100000\n",
            " 3860/10000: episode: 151, duration: 0.567s, episode steps:  62, steps per second: 109, episode reward: 62.000, mean reward:  1.000 [ 1.000,  1.000], mean action: 0.516 [0.000, 1.000],  loss: 3.511803, mae: 9.384738, mean_q: 17.921141, mean_eps: 0.100000\n",
            " 3898/10000: episode: 152, duration: 0.348s, episode steps:  38, steps per second: 109, episode reward: 38.000, mean reward:  1.000 [ 1.000,  1.000], mean action: 0.526 [0.000, 1.000],  loss: 3.286370, mae: 9.405163, mean_q: 18.030241, mean_eps: 0.100000\n",
            " 3936/10000: episode: 153, duration: 0.353s, episode steps:  38, steps per second: 108, episode reward: 38.000, mean reward:  1.000 [ 1.000,  1.000], mean action: 0.526 [0.000, 1.000],  loss: 3.850635, mae: 9.572231, mean_q: 18.278230, mean_eps: 0.100000\n",
            " 4024/10000: episode: 154, duration: 0.798s, episode steps:  88, steps per second: 110, episode reward: 88.000, mean reward:  1.000 [ 1.000,  1.000], mean action: 0.511 [0.000, 1.000],  loss: 2.212658, mae: 9.650674, mean_q: 18.625364, mean_eps: 0.100000\n",
            " 4075/10000: episode: 155, duration: 0.476s, episode steps:  51, steps per second: 107, episode reward: 51.000, mean reward:  1.000 [ 1.000,  1.000], mean action: 0.529 [0.000, 1.000],  loss: 3.655049, mae: 9.848253, mean_q: 18.886103, mean_eps: 0.100000\n",
            " 4144/10000: episode: 156, duration: 0.625s, episode steps:  69, steps per second: 110, episode reward: 69.000, mean reward:  1.000 [ 1.000,  1.000], mean action: 0.507 [0.000, 1.000],  loss: 4.109909, mae: 9.947545, mean_q: 18.998936, mean_eps: 0.100000\n",
            " 4185/10000: episode: 157, duration: 0.372s, episode steps:  41, steps per second: 110, episode reward: 41.000, mean reward:  1.000 [ 1.000,  1.000], mean action: 0.537 [0.000, 1.000],  loss: 2.739383, mae: 9.933287, mean_q: 19.105597, mean_eps: 0.100000\n",
            " 4385/10000: episode: 158, duration: 1.806s, episode steps: 200, steps per second: 111, episode reward: 200.000, mean reward:  1.000 [ 1.000,  1.000], mean action: 0.490 [0.000, 1.000],  loss: 3.130213, mae: 10.245982, mean_q: 19.739370, mean_eps: 0.100000\n",
            " 4438/10000: episode: 159, duration: 0.487s, episode steps:  53, steps per second: 109, episode reward: 53.000, mean reward:  1.000 [ 1.000,  1.000], mean action: 0.528 [0.000, 1.000],  loss: 3.676634, mae: 10.513759, mean_q: 20.258247, mean_eps: 0.100000\n",
            " 4474/10000: episode: 160, duration: 0.339s, episode steps:  36, steps per second: 106, episode reward: 36.000, mean reward:  1.000 [ 1.000,  1.000], mean action: 0.528 [0.000, 1.000],  loss: 4.003379, mae: 10.588019, mean_q: 20.379589, mean_eps: 0.100000\n",
            " 4561/10000: episode: 161, duration: 0.781s, episode steps:  87, steps per second: 111, episode reward: 87.000, mean reward:  1.000 [ 1.000,  1.000], mean action: 0.517 [0.000, 1.000],  loss: 2.753412, mae: 10.682129, mean_q: 20.720187, mean_eps: 0.100000\n",
            " 4643/10000: episode: 162, duration: 0.834s, episode steps:  82, steps per second:  98, episode reward: 82.000, mean reward:  1.000 [ 1.000,  1.000], mean action: 0.524 [0.000, 1.000],  loss: 3.669969, mae: 10.980683, mean_q: 21.220607, mean_eps: 0.100000\n",
            " 4824/10000: episode: 163, duration: 2.308s, episode steps: 181, steps per second:  78, episode reward: 181.000, mean reward:  1.000 [ 1.000,  1.000], mean action: 0.486 [0.000, 1.000],  loss: 3.590246, mae: 11.177021, mean_q: 21.618992, mean_eps: 0.100000\n",
            " 4967/10000: episode: 164, duration: 1.301s, episode steps: 143, steps per second: 110, episode reward: 143.000, mean reward:  1.000 [ 1.000,  1.000], mean action: 0.510 [0.000, 1.000],  loss: 3.966009, mae: 11.472255, mean_q: 22.196652, mean_eps: 0.100000\n",
            " 5045/10000: episode: 165, duration: 0.715s, episode steps:  78, steps per second: 109, episode reward: 78.000, mean reward:  1.000 [ 1.000,  1.000], mean action: 0.526 [0.000, 1.000],  loss: 3.775813, mae: 11.646118, mean_q: 22.582540, mean_eps: 0.100000\n",
            " 5141/10000: episode: 166, duration: 0.881s, episode steps:  96, steps per second: 109, episode reward: 96.000, mean reward:  1.000 [ 1.000,  1.000], mean action: 0.479 [0.000, 1.000],  loss: 3.435851, mae: 11.780242, mean_q: 22.882359, mean_eps: 0.100000\n",
            " 5231/10000: episode: 167, duration: 0.812s, episode steps:  90, steps per second: 111, episode reward: 90.000, mean reward:  1.000 [ 1.000,  1.000], mean action: 0.533 [0.000, 1.000],  loss: 3.278430, mae: 12.027481, mean_q: 23.434805, mean_eps: 0.100000\n",
            " 5350/10000: episode: 168, duration: 1.089s, episode steps: 119, steps per second: 109, episode reward: 119.000, mean reward:  1.000 [ 1.000,  1.000], mean action: 0.479 [0.000, 1.000],  loss: 4.899673, mae: 12.249683, mean_q: 23.728569, mean_eps: 0.100000\n",
            " 5406/10000: episode: 169, duration: 0.517s, episode steps:  56, steps per second: 108, episode reward: 56.000, mean reward:  1.000 [ 1.000,  1.000], mean action: 0.536 [0.000, 1.000],  loss: 4.943762, mae: 12.348261, mean_q: 23.969061, mean_eps: 0.100000\n",
            " 5485/10000: episode: 170, duration: 0.748s, episode steps:  79, steps per second: 106, episode reward: 79.000, mean reward:  1.000 [ 1.000,  1.000], mean action: 0.532 [0.000, 1.000],  loss: 4.869697, mae: 12.458663, mean_q: 24.109513, mean_eps: 0.100000\n",
            " 5548/10000: episode: 171, duration: 0.576s, episode steps:  63, steps per second: 109, episode reward: 63.000, mean reward:  1.000 [ 1.000,  1.000], mean action: 0.540 [0.000, 1.000],  loss: 4.632277, mae: 12.557842, mean_q: 24.382340, mean_eps: 0.100000\n",
            " 5647/10000: episode: 172, duration: 0.886s, episode steps:  99, steps per second: 112, episode reward: 99.000, mean reward:  1.000 [ 1.000,  1.000], mean action: 0.515 [0.000, 1.000],  loss: 3.943662, mae: 12.746550, mean_q: 24.825830, mean_eps: 0.100000\n",
            " 5748/10000: episode: 173, duration: 0.920s, episode steps: 101, steps per second: 110, episode reward: 101.000, mean reward:  1.000 [ 1.000,  1.000], mean action: 0.525 [0.000, 1.000],  loss: 3.955563, mae: 13.019112, mean_q: 25.394805, mean_eps: 0.100000\n",
            " 5886/10000: episode: 174, duration: 1.241s, episode steps: 138, steps per second: 111, episode reward: 138.000, mean reward:  1.000 [ 1.000,  1.000], mean action: 0.522 [0.000, 1.000],  loss: 4.844130, mae: 13.213449, mean_q: 25.718255, mean_eps: 0.100000\n",
            " 5989/10000: episode: 175, duration: 1.273s, episode steps: 103, steps per second:  81, episode reward: 103.000, mean reward:  1.000 [ 1.000,  1.000], mean action: 0.524 [0.000, 1.000],  loss: 3.599482, mae: 13.404287, mean_q: 26.233537, mean_eps: 0.100000\n",
            " 6129/10000: episode: 176, duration: 1.684s, episode steps: 140, steps per second:  83, episode reward: 140.000, mean reward:  1.000 [ 1.000,  1.000], mean action: 0.521 [0.000, 1.000],  loss: 4.382015, mae: 13.618142, mean_q: 26.603647, mean_eps: 0.100000\n",
            " 6327/10000: episode: 177, duration: 1.798s, episode steps: 198, steps per second: 110, episode reward: 198.000, mean reward:  1.000 [ 1.000,  1.000], mean action: 0.490 [0.000, 1.000],  loss: 4.652212, mae: 14.000622, mean_q: 27.398405, mean_eps: 0.100000\n",
            " 6412/10000: episode: 178, duration: 0.772s, episode steps:  85, steps per second: 110, episode reward: 85.000, mean reward:  1.000 [ 1.000,  1.000], mean action: 0.529 [0.000, 1.000],  loss: 4.740929, mae: 14.239122, mean_q: 27.903501, mean_eps: 0.100000\n",
            " 6518/10000: episode: 179, duration: 1.010s, episode steps: 106, steps per second: 105, episode reward: 106.000, mean reward:  1.000 [ 1.000,  1.000], mean action: 0.528 [0.000, 1.000],  loss: 5.833897, mae: 14.442846, mean_q: 28.172059, mean_eps: 0.100000\n",
            " 6692/10000: episode: 180, duration: 1.607s, episode steps: 174, steps per second: 108, episode reward: 174.000, mean reward:  1.000 [ 1.000,  1.000], mean action: 0.523 [0.000, 1.000],  loss: 5.035517, mae: 14.647035, mean_q: 28.667084, mean_eps: 0.100000\n",
            " 6839/10000: episode: 181, duration: 1.362s, episode steps: 147, steps per second: 108, episode reward: 147.000, mean reward:  1.000 [ 1.000,  1.000], mean action: 0.524 [0.000, 1.000],  loss: 5.314290, mae: 14.906456, mean_q: 29.218067, mean_eps: 0.100000\n",
            " 7039/10000: episode: 182, duration: 1.840s, episode steps: 200, steps per second: 109, episode reward: 200.000, mean reward:  1.000 [ 1.000,  1.000], mean action: 0.510 [0.000, 1.000],  loss: 4.956579, mae: 15.190600, mean_q: 29.857143, mean_eps: 0.100000\n",
            " 7211/10000: episode: 183, duration: 1.758s, episode steps: 172, steps per second:  98, episode reward: 172.000, mean reward:  1.000 [ 1.000,  1.000], mean action: 0.523 [0.000, 1.000],  loss: 5.234532, mae: 15.613943, mean_q: 30.731560, mean_eps: 0.100000\n",
            " 7396/10000: episode: 184, duration: 2.306s, episode steps: 185, steps per second:  80, episode reward: 185.000, mean reward:  1.000 [ 1.000,  1.000], mean action: 0.535 [0.000, 1.000],  loss: 5.873767, mae: 15.909064, mean_q: 31.313487, mean_eps: 0.100000\n",
            " 7553/10000: episode: 185, duration: 1.444s, episode steps: 157, steps per second: 109, episode reward: 157.000, mean reward:  1.000 [ 1.000,  1.000], mean action: 0.541 [0.000, 1.000],  loss: 5.041512, mae: 16.182626, mean_q: 31.953274, mean_eps: 0.100000\n",
            " 7753/10000: episode: 186, duration: 1.824s, episode steps: 200, steps per second: 110, episode reward: 200.000, mean reward:  1.000 [ 1.000,  1.000], mean action: 0.525 [0.000, 1.000],  loss: 5.569420, mae: 16.421466, mean_q: 32.381343, mean_eps: 0.100000\n",
            " 7921/10000: episode: 187, duration: 1.542s, episode steps: 168, steps per second: 109, episode reward: 168.000, mean reward:  1.000 [ 1.000,  1.000], mean action: 0.524 [0.000, 1.000],  loss: 5.557504, mae: 16.653506, mean_q: 32.877587, mean_eps: 0.100000\n",
            " 8098/10000: episode: 188, duration: 1.655s, episode steps: 177, steps per second: 107, episode reward: 177.000, mean reward:  1.000 [ 1.000,  1.000], mean action: 0.520 [0.000, 1.000],  loss: 5.386988, mae: 16.890225, mean_q: 33.455252, mean_eps: 0.100000\n",
            " 8272/10000: episode: 189, duration: 1.601s, episode steps: 174, steps per second: 109, episode reward: 174.000, mean reward:  1.000 [ 1.000,  1.000], mean action: 0.517 [0.000, 1.000],  loss: 5.103282, mae: 17.135757, mean_q: 34.012797, mean_eps: 0.100000\n",
            " 8441/10000: episode: 190, duration: 1.610s, episode steps: 169, steps per second: 105, episode reward: 169.000, mean reward:  1.000 [ 1.000,  1.000], mean action: 0.533 [0.000, 1.000],  loss: 5.719436, mae: 17.366028, mean_q: 34.389082, mean_eps: 0.100000\n",
            " 8629/10000: episode: 191, duration: 2.465s, episode steps: 188, steps per second:  76, episode reward: 188.000, mean reward:  1.000 [ 1.000,  1.000], mean action: 0.521 [0.000, 1.000],  loss: 5.485017, mae: 17.672035, mean_q: 35.065744, mean_eps: 0.100000\n",
            " 8829/10000: episode: 192, duration: 1.836s, episode steps: 200, steps per second: 109, episode reward: 200.000, mean reward:  1.000 [ 1.000,  1.000], mean action: 0.510 [0.000, 1.000],  loss: 5.314120, mae: 17.887325, mean_q: 35.516947, mean_eps: 0.100000\n",
            " 9029/10000: episode: 193, duration: 1.839s, episode steps: 200, steps per second: 109, episode reward: 200.000, mean reward:  1.000 [ 1.000,  1.000], mean action: 0.505 [0.000, 1.000],  loss: 6.466749, mae: 18.139012, mean_q: 35.949698, mean_eps: 0.100000\n",
            " 9229/10000: episode: 194, duration: 1.821s, episode steps: 200, steps per second: 110, episode reward: 200.000, mean reward:  1.000 [ 1.000,  1.000], mean action: 0.510 [0.000, 1.000],  loss: 5.670745, mae: 18.486432, mean_q: 36.736212, mean_eps: 0.100000\n",
            " 9429/10000: episode: 195, duration: 1.819s, episode steps: 200, steps per second: 110, episode reward: 200.000, mean reward:  1.000 [ 1.000,  1.000], mean action: 0.510 [0.000, 1.000],  loss: 7.054805, mae: 18.797771, mean_q: 37.320824, mean_eps: 0.100000\n",
            " 9629/10000: episode: 196, duration: 1.810s, episode steps: 200, steps per second: 110, episode reward: 200.000, mean reward:  1.000 [ 1.000,  1.000], mean action: 0.510 [0.000, 1.000],  loss: 6.158516, mae: 18.982859, mean_q: 37.718488, mean_eps: 0.100000\n",
            " 9829/10000: episode: 197, duration: 2.261s, episode steps: 200, steps per second:  88, episode reward: 200.000, mean reward:  1.000 [ 1.000,  1.000], mean action: 0.515 [0.000, 1.000],  loss: 5.724733, mae: 19.180437, mean_q: 38.218364, mean_eps: 0.100000\n",
            "done, took 105.014 seconds\n"
          ]
        },
        {
          "output_type": "display_data",
          "data": {
            "text/plain": [
              "<Figure size 432x288 with 1 Axes>"
            ],
            "image/png": "[encoded data removed]"
          },
          "metadata": {
            "needs_background": "light"
          }
        },
        {
          "output_type": "stream",
          "name": "stdout",
          "text": [
            "Testing for 20 episodes ...\n",
            "Episode 1: reward: 200.000, steps: 200\n",
            "Episode 2: reward: 200.000, steps: 200\n",
            "Episode 3: reward: 200.000, steps: 200\n",
            "Episode 4: reward: 200.000, steps: 200\n",
            "Episode 5: reward: 200.000, steps: 200\n",
            "Episode 6: reward: 200.000, steps: 200\n",
            "Episode 7: reward: 200.000, steps: 200\n",
            "Episode 8: reward: 200.000, steps: 200\n",
            "Episode 9: reward: 200.000, steps: 200\n",
            "Episode 10: reward: 200.000, steps: 200\n",
            "Episode 11: reward: 200.000, steps: 200\n",
            "Episode 12: reward: 200.000, steps: 200\n",
            "Episode 13: reward: 200.000, steps: 200\n",
            "Episode 14: reward: 200.000, steps: 200\n",
            "Episode 15: reward: 200.000, steps: 200\n",
            "Episode 16: reward: 200.000, steps: 200\n",
            "Episode 17: reward: 200.000, steps: 200\n",
            "Episode 18: reward: 200.000, steps: 200\n",
            "Episode 19: reward: 200.000, steps: 200\n",
            "Episode 20: reward: 200.000, steps: 200\n"
          ]
        },
        {
          "output_type": "execute_result",
          "data": {
            "text/plain": [
              "<keras.callbacks.History at 0x7fce0a7fd790>"
            ]
          },
          "metadata": {},
          "execution_count": 38
        }
      ]
    },
    {
      "cell_type": "markdown",
      "source": [
        "### value_min=.4 & learning_rate=.0002"
      ],
      "metadata": {
        "id": "7hknfgtRdn0n"
      }
    },
    {
      "cell_type": "code",
      "metadata": {
        "colab": {
          "base_uri": "https://localhost:8080/"
        },
        "outputId": "bfac761c-7a6e-4750-925d-979c399d7f66",
        "id": "yFfbIOcA6J0H"
      },
      "source": [
        "memory = SequentialMemory(limit=10000, window_length=1)\n",
        "\n",
        "policy =  LinearAnnealedPolicy(inner_policy=EpsGreedyQPolicy(0.2), \n",
        "                               attr='eps',            \n",
        "                               value_max=1.,\n",
        "                               value_min=.4, \n",
        "                               value_test=.05,\n",
        "                               nb_steps=200)\n",
        "\n",
        "# Q-Network\n",
        "model = Sequential()\n",
        "model.add(Input(shape=(1,env.observation_space.shape[0])))  # The input is 1 observation vector, and the number of observations in that vector \n",
        "# add extra layers here\n",
        "model.add(Flatten())\n",
        "model.add(Dense(16, activation='relu'))\n",
        "model.add(Dense(16, activation='relu'))\n",
        "model.add(Dense(env.action_space.n, activation='linear'))   # the output is the number of actions in the action space\n",
        "print(model.summary())\n"
      ],
      "execution_count": null,
      "outputs": [
        {
          "output_type": "stream",
          "name": "stdout",
          "text": [
            "Model: \"sequential_8\"\n",
            "_________________________________________________________________\n",
            " Layer (type)                Output Shape              Param #   \n",
            "=================================================================\n",
            " flatten_8 (Flatten)         (None, 4)                 0         \n",
            "                                                                 \n",
            " dense_24 (Dense)            (None, 16)                80        \n",
            "                                                                 \n",
            " dense_25 (Dense)            (None, 16)                272       \n",
            "                                                                 \n",
            " dense_26 (Dense)            (None, 2)                 34        \n",
            "                                                                 \n",
            "=================================================================\n",
            "Total params: 386\n",
            "Trainable params: 386\n",
            "Non-trainable params: 0\n",
            "_________________________________________________________________\n",
            "None\n"
          ]
        }
      ]
    },
    {
      "cell_type": "code",
      "source": [
        "# define the agent\n",
        "dqn = DQNAgent(model=model, \n",
        "               nb_actions=env.action_space.n,\n",
        "               memory=memory,\n",
        "               nb_steps_warmup=10, # how many steps are waited before starting experience replay,\n",
        "               target_model_update=1e-2, \n",
        "               policy=policy) \n",
        "\n",
        "dqn.compile(Adam(learning_rate=.0002), metrics=['mae'])\n",
        "\n",
        "history = dqn.fit(env, nb_steps=1000, visualize=False, verbose=2)\n",
        "\n",
        "# summarize the history for number  of episode steps\n",
        "plt.plot(history.history['nb_episode_steps'])\n",
        "plt.ylabel('nb_episode_steps')\n",
        "plt.xlabel('episodes')\n",
        "plt.show()\n",
        "\n",
        "dqn.test(env, nb_episodes=20, visualize=False)"
      ],
      "metadata": {
        "colab": {
          "base_uri": "https://localhost:8080/",
          "height": 1000
        },
        "outputId": "7fc5a5b2-2a98-41f6-9e0a-dcaa353801a5",
        "id": "LIC1o-ka6J0I"
      },
      "execution_count": null,
      "outputs": [
        {
          "output_type": "stream",
          "name": "stdout",
          "text": [
            "Training for 1000 steps ...\n"
          ]
        },
        {
          "output_type": "stream",
          "name": "stderr",
          "text": [
            "/usr/local/lib/python3.9/dist-packages/keras/engine/training_v1.py:2357: UserWarning: `Model.state_updates` will be removed in a future version. This property should not be used in TensorFlow 2.0, as `updates` are applied automatically.\n",
            "  updates=self.state_updates,\n",
            "/usr/local/lib/python3.9/dist-packages/rl/memory.py:37: UserWarning: Not enough entries to sample without replacement. Consider increasing your warm-up phase to avoid oversampling!\n",
            "  warnings.warn('Not enough entries to sample without replacement. Consider increasing your warm-up phase to avoid oversampling!')\n",
            "/usr/local/lib/python3.9/dist-packages/rl/memory.py:38: DeprecationWarning: This function is deprecated. Please call randint(1, 10 + 1) instead\n",
            "  batch_idxs = np.random.random_integers(low, high - 1, size=size)\n",
            "/usr/local/lib/python3.9/dist-packages/rl/memory.py:38: DeprecationWarning: This function is deprecated. Please call randint(1, 11 + 1) instead\n",
            "  batch_idxs = np.random.random_integers(low, high - 1, size=size)\n",
            "/usr/local/lib/python3.9/dist-packages/rl/memory.py:38: DeprecationWarning: This function is deprecated. Please call randint(1, 12 + 1) instead\n",
            "  batch_idxs = np.random.random_integers(low, high - 1, size=size)\n",
            "/usr/local/lib/python3.9/dist-packages/rl/memory.py:38: DeprecationWarning: This function is deprecated. Please call randint(1, 13 + 1) instead\n",
            "  batch_idxs = np.random.random_integers(low, high - 1, size=size)\n",
            "/usr/local/lib/python3.9/dist-packages/rl/memory.py:38: DeprecationWarning: This function is deprecated. Please call randint(1, 14 + 1) instead\n",
            "  batch_idxs = np.random.random_integers(low, high - 1, size=size)\n",
            "/usr/local/lib/python3.9/dist-packages/rl/memory.py:38: DeprecationWarning: This function is deprecated. Please call randint(1, 15 + 1) instead\n",
            "  batch_idxs = np.random.random_integers(low, high - 1, size=size)\n",
            "/usr/local/lib/python3.9/dist-packages/rl/memory.py:38: DeprecationWarning: This function is deprecated. Please call randint(1, 16 + 1) instead\n",
            "  batch_idxs = np.random.random_integers(low, high - 1, size=size)\n",
            "/usr/local/lib/python3.9/dist-packages/rl/memory.py:38: DeprecationWarning: This function is deprecated. Please call randint(1, 17 + 1) instead\n",
            "  batch_idxs = np.random.random_integers(low, high - 1, size=size)\n",
            "/usr/local/lib/python3.9/dist-packages/rl/memory.py:38: DeprecationWarning: This function is deprecated. Please call randint(1, 18 + 1) instead\n",
            "  batch_idxs = np.random.random_integers(low, high - 1, size=size)\n",
            "/usr/local/lib/python3.9/dist-packages/rl/memory.py:38: DeprecationWarning: This function is deprecated. Please call randint(1, 19 + 1) instead\n",
            "  batch_idxs = np.random.random_integers(low, high - 1, size=size)\n",
            "/usr/local/lib/python3.9/dist-packages/rl/memory.py:38: DeprecationWarning: This function is deprecated. Please call randint(1, 20 + 1) instead\n",
            "  batch_idxs = np.random.random_integers(low, high - 1, size=size)\n",
            "/usr/local/lib/python3.9/dist-packages/rl/memory.py:38: DeprecationWarning: This function is deprecated. Please call randint(1, 21 + 1) instead\n",
            "  batch_idxs = np.random.random_integers(low, high - 1, size=size)\n",
            "/usr/local/lib/python3.9/dist-packages/rl/memory.py:38: DeprecationWarning: This function is deprecated. Please call randint(1, 22 + 1) instead\n",
            "  batch_idxs = np.random.random_integers(low, high - 1, size=size)\n",
            "/usr/local/lib/python3.9/dist-packages/rl/memory.py:38: DeprecationWarning: This function is deprecated. Please call randint(1, 23 + 1) instead\n",
            "  batch_idxs = np.random.random_integers(low, high - 1, size=size)\n",
            "/usr/local/lib/python3.9/dist-packages/rl/memory.py:38: DeprecationWarning: This function is deprecated. Please call randint(1, 24 + 1) instead\n",
            "  batch_idxs = np.random.random_integers(low, high - 1, size=size)\n",
            "/usr/local/lib/python3.9/dist-packages/rl/memory.py:38: DeprecationWarning: This function is deprecated. Please call randint(1, 25 + 1) instead\n",
            "  batch_idxs = np.random.random_integers(low, high - 1, size=size)\n",
            "/usr/local/lib/python3.9/dist-packages/rl/memory.py:38: DeprecationWarning: This function is deprecated. Please call randint(1, 26 + 1) instead\n",
            "  batch_idxs = np.random.random_integers(low, high - 1, size=size)\n",
            "/usr/local/lib/python3.9/dist-packages/rl/memory.py:38: DeprecationWarning: This function is deprecated. Please call randint(1, 27 + 1) instead\n",
            "  batch_idxs = np.random.random_integers(low, high - 1, size=size)\n",
            "/usr/local/lib/python3.9/dist-packages/rl/memory.py:38: DeprecationWarning: This function is deprecated. Please call randint(1, 28 + 1) instead\n",
            "  batch_idxs = np.random.random_integers(low, high - 1, size=size)\n",
            "/usr/local/lib/python3.9/dist-packages/rl/memory.py:38: DeprecationWarning: This function is deprecated. Please call randint(1, 29 + 1) instead\n",
            "  batch_idxs = np.random.random_integers(low, high - 1, size=size)\n",
            "/usr/local/lib/python3.9/dist-packages/rl/memory.py:38: DeprecationWarning: This function is deprecated. Please call randint(1, 30 + 1) instead\n",
            "  batch_idxs = np.random.random_integers(low, high - 1, size=size)\n",
            "/usr/local/lib/python3.9/dist-packages/rl/memory.py:37: UserWarning: Not enough entries to sample without replacement. Consider increasing your warm-up phase to avoid oversampling!\n",
            "  warnings.warn('Not enough entries to sample without replacement. Consider increasing your warm-up phase to avoid oversampling!')\n",
            "/usr/local/lib/python3.9/dist-packages/rl/memory.py:38: DeprecationWarning: This function is deprecated. Please call randint(1, 31 + 1) instead\n",
            "  batch_idxs = np.random.random_integers(low, high - 1, size=size)\n"
          ]
        },
        {
          "output_type": "stream",
          "name": "stdout",
          "text": [
            "  31/1000: episode: 1, duration: 2.738s, episode steps:  31, steps per second:  11, episode reward: 31.000, mean reward:  1.000 [ 1.000,  1.000], mean action: 0.613 [0.000, 1.000],  loss: 0.520276, mae: 0.537390, mean_q: -0.024490, mean_eps: 0.938500\n",
            "  50/1000: episode: 2, duration: 0.118s, episode steps:  19, steps per second: 161, episode reward: 19.000, mean reward:  1.000 [ 1.000,  1.000], mean action: 0.632 [0.000, 1.000],  loss: 0.506533, mae: 0.549730, mean_q: -0.045345, mean_eps: 0.880000\n",
            "  87/1000: episode: 3, duration: 0.211s, episode steps:  37, steps per second: 175, episode reward: 37.000, mean reward:  1.000 [ 1.000,  1.000], mean action: 0.459 [0.000, 1.000],  loss: 0.472664, mae: 0.517763, mean_q: 0.018000, mean_eps: 0.796000\n",
            " 109/1000: episode: 4, duration: 0.131s, episode steps:  22, steps per second: 168, episode reward: 22.000, mean reward:  1.000 [ 1.000,  1.000], mean action: 0.318 [0.000, 1.000],  loss: 0.452102, mae: 0.509415, mean_q: 0.082310, mean_eps: 0.707500\n",
            " 129/1000: episode: 5, duration: 0.121s, episode steps:  20, steps per second: 165, episode reward: 20.000, mean reward:  1.000 [ 1.000,  1.000], mean action: 0.500 [0.000, 1.000],  loss: 0.432821, mae: 0.510985, mean_q: 0.147969, mean_eps: 0.644500\n",
            " 145/1000: episode: 6, duration: 0.105s, episode steps:  16, steps per second: 152, episode reward: 16.000, mean reward:  1.000 [ 1.000,  1.000], mean action: 0.312 [0.000, 1.000],  loss: 0.412630, mae: 0.514310, mean_q: 0.194336, mean_eps: 0.590500\n",
            " 155/1000: episode: 7, duration: 0.061s, episode steps:  10, steps per second: 165, episode reward: 10.000, mean reward:  1.000 [ 1.000,  1.000], mean action: 0.100 [0.000, 1.000],  loss: 0.416190, mae: 0.531388, mean_q: 0.225915, mean_eps: 0.551500\n",
            " 164/1000: episode: 8, duration: 0.058s, episode steps:   9, steps per second: 156, episode reward:  9.000, mean reward:  1.000 [ 1.000,  1.000], mean action: 0.111 [0.000, 1.000],  loss: 0.401067, mae: 0.536943, mean_q: 0.274425, mean_eps: 0.523000\n",
            " 182/1000: episode: 9, duration: 0.099s, episode steps:  18, steps per second: 181, episode reward: 18.000, mean reward:  1.000 [ 1.000,  1.000], mean action: 0.333 [0.000, 1.000],  loss: 0.392280, mae: 0.544007, mean_q: 0.319760, mean_eps: 0.482500\n",
            " 206/1000: episode: 10, duration: 0.151s, episode steps:  24, steps per second: 159, episode reward: 24.000, mean reward:  1.000 [ 1.000,  1.000], mean action: 0.458 [0.000, 1.000],  loss: 0.386046, mae: 0.553459, mean_q: 0.367720, mean_eps: 0.421375\n",
            " 219/1000: episode: 11, duration: 0.086s, episode steps:  13, steps per second: 151, episode reward: 13.000, mean reward:  1.000 [ 1.000,  1.000], mean action: 0.154 [0.000, 1.000],  loss: 0.382238, mae: 0.575851, mean_q: 0.430545, mean_eps: 0.400000\n",
            " 230/1000: episode: 12, duration: 0.067s, episode steps:  11, steps per second: 165, episode reward: 11.000, mean reward:  1.000 [ 1.000,  1.000], mean action: 0.091 [0.000, 1.000],  loss: 0.373660, mae: 0.573599, mean_q: 0.466955, mean_eps: 0.400000\n",
            " 251/1000: episode: 13, duration: 0.125s, episode steps:  21, steps per second: 167, episode reward: 21.000, mean reward:  1.000 [ 1.000,  1.000], mean action: 0.333 [0.000, 1.000],  loss: 0.366985, mae: 0.592188, mean_q: 0.541811, mean_eps: 0.400000\n",
            " 261/1000: episode: 14, duration: 0.065s, episode steps:  10, steps per second: 154, episode reward: 10.000, mean reward:  1.000 [ 1.000,  1.000], mean action: 0.100 [0.000, 1.000],  loss: 0.357941, mae: 0.613744, mean_q: 0.633092, mean_eps: 0.400000\n",
            " 274/1000: episode: 15, duration: 0.082s, episode steps:  13, steps per second: 159, episode reward: 13.000, mean reward:  1.000 [ 1.000,  1.000], mean action: 0.308 [0.000, 1.000],  loss: 0.365977, mae: 0.633131, mean_q: 0.668417, mean_eps: 0.400000\n",
            " 294/1000: episode: 16, duration: 0.118s, episode steps:  20, steps per second: 169, episode reward: 20.000, mean reward:  1.000 [ 1.000,  1.000], mean action: 0.400 [0.000, 1.000],  loss: 0.370412, mae: 0.659356, mean_q: 0.712076, mean_eps: 0.400000\n",
            " 315/1000: episode: 17, duration: 0.124s, episode steps:  21, steps per second: 169, episode reward: 21.000, mean reward:  1.000 [ 1.000,  1.000], mean action: 0.286 [0.000, 1.000],  loss: 0.370506, mae: 0.683914, mean_q: 0.763988, mean_eps: 0.400000\n",
            " 330/1000: episode: 18, duration: 0.092s, episode steps:  15, steps per second: 162, episode reward: 15.000, mean reward:  1.000 [ 1.000,  1.000], mean action: 0.200 [0.000, 1.000],  loss: 0.357981, mae: 0.695693, mean_q: 0.876557, mean_eps: 0.400000\n",
            " 340/1000: episode: 19, duration: 0.062s, episode steps:  10, steps per second: 160, episode reward: 10.000, mean reward:  1.000 [ 1.000,  1.000], mean action: 0.200 [0.000, 1.000],  loss: 0.373508, mae: 0.745266, mean_q: 0.975481, mean_eps: 0.400000\n",
            " 351/1000: episode: 20, duration: 0.089s, episode steps:  11, steps per second: 124, episode reward: 11.000, mean reward:  1.000 [ 1.000,  1.000], mean action: 0.182 [0.000, 1.000],  loss: 0.350534, mae: 0.738991, mean_q: 1.008028, mean_eps: 0.400000\n",
            " 362/1000: episode: 21, duration: 0.071s, episode steps:  11, steps per second: 155, episode reward: 11.000, mean reward:  1.000 [ 1.000,  1.000], mean action: 0.182 [0.000, 1.000],  loss: 0.357512, mae: 0.757310, mean_q: 1.042793, mean_eps: 0.400000\n",
            " 372/1000: episode: 22, duration: 0.071s, episode steps:  10, steps per second: 141, episode reward: 10.000, mean reward:  1.000 [ 1.000,  1.000], mean action: 0.000 [0.000, 0.000],  loss: 0.365517, mae: 0.796533, mean_q: 1.152791, mean_eps: 0.400000\n",
            " 386/1000: episode: 23, duration: 0.081s, episode steps:  14, steps per second: 174, episode reward: 14.000, mean reward:  1.000 [ 1.000,  1.000], mean action: 0.429 [0.000, 1.000],  loss: 0.383824, mae: 0.803313, mean_q: 1.155110, mean_eps: 0.400000\n",
            " 398/1000: episode: 24, duration: 0.072s, episode steps:  12, steps per second: 167, episode reward: 12.000, mean reward:  1.000 [ 1.000,  1.000], mean action: 0.167 [0.000, 1.000],  loss: 0.378818, mae: 0.835862, mean_q: 1.200230, mean_eps: 0.400000\n",
            " 408/1000: episode: 25, duration: 0.058s, episode steps:  10, steps per second: 173, episode reward: 10.000, mean reward:  1.000 [ 1.000,  1.000], mean action: 0.100 [0.000, 1.000],  loss: 0.370890, mae: 0.857562, mean_q: 1.329697, mean_eps: 0.400000\n",
            " 419/1000: episode: 26, duration: 0.060s, episode steps:  11, steps per second: 183, episode reward: 11.000, mean reward:  1.000 [ 1.000,  1.000], mean action: 0.091 [0.000, 1.000],  loss: 0.384710, mae: 0.875686, mean_q: 1.343811, mean_eps: 0.400000\n",
            " 435/1000: episode: 27, duration: 0.100s, episode steps:  16, steps per second: 160, episode reward: 16.000, mean reward:  1.000 [ 1.000,  1.000], mean action: 0.375 [0.000, 1.000],  loss: 0.415732, mae: 0.919043, mean_q: 1.444208, mean_eps: 0.400000\n",
            " 444/1000: episode: 28, duration: 0.059s, episode steps:   9, steps per second: 153, episode reward:  9.000, mean reward:  1.000 [ 1.000,  1.000], mean action: 0.000 [0.000, 0.000],  loss: 0.404971, mae: 0.929458, mean_q: 1.457474, mean_eps: 0.400000\n",
            " 460/1000: episode: 29, duration: 0.093s, episode steps:  16, steps per second: 171, episode reward: 16.000, mean reward:  1.000 [ 1.000,  1.000], mean action: 0.312 [0.000, 1.000],  loss: 0.417446, mae: 0.975865, mean_q: 1.559335, mean_eps: 0.400000\n",
            " 473/1000: episode: 30, duration: 0.079s, episode steps:  13, steps per second: 164, episode reward: 13.000, mean reward:  1.000 [ 1.000,  1.000], mean action: 0.308 [0.000, 1.000],  loss: 0.405582, mae: 1.001702, mean_q: 1.650485, mean_eps: 0.400000\n",
            " 485/1000: episode: 31, duration: 0.079s, episode steps:  12, steps per second: 152, episode reward: 12.000, mean reward:  1.000 [ 1.000,  1.000], mean action: 0.250 [0.000, 1.000],  loss: 0.445486, mae: 1.074849, mean_q: 1.814840, mean_eps: 0.400000\n",
            " 494/1000: episode: 32, duration: 0.057s, episode steps:   9, steps per second: 157, episode reward:  9.000, mean reward:  1.000 [ 1.000,  1.000], mean action: 0.111 [0.000, 1.000],  loss: 0.447566, mae: 1.087009, mean_q: 1.836256, mean_eps: 0.400000\n",
            " 504/1000: episode: 33, duration: 0.075s, episode steps:  10, steps per second: 134, episode reward: 10.000, mean reward:  1.000 [ 1.000,  1.000], mean action: 0.100 [0.000, 1.000],  loss: 0.427648, mae: 1.093892, mean_q: 1.862871, mean_eps: 0.400000\n",
            " 512/1000: episode: 34, duration: 0.051s, episode steps:   8, steps per second: 158, episode reward:  8.000, mean reward:  1.000 [ 1.000,  1.000], mean action: 0.000 [0.000, 0.000],  loss: 0.462521, mae: 1.138824, mean_q: 1.929062, mean_eps: 0.400000\n",
            " 522/1000: episode: 35, duration: 0.061s, episode steps:  10, steps per second: 163, episode reward: 10.000, mean reward:  1.000 [ 1.000,  1.000], mean action: 0.100 [0.000, 1.000],  loss: 0.443952, mae: 1.151829, mean_q: 1.994437, mean_eps: 0.400000\n",
            " 532/1000: episode: 36, duration: 0.071s, episode steps:  10, steps per second: 141, episode reward: 10.000, mean reward:  1.000 [ 1.000,  1.000], mean action: 0.100 [0.000, 1.000],  loss: 0.458724, mae: 1.195087, mean_q: 2.094204, mean_eps: 0.400000\n",
            " 544/1000: episode: 37, duration: 0.077s, episode steps:  12, steps per second: 155, episode reward: 12.000, mean reward:  1.000 [ 1.000,  1.000], mean action: 0.417 [0.000, 1.000],  loss: 0.539180, mae: 1.237529, mean_q: 2.115984, mean_eps: 0.400000\n",
            " 557/1000: episode: 38, duration: 0.088s, episode steps:  13, steps per second: 147, episode reward: 13.000, mean reward:  1.000 [ 1.000,  1.000], mean action: 0.154 [0.000, 1.000],  loss: 0.502446, mae: 1.257521, mean_q: 2.212100, mean_eps: 0.400000\n",
            " 565/1000: episode: 39, duration: 0.052s, episode steps:   8, steps per second: 153, episode reward:  8.000, mean reward:  1.000 [ 1.000,  1.000], mean action: 0.000 [0.000, 0.000],  loss: 0.702001, mae: 1.363663, mean_q: 2.375910, mean_eps: 0.400000\n",
            " 575/1000: episode: 40, duration: 0.066s, episode steps:  10, steps per second: 152, episode reward: 10.000, mean reward:  1.000 [ 1.000,  1.000], mean action: 0.200 [0.000, 1.000],  loss: 0.525653, mae: 1.338562, mean_q: 2.340475, mean_eps: 0.400000\n",
            " 587/1000: episode: 41, duration: 0.072s, episode steps:  12, steps per second: 166, episode reward: 12.000, mean reward:  1.000 [ 1.000,  1.000], mean action: 0.250 [0.000, 1.000],  loss: 0.610984, mae: 1.369161, mean_q: 2.384081, mean_eps: 0.400000\n",
            " 602/1000: episode: 42, duration: 0.080s, episode steps:  15, steps per second: 187, episode reward: 15.000, mean reward:  1.000 [ 1.000,  1.000], mean action: 0.267 [0.000, 1.000],  loss: 0.576616, mae: 1.417392, mean_q: 2.488825, mean_eps: 0.400000\n",
            " 614/1000: episode: 43, duration: 0.068s, episode steps:  12, steps per second: 177, episode reward: 12.000, mean reward:  1.000 [ 1.000,  1.000], mean action: 0.167 [0.000, 1.000],  loss: 0.699041, mae: 1.478806, mean_q: 2.579227, mean_eps: 0.400000\n",
            " 632/1000: episode: 44, duration: 0.093s, episode steps:  18, steps per second: 194, episode reward: 18.000, mean reward:  1.000 [ 1.000,  1.000], mean action: 0.333 [0.000, 1.000],  loss: 0.620458, mae: 1.496191, mean_q: 2.673341, mean_eps: 0.400000\n",
            " 641/1000: episode: 45, duration: 0.050s, episode steps:   9, steps per second: 179, episode reward:  9.000, mean reward:  1.000 [ 1.000,  1.000], mean action: 0.000 [0.000, 0.000],  loss: 0.546821, mae: 1.437762, mean_q: 2.653385, mean_eps: 0.400000\n",
            " 650/1000: episode: 46, duration: 0.054s, episode steps:   9, steps per second: 168, episode reward:  9.000, mean reward:  1.000 [ 1.000,  1.000], mean action: 0.000 [0.000, 0.000],  loss: 0.749774, mae: 1.586959, mean_q: 2.842191, mean_eps: 0.400000\n",
            " 660/1000: episode: 47, duration: 0.072s, episode steps:  10, steps per second: 139, episode reward: 10.000, mean reward:  1.000 [ 1.000,  1.000], mean action: 0.100 [0.000, 1.000],  loss: 0.731714, mae: 1.625406, mean_q: 3.014259, mean_eps: 0.400000\n",
            " 672/1000: episode: 48, duration: 0.080s, episode steps:  12, steps per second: 150, episode reward: 12.000, mean reward:  1.000 [ 1.000,  1.000], mean action: 0.167 [0.000, 1.000],  loss: 0.871605, mae: 1.631670, mean_q: 2.957376, mean_eps: 0.400000\n",
            " 682/1000: episode: 49, duration: 0.065s, episode steps:  10, steps per second: 153, episode reward: 10.000, mean reward:  1.000 [ 1.000,  1.000], mean action: 0.100 [0.000, 1.000],  loss: 0.873828, mae: 1.689978, mean_q: 2.996146, mean_eps: 0.400000\n",
            " 696/1000: episode: 50, duration: 0.103s, episode steps:  14, steps per second: 136, episode reward: 14.000, mean reward:  1.000 [ 1.000,  1.000], mean action: 0.214 [0.000, 1.000],  loss: 0.788947, mae: 1.686929, mean_q: 3.059851, mean_eps: 0.400000\n",
            " 709/1000: episode: 51, duration: 0.081s, episode steps:  13, steps per second: 160, episode reward: 13.000, mean reward:  1.000 [ 1.000,  1.000], mean action: 0.308 [0.000, 1.000],  loss: 1.037030, mae: 1.787098, mean_q: 3.074399, mean_eps: 0.400000\n",
            " 719/1000: episode: 52, duration: 0.067s, episode steps:  10, steps per second: 148, episode reward: 10.000, mean reward:  1.000 [ 1.000,  1.000], mean action: 0.100 [0.000, 1.000],  loss: 0.889341, mae: 1.758763, mean_q: 3.083980, mean_eps: 0.400000\n",
            " 729/1000: episode: 53, duration: 0.066s, episode steps:  10, steps per second: 152, episode reward: 10.000, mean reward:  1.000 [ 1.000,  1.000], mean action: 0.100 [0.000, 1.000],  loss: 0.788913, mae: 1.740040, mean_q: 3.134026, mean_eps: 0.400000\n",
            " 739/1000: episode: 54, duration: 0.063s, episode steps:  10, steps per second: 160, episode reward: 10.000, mean reward:  1.000 [ 1.000,  1.000], mean action: 0.100 [0.000, 1.000],  loss: 0.890851, mae: 1.844569, mean_q: 3.310569, mean_eps: 0.400000\n",
            " 765/1000: episode: 55, duration: 0.149s, episode steps:  26, steps per second: 175, episode reward: 26.000, mean reward:  1.000 [ 1.000,  1.000], mean action: 0.385 [0.000, 1.000],  loss: 0.961020, mae: 1.876475, mean_q: 3.411643, mean_eps: 0.400000\n",
            " 779/1000: episode: 56, duration: 0.079s, episode steps:  14, steps per second: 177, episode reward: 14.000, mean reward:  1.000 [ 1.000,  1.000], mean action: 0.214 [0.000, 1.000],  loss: 1.036251, mae: 1.961485, mean_q: 3.494324, mean_eps: 0.400000\n",
            " 792/1000: episode: 57, duration: 0.078s, episode steps:  13, steps per second: 167, episode reward: 13.000, mean reward:  1.000 [ 1.000,  1.000], mean action: 0.231 [0.000, 1.000],  loss: 1.048857, mae: 2.003790, mean_q: 3.634070, mean_eps: 0.400000\n",
            " 802/1000: episode: 58, duration: 0.070s, episode steps:  10, steps per second: 142, episode reward: 10.000, mean reward:  1.000 [ 1.000,  1.000], mean action: 0.100 [0.000, 1.000],  loss: 1.225534, mae: 2.061545, mean_q: 3.644687, mean_eps: 0.400000\n",
            " 814/1000: episode: 59, duration: 0.076s, episode steps:  12, steps per second: 158, episode reward: 12.000, mean reward:  1.000 [ 1.000,  1.000], mean action: 0.167 [0.000, 1.000],  loss: 0.985030, mae: 2.023198, mean_q: 3.592086, mean_eps: 0.400000\n",
            " 826/1000: episode: 60, duration: 0.075s, episode steps:  12, steps per second: 160, episode reward: 12.000, mean reward:  1.000 [ 1.000,  1.000], mean action: 0.417 [0.000, 1.000],  loss: 1.055895, mae: 2.080966, mean_q: 3.772544, mean_eps: 0.400000\n",
            " 839/1000: episode: 61, duration: 0.086s, episode steps:  13, steps per second: 151, episode reward: 13.000, mean reward:  1.000 [ 1.000,  1.000], mean action: 0.308 [0.000, 1.000],  loss: 1.032340, mae: 2.132738, mean_q: 3.873269, mean_eps: 0.400000\n",
            " 852/1000: episode: 62, duration: 0.084s, episode steps:  13, steps per second: 155, episode reward: 13.000, mean reward:  1.000 [ 1.000,  1.000], mean action: 0.231 [0.000, 1.000],  loss: 1.224501, mae: 2.223869, mean_q: 3.993343, mean_eps: 0.400000\n",
            " 862/1000: episode: 63, duration: 0.069s, episode steps:  10, steps per second: 146, episode reward: 10.000, mean reward:  1.000 [ 1.000,  1.000], mean action: 0.100 [0.000, 1.000],  loss: 1.367052, mae: 2.265496, mean_q: 3.984593, mean_eps: 0.400000\n",
            " 872/1000: episode: 64, duration: 0.074s, episode steps:  10, steps per second: 136, episode reward: 10.000, mean reward:  1.000 [ 1.000,  1.000], mean action: 0.100 [0.000, 1.000],  loss: 1.256464, mae: 2.257424, mean_q: 4.066772, mean_eps: 0.400000\n",
            " 885/1000: episode: 65, duration: 0.081s, episode steps:  13, steps per second: 160, episode reward: 13.000, mean reward:  1.000 [ 1.000,  1.000], mean action: 0.154 [0.000, 1.000],  loss: 0.991037, mae: 2.208777, mean_q: 4.060070, mean_eps: 0.400000\n",
            " 899/1000: episode: 66, duration: 0.089s, episode steps:  14, steps per second: 156, episode reward: 14.000, mean reward:  1.000 [ 1.000,  1.000], mean action: 0.214 [0.000, 1.000],  loss: 1.543993, mae: 2.357294, mean_q: 4.184721, mean_eps: 0.400000\n",
            " 909/1000: episode: 67, duration: 0.066s, episode steps:  10, steps per second: 151, episode reward: 10.000, mean reward:  1.000 [ 1.000,  1.000], mean action: 0.100 [0.000, 1.000],  loss: 0.911927, mae: 2.197104, mean_q: 4.082042, mean_eps: 0.400000\n",
            " 924/1000: episode: 68, duration: 0.091s, episode steps:  15, steps per second: 164, episode reward: 15.000, mean reward:  1.000 [ 1.000,  1.000], mean action: 0.400 [0.000, 1.000],  loss: 1.240820, mae: 2.364888, mean_q: 4.283570, mean_eps: 0.400000\n",
            " 937/1000: episode: 69, duration: 0.083s, episode steps:  13, steps per second: 157, episode reward: 13.000, mean reward:  1.000 [ 1.000,  1.000], mean action: 0.231 [0.000, 1.000],  loss: 1.246074, mae: 2.347294, mean_q: 4.329601, mean_eps: 0.400000\n",
            " 954/1000: episode: 70, duration: 0.110s, episode steps:  17, steps per second: 154, episode reward: 17.000, mean reward:  1.000 [ 1.000,  1.000], mean action: 0.294 [0.000, 1.000],  loss: 1.133424, mae: 2.397543, mean_q: 4.441757, mean_eps: 0.400000\n",
            " 970/1000: episode: 71, duration: 0.103s, episode steps:  16, steps per second: 156, episode reward: 16.000, mean reward:  1.000 [ 1.000,  1.000], mean action: 0.188 [0.000, 1.000],  loss: 1.265656, mae: 2.471955, mean_q: 4.613019, mean_eps: 0.400000\n",
            " 979/1000: episode: 72, duration: 0.057s, episode steps:   9, steps per second: 158, episode reward:  9.000, mean reward:  1.000 [ 1.000,  1.000], mean action: 0.111 [0.000, 1.000],  loss: 1.157320, mae: 2.459779, mean_q: 4.637633, mean_eps: 0.400000\n",
            " 989/1000: episode: 73, duration: 0.066s, episode steps:  10, steps per second: 151, episode reward: 10.000, mean reward:  1.000 [ 1.000,  1.000], mean action: 0.300 [0.000, 1.000],  loss: 1.127394, mae: 2.516426, mean_q: 4.728856, mean_eps: 0.400000\n",
            "done, took 8.837 seconds\n"
          ]
        },
        {
          "output_type": "display_data",
          "data": {
            "text/plain": [
              "<Figure size 432x288 with 1 Axes>"
            ],
            "image/png": "[encoded data removed]"
          },
          "metadata": {
            "needs_background": "light"
          }
        },
        {
          "output_type": "stream",
          "name": "stdout",
          "text": [
            "Testing for 20 episodes ...\n",
            "Episode 1: reward: 9.000, steps: 9\n",
            "Episode 2: reward: 10.000, steps: 10\n",
            "Episode 3: reward: 10.000, steps: 10\n",
            "Episode 4: reward: 10.000, steps: 10\n",
            "Episode 5: reward: 9.000, steps: 9\n",
            "Episode 6: reward: 9.000, steps: 9\n",
            "Episode 7: reward: 9.000, steps: 9\n",
            "Episode 8: reward: 9.000, steps: 9\n",
            "Episode 9: reward: 10.000, steps: 10\n",
            "Episode 10: reward: 9.000, steps: 9\n",
            "Episode 11: reward: 8.000, steps: 8\n",
            "Episode 12: reward: 9.000, steps: 9\n",
            "Episode 13: reward: 9.000, steps: 9\n",
            "Episode 14: reward: 9.000, steps: 9\n",
            "Episode 15: reward: 10.000, steps: 10\n",
            "Episode 16: reward: 10.000, steps: 10\n",
            "Episode 17: reward: 10.000, steps: 10\n",
            "Episode 18: reward: 11.000, steps: 11\n",
            "Episode 19: reward: 9.000, steps: 9\n",
            "Episode 20: reward: 10.000, steps: 10\n"
          ]
        },
        {
          "output_type": "execute_result",
          "data": {
            "text/plain": [
              "<keras.callbacks.History at 0x7f60abec2be0>"
            ]
          },
          "metadata": {},
          "execution_count": 24
        }
      ]
    },
    {
      "cell_type": "code",
      "source": [],
      "metadata": {
        "id": "ZK9xCfIu6S0X"
      },
      "execution_count": null,
      "outputs": []
    },
    {
      "cell_type": "markdown",
      "source": [
        "##Warm up 50 & gamma 0.99"
      ],
      "metadata": {
        "id": "TwLlwJ4elI0Y"
      }
    },
    {
      "cell_type": "code",
      "source": [
        "memory = SequentialMemory(limit=10000, window_length=1)\n",
        "\n",
        "policy =  LinearAnnealedPolicy(inner_policy=EpsGreedyQPolicy(0.2), \n",
        "                               attr='eps',            \n",
        "                               value_max=1.,\n",
        "                               value_min=.1, \n",
        "                               value_test=.05,\n",
        "                               nb_steps=200)\n",
        "\n",
        "# Q-Network\n",
        "model = Sequential()\n",
        "model.add(Input(shape=(1,env.observation_space.shape[0])))  # The input is 1 observation vector, and the number of observations in that vector \n",
        "# add extra layers here\n",
        "model.add(Flatten())\n",
        "model.add(Dense(16, activation='relu'))\n",
        "model.add(Dense(16, activation='relu'))\n",
        "model.add(Dense(env.action_space.n, activation='linear'))   # the output is the number of actions in the action space\n",
        "print(model.summary())"
      ],
      "metadata": {
        "colab": {
          "base_uri": "https://localhost:8080/"
        },
        "id": "aTTi6eWJD6Sg",
        "outputId": "d90f0345-6a8f-4c33-984f-e096f27f7857"
      },
      "execution_count": null,
      "outputs": [
        {
          "output_type": "stream",
          "name": "stdout",
          "text": [
            "Model: \"sequential_1\"\n",
            "_________________________________________________________________\n",
            " Layer (type)                Output Shape              Param #   \n",
            "=================================================================\n",
            " flatten_1 (Flatten)         (None, 4)                 0         \n",
            "                                                                 \n",
            " dense_3 (Dense)             (None, 16)                80        \n",
            "                                                                 \n",
            " dense_4 (Dense)             (None, 16)                272       \n",
            "                                                                 \n",
            " dense_5 (Dense)             (None, 2)                 34        \n",
            "                                                                 \n",
            "=================================================================\n",
            "Total params: 386\n",
            "Trainable params: 386\n",
            "Non-trainable params: 0\n",
            "_________________________________________________________________\n",
            "None\n"
          ]
        }
      ]
    },
    {
      "cell_type": "code",
      "source": [
        "# define the agent\n",
        "dqn = DQNAgent(model=model, \n",
        "               nb_actions=env.action_space.n,\n",
        "               memory=memory,\n",
        "               nb_steps_warmup=50, # how many steps are waited before starting experience replay,\n",
        "               target_model_update=1e-2, \n",
        "               policy=policy,\n",
        "               gamma=0.99) \n",
        "\n",
        "dqn.compile(Adam(learning_rate=.0003), metrics=['mae'])\n",
        "\n",
        "history = dqn.fit(env, nb_steps=10000, visualize=False, verbose=2)\n",
        "\n",
        "# summarize the history for number  of episode steps\n",
        "plt.plot(history.history['nb_episode_steps'])\n",
        "plt.ylabel('nb_episode_steps')\n",
        "plt.xlabel('episodes')\n",
        "plt.show()\n",
        "\n",
        "dqn.test(env, nb_episodes=20, visualize=False)"
      ],
      "metadata": {
        "colab": {
          "base_uri": "https://localhost:8080/",
          "height": 1000
        },
        "id": "DXbO6Slo7Pr8",
        "outputId": "0a22241e-a868-4bf1-9914-bf4b86e6fa0f"
      },
      "execution_count": null,
      "outputs": [
        {
          "output_type": "stream",
          "name": "stdout",
          "text": [
            "Training for 10000 steps ...\n",
            "   15/10000: episode: 1, duration: 0.115s, episode steps:  15, steps per second: 131, episode reward: 15.000, mean reward:  1.000 [ 1.000,  1.000], mean action: 0.467 [0.000, 1.000],  loss: --, mae: --, mean_q: --, mean_eps: --\n"
          ]
        },
        {
          "output_type": "stream",
          "name": "stderr",
          "text": [
            "/usr/local/lib/python3.9/dist-packages/keras/engine/training_v1.py:2357: UserWarning: `Model.state_updates` will be removed in a future version. This property should not be used in TensorFlow 2.0, as `updates` are applied automatically.\n",
            "  updates=self.state_updates,\n",
            "/usr/local/lib/python3.9/dist-packages/keras/engine/training_v1.py:2357: UserWarning: `Model.state_updates` will be removed in a future version. This property should not be used in TensorFlow 2.0, as `updates` are applied automatically.\n",
            "  updates=self.state_updates,\n"
          ]
        },
        {
          "output_type": "stream",
          "name": "stdout",
          "text": [
            "  160/10000: episode: 2, duration: 1.369s, episode steps: 145, steps per second: 106, episode reward: 145.000, mean reward:  1.000 [ 1.000,  1.000], mean action: 0.517 [0.000, 1.000],  loss: 5.312000, mae: 17.300948, mean_q: 34.461483, mean_eps: 0.527500\n",
            "  267/10000: episode: 3, duration: 0.684s, episode steps: 107, steps per second: 157, episode reward: 107.000, mean reward:  1.000 [ 1.000,  1.000], mean action: 0.467 [0.000, 1.000],  loss: 5.799226, mae: 16.570299, mean_q: 33.004069, mean_eps: 0.134486\n",
            "  366/10000: episode: 4, duration: 0.611s, episode steps:  99, steps per second: 162, episode reward: 99.000, mean reward:  1.000 [ 1.000,  1.000], mean action: 0.455 [0.000, 1.000],  loss: 3.608364, mae: 16.228690, mean_q: 32.365204, mean_eps: 0.100000\n",
            "  460/10000: episode: 5, duration: 0.631s, episode steps:  94, steps per second: 149, episode reward: 94.000, mean reward:  1.000 [ 1.000,  1.000], mean action: 0.457 [0.000, 1.000],  loss: 2.904772, mae: 16.125915, mean_q: 32.148143, mean_eps: 0.100000\n",
            "  556/10000: episode: 6, duration: 0.736s, episode steps:  96, steps per second: 130, episode reward: 96.000, mean reward:  1.000 [ 1.000,  1.000], mean action: 0.458 [0.000, 1.000],  loss: 1.466384, mae: 16.157590, mean_q: 32.334814, mean_eps: 0.100000\n",
            "  642/10000: episode: 7, duration: 0.782s, episode steps:  86, steps per second: 110, episode reward: 86.000, mean reward:  1.000 [ 1.000,  1.000], mean action: 0.453 [0.000, 1.000],  loss: 2.251842, mae: 16.131575, mean_q: 32.195111, mean_eps: 0.100000\n",
            "  735/10000: episode: 8, duration: 0.863s, episode steps:  93, steps per second: 108, episode reward: 93.000, mean reward:  1.000 [ 1.000,  1.000], mean action: 0.462 [0.000, 1.000],  loss: 1.913938, mae: 16.278437, mean_q: 32.495066, mean_eps: 0.100000\n",
            "  832/10000: episode: 9, duration: 0.833s, episode steps:  97, steps per second: 116, episode reward: 97.000, mean reward:  1.000 [ 1.000,  1.000], mean action: 0.464 [0.000, 1.000],  loss: 1.625160, mae: 16.449111, mean_q: 32.903320, mean_eps: 0.100000\n",
            "  956/10000: episode: 10, duration: 0.798s, episode steps: 124, steps per second: 155, episode reward: 124.000, mean reward:  1.000 [ 1.000,  1.000], mean action: 0.468 [0.000, 1.000],  loss: 1.537818, mae: 16.836125, mean_q: 33.679642, mean_eps: 0.100000\n",
            " 1043/10000: episode: 11, duration: 0.557s, episode steps:  87, steps per second: 156, episode reward: 87.000, mean reward:  1.000 [ 1.000,  1.000], mean action: 0.471 [0.000, 1.000],  loss: 1.635793, mae: 17.046545, mean_q: 34.075025, mean_eps: 0.100000\n",
            " 1129/10000: episode: 12, duration: 0.558s, episode steps:  86, steps per second: 154, episode reward: 86.000, mean reward:  1.000 [ 1.000,  1.000], mean action: 0.453 [0.000, 1.000],  loss: 1.548988, mae: 16.958209, mean_q: 33.891036, mean_eps: 0.100000\n",
            " 1226/10000: episode: 13, duration: 0.625s, episode steps:  97, steps per second: 155, episode reward: 97.000, mean reward:  1.000 [ 1.000,  1.000], mean action: 0.474 [0.000, 1.000],  loss: 0.974050, mae: 17.187731, mean_q: 34.445799, mean_eps: 0.100000\n",
            " 1324/10000: episode: 14, duration: 0.611s, episode steps:  98, steps per second: 160, episode reward: 98.000, mean reward:  1.000 [ 1.000,  1.000], mean action: 0.459 [0.000, 1.000],  loss: 1.502863, mae: 17.202153, mean_q: 34.486345, mean_eps: 0.100000\n",
            " 1431/10000: episode: 15, duration: 0.692s, episode steps: 107, steps per second: 155, episode reward: 107.000, mean reward:  1.000 [ 1.000,  1.000], mean action: 0.467 [0.000, 1.000],  loss: 1.128220, mae: 17.400485, mean_q: 34.908983, mean_eps: 0.100000\n",
            " 1552/10000: episode: 16, duration: 0.765s, episode steps: 121, steps per second: 158, episode reward: 121.000, mean reward:  1.000 [ 1.000,  1.000], mean action: 0.471 [0.000, 1.000],  loss: 1.205612, mae: 17.481361, mean_q: 35.050644, mean_eps: 0.100000\n",
            " 1666/10000: episode: 17, duration: 0.709s, episode steps: 114, steps per second: 161, episode reward: 114.000, mean reward:  1.000 [ 1.000,  1.000], mean action: 0.465 [0.000, 1.000],  loss: 1.480144, mae: 17.656183, mean_q: 35.414453, mean_eps: 0.100000\n",
            " 1800/10000: episode: 18, duration: 0.851s, episode steps: 134, steps per second: 157, episode reward: 134.000, mean reward:  1.000 [ 1.000,  1.000], mean action: 0.478 [0.000, 1.000],  loss: 1.086612, mae: 17.773356, mean_q: 35.703121, mean_eps: 0.100000\n",
            " 1935/10000: episode: 19, duration: 0.851s, episode steps: 135, steps per second: 159, episode reward: 135.000, mean reward:  1.000 [ 1.000,  1.000], mean action: 0.474 [0.000, 1.000],  loss: 0.558691, mae: 18.060169, mean_q: 36.326811, mean_eps: 0.100000\n",
            " 2069/10000: episode: 20, duration: 0.884s, episode steps: 134, steps per second: 152, episode reward: 134.000, mean reward:  1.000 [ 1.000,  1.000], mean action: 0.470 [0.000, 1.000],  loss: 0.981192, mae: 18.332575, mean_q: 36.931737, mean_eps: 0.100000\n",
            " 2203/10000: episode: 21, duration: 0.858s, episode steps: 134, steps per second: 156, episode reward: 134.000, mean reward:  1.000 [ 1.000,  1.000], mean action: 0.470 [0.000, 1.000],  loss: 1.395167, mae: 18.649835, mean_q: 37.531156, mean_eps: 0.100000\n",
            " 2309/10000: episode: 22, duration: 0.657s, episode steps: 106, steps per second: 161, episode reward: 106.000, mean reward:  1.000 [ 1.000,  1.000], mean action: 0.472 [0.000, 1.000],  loss: 0.883176, mae: 18.624844, mean_q: 37.493627, mean_eps: 0.100000\n",
            " 2423/10000: episode: 23, duration: 0.889s, episode steps: 114, steps per second: 128, episode reward: 114.000, mean reward:  1.000 [ 1.000,  1.000], mean action: 0.465 [0.000, 1.000],  loss: 0.689354, mae: 18.823900, mean_q: 37.887261, mean_eps: 0.100000\n",
            " 2534/10000: episode: 24, duration: 1.017s, episode steps: 111, steps per second: 109, episode reward: 111.000, mean reward:  1.000 [ 1.000,  1.000], mean action: 0.468 [0.000, 1.000],  loss: 0.663327, mae: 18.889744, mean_q: 38.068794, mean_eps: 0.100000\n",
            " 2657/10000: episode: 25, duration: 1.138s, episode steps: 123, steps per second: 108, episode reward: 123.000, mean reward:  1.000 [ 1.000,  1.000], mean action: 0.472 [0.000, 1.000],  loss: 0.912341, mae: 19.018358, mean_q: 38.333935, mean_eps: 0.100000\n",
            " 2798/10000: episode: 26, duration: 0.886s, episode steps: 141, steps per second: 159, episode reward: 141.000, mean reward:  1.000 [ 1.000,  1.000], mean action: 0.475 [0.000, 1.000],  loss: 0.668111, mae: 19.240034, mean_q: 38.791212, mean_eps: 0.100000\n",
            " 2948/10000: episode: 27, duration: 0.947s, episode steps: 150, steps per second: 158, episode reward: 150.000, mean reward:  1.000 [ 1.000,  1.000], mean action: 0.473 [0.000, 1.000],  loss: 1.073087, mae: 19.343680, mean_q: 38.984997, mean_eps: 0.100000\n",
            " 3049/10000: episode: 28, duration: 0.641s, episode steps: 101, steps per second: 157, episode reward: 101.000, mean reward:  1.000 [ 1.000,  1.000], mean action: 0.465 [0.000, 1.000],  loss: 0.630740, mae: 19.401127, mean_q: 39.092099, mean_eps: 0.100000\n",
            " 3187/10000: episode: 29, duration: 0.847s, episode steps: 138, steps per second: 163, episode reward: 138.000, mean reward:  1.000 [ 1.000,  1.000], mean action: 0.471 [0.000, 1.000],  loss: 0.704353, mae: 19.684315, mean_q: 39.646950, mean_eps: 0.100000\n",
            " 3304/10000: episode: 30, duration: 0.735s, episode steps: 117, steps per second: 159, episode reward: 117.000, mean reward:  1.000 [ 1.000,  1.000], mean action: 0.470 [0.000, 1.000],  loss: 0.764316, mae: 19.853952, mean_q: 39.994042, mean_eps: 0.100000\n",
            " 3446/10000: episode: 31, duration: 0.882s, episode steps: 142, steps per second: 161, episode reward: 142.000, mean reward:  1.000 [ 1.000,  1.000], mean action: 0.472 [0.000, 1.000],  loss: 0.807214, mae: 20.108706, mean_q: 40.496095, mean_eps: 0.100000\n",
            " 3584/10000: episode: 32, duration: 0.849s, episode steps: 138, steps per second: 162, episode reward: 138.000, mean reward:  1.000 [ 1.000,  1.000], mean action: 0.478 [0.000, 1.000],  loss: 1.532830, mae: 20.152766, mean_q: 40.537953, mean_eps: 0.100000\n",
            " 3704/10000: episode: 33, duration: 0.742s, episode steps: 120, steps per second: 162, episode reward: 120.000, mean reward:  1.000 [ 1.000,  1.000], mean action: 0.467 [0.000, 1.000],  loss: 0.349204, mae: 20.132399, mean_q: 40.519543, mean_eps: 0.100000\n",
            " 3836/10000: episode: 34, duration: 0.793s, episode steps: 132, steps per second: 166, episode reward: 132.000, mean reward:  1.000 [ 1.000,  1.000], mean action: 0.470 [0.000, 1.000],  loss: 0.188828, mae: 20.422185, mean_q: 41.129572, mean_eps: 0.100000\n",
            " 3953/10000: episode: 35, duration: 0.735s, episode steps: 117, steps per second: 159, episode reward: 117.000, mean reward:  1.000 [ 1.000,  1.000], mean action: 0.470 [0.000, 1.000],  loss: 1.006042, mae: 20.481287, mean_q: 41.207061, mean_eps: 0.100000\n",
            " 4071/10000: episode: 36, duration: 0.735s, episode steps: 118, steps per second: 161, episode reward: 118.000, mean reward:  1.000 [ 1.000,  1.000], mean action: 0.466 [0.000, 1.000],  loss: 0.732664, mae: 20.585662, mean_q: 41.391230, mean_eps: 0.100000\n",
            " 4200/10000: episode: 37, duration: 0.802s, episode steps: 129, steps per second: 161, episode reward: 129.000, mean reward:  1.000 [ 1.000,  1.000], mean action: 0.473 [0.000, 1.000],  loss: 0.179547, mae: 20.668103, mean_q: 41.589070, mean_eps: 0.100000\n",
            " 4313/10000: episode: 38, duration: 0.851s, episode steps: 113, steps per second: 133, episode reward: 113.000, mean reward:  1.000 [ 1.000,  1.000], mean action: 0.469 [0.000, 1.000],  loss: 1.064605, mae: 20.702272, mean_q: 41.590456, mean_eps: 0.100000\n",
            " 4449/10000: episode: 39, duration: 1.209s, episode steps: 136, steps per second: 112, episode reward: 136.000, mean reward:  1.000 [ 1.000,  1.000], mean action: 0.478 [0.000, 1.000],  loss: 0.655626, mae: 20.822684, mean_q: 41.855146, mean_eps: 0.100000\n",
            " 4584/10000: episode: 40, duration: 1.119s, episode steps: 135, steps per second: 121, episode reward: 135.000, mean reward:  1.000 [ 1.000,  1.000], mean action: 0.474 [0.000, 1.000],  loss: 0.314315, mae: 21.200526, mean_q: 42.622306, mean_eps: 0.100000\n",
            " 4703/10000: episode: 41, duration: 0.742s, episode steps: 119, steps per second: 160, episode reward: 119.000, mean reward:  1.000 [ 1.000,  1.000], mean action: 0.471 [0.000, 1.000],  loss: 0.152217, mae: 21.056285, mean_q: 42.323100, mean_eps: 0.100000\n",
            " 4820/10000: episode: 42, duration: 0.739s, episode steps: 117, steps per second: 158, episode reward: 117.000, mean reward:  1.000 [ 1.000,  1.000], mean action: 0.470 [0.000, 1.000],  loss: 0.941920, mae: 21.215479, mean_q: 42.654266, mean_eps: 0.100000\n",
            " 4951/10000: episode: 43, duration: 0.816s, episode steps: 131, steps per second: 161, episode reward: 131.000, mean reward:  1.000 [ 1.000,  1.000], mean action: 0.473 [0.000, 1.000],  loss: 0.548462, mae: 21.323437, mean_q: 42.857256, mean_eps: 0.100000\n",
            " 5103/10000: episode: 44, duration: 0.974s, episode steps: 152, steps per second: 156, episode reward: 152.000, mean reward:  1.000 [ 1.000,  1.000], mean action: 0.480 [0.000, 1.000],  loss: 0.173892, mae: 21.412726, mean_q: 43.050992, mean_eps: 0.100000\n",
            " 5250/10000: episode: 45, duration: 0.925s, episode steps: 147, steps per second: 159, episode reward: 147.000, mean reward:  1.000 [ 1.000,  1.000], mean action: 0.476 [0.000, 1.000],  loss: 0.138068, mae: 21.700413, mean_q: 43.674909, mean_eps: 0.100000\n",
            " 5432/10000: episode: 46, duration: 1.131s, episode steps: 182, steps per second: 161, episode reward: 182.000, mean reward:  1.000 [ 1.000,  1.000], mean action: 0.484 [0.000, 1.000],  loss: 0.670976, mae: 21.806421, mean_q: 43.848258, mean_eps: 0.100000\n",
            " 5615/10000: episode: 47, duration: 1.120s, episode steps: 183, steps per second: 163, episode reward: 183.000, mean reward:  1.000 [ 1.000,  1.000], mean action: 0.486 [0.000, 1.000],  loss: 0.646650, mae: 21.947503, mean_q: 44.131702, mean_eps: 0.100000\n",
            " 5771/10000: episode: 48, duration: 0.959s, episode steps: 156, steps per second: 163, episode reward: 156.000, mean reward:  1.000 [ 1.000,  1.000], mean action: 0.481 [0.000, 1.000],  loss: 0.316366, mae: 22.196824, mean_q: 44.653480, mean_eps: 0.100000\n",
            " 5923/10000: episode: 49, duration: 0.952s, episode steps: 152, steps per second: 160, episode reward: 152.000, mean reward:  1.000 [ 1.000,  1.000], mean action: 0.480 [0.000, 1.000],  loss: 0.378989, mae: 22.437600, mean_q: 45.135400, mean_eps: 0.100000\n",
            " 6065/10000: episode: 50, duration: 0.920s, episode steps: 142, steps per second: 154, episode reward: 142.000, mean reward:  1.000 [ 1.000,  1.000], mean action: 0.479 [0.000, 1.000],  loss: 0.122959, mae: 22.831935, mean_q: 45.966641, mean_eps: 0.100000\n",
            " 6206/10000: episode: 51, duration: 1.143s, episode steps: 141, steps per second: 123, episode reward: 141.000, mean reward:  1.000 [ 1.000,  1.000], mean action: 0.482 [0.000, 1.000],  loss: 0.401571, mae: 22.614731, mean_q: 45.513703, mean_eps: 0.100000\n",
            " 6376/10000: episode: 52, duration: 1.531s, episode steps: 170, steps per second: 111, episode reward: 170.000, mean reward:  1.000 [ 1.000,  1.000], mean action: 0.482 [0.000, 1.000],  loss: 0.484917, mae: 22.830378, mean_q: 45.921879, mean_eps: 0.100000\n",
            " 6539/10000: episode: 53, duration: 1.178s, episode steps: 163, steps per second: 138, episode reward: 163.000, mean reward:  1.000 [ 1.000,  1.000], mean action: 0.485 [0.000, 1.000],  loss: 0.310747, mae: 23.053018, mean_q: 46.398915, mean_eps: 0.100000\n",
            " 6709/10000: episode: 54, duration: 1.080s, episode steps: 170, steps per second: 157, episode reward: 170.000, mean reward:  1.000 [ 1.000,  1.000], mean action: 0.482 [0.000, 1.000],  loss: 0.297638, mae: 23.151038, mean_q: 46.608588, mean_eps: 0.100000\n",
            " 6909/10000: episode: 55, duration: 1.260s, episode steps: 200, steps per second: 159, episode reward: 200.000, mean reward:  1.000 [ 1.000,  1.000], mean action: 0.490 [0.000, 1.000],  loss: 0.502821, mae: 23.028095, mean_q: 46.326134, mean_eps: 0.100000\n",
            " 7057/10000: episode: 56, duration: 0.976s, episode steps: 148, steps per second: 152, episode reward: 148.000, mean reward:  1.000 [ 1.000,  1.000], mean action: 0.480 [0.000, 1.000],  loss: 0.137463, mae: 23.598894, mean_q: 47.505537, mean_eps: 0.100000\n",
            " 7239/10000: episode: 57, duration: 1.156s, episode steps: 182, steps per second: 157, episode reward: 182.000, mean reward:  1.000 [ 1.000,  1.000], mean action: 0.484 [0.000, 1.000],  loss: 0.118537, mae: 23.878283, mean_q: 48.074457, mean_eps: 0.100000\n",
            " 7385/10000: episode: 58, duration: 0.922s, episode steps: 146, steps per second: 158, episode reward: 146.000, mean reward:  1.000 [ 1.000,  1.000], mean action: 0.479 [0.000, 1.000],  loss: 1.003488, mae: 24.146234, mean_q: 48.543968, mean_eps: 0.100000\n",
            " 7564/10000: episode: 59, duration: 1.120s, episode steps: 179, steps per second: 160, episode reward: 179.000, mean reward:  1.000 [ 1.000,  1.000], mean action: 0.486 [0.000, 1.000],  loss: 0.141937, mae: 24.081459, mean_q: 48.431874, mean_eps: 0.100000\n",
            " 7733/10000: episode: 60, duration: 1.072s, episode steps: 169, steps per second: 158, episode reward: 169.000, mean reward:  1.000 [ 1.000,  1.000], mean action: 0.491 [0.000, 1.000],  loss: 0.317466, mae: 24.246483, mean_q: 48.784094, mean_eps: 0.100000\n",
            " 7914/10000: episode: 61, duration: 1.180s, episode steps: 181, steps per second: 153, episode reward: 181.000, mean reward:  1.000 [ 1.000,  1.000], mean action: 0.486 [0.000, 1.000],  loss: 0.136738, mae: 24.176133, mean_q: 48.647528, mean_eps: 0.100000\n",
            " 8078/10000: episode: 62, duration: 1.305s, episode steps: 164, steps per second: 126, episode reward: 164.000, mean reward:  1.000 [ 1.000,  1.000], mean action: 0.482 [0.000, 1.000],  loss: 0.641798, mae: 24.367875, mean_q: 49.001536, mean_eps: 0.100000\n",
            " 8240/10000: episode: 63, duration: 1.499s, episode steps: 162, steps per second: 108, episode reward: 162.000, mean reward:  1.000 [ 1.000,  1.000], mean action: 0.481 [0.000, 1.000],  loss: 0.633744, mae: 24.832643, mean_q: 49.924913, mean_eps: 0.100000\n",
            " 8440/10000: episode: 64, duration: 1.368s, episode steps: 200, steps per second: 146, episode reward: 200.000, mean reward:  1.000 [ 1.000,  1.000], mean action: 0.490 [0.000, 1.000],  loss: 0.107881, mae: 24.663099, mean_q: 49.608973, mean_eps: 0.100000\n",
            " 8602/10000: episode: 65, duration: 1.017s, episode steps: 162, steps per second: 159, episode reward: 162.000, mean reward:  1.000 [ 1.000,  1.000], mean action: 0.481 [0.000, 1.000],  loss: 0.769191, mae: 24.818532, mean_q: 49.908983, mean_eps: 0.100000\n",
            " 8779/10000: episode: 66, duration: 1.135s, episode steps: 177, steps per second: 156, episode reward: 177.000, mean reward:  1.000 [ 1.000,  1.000], mean action: 0.486 [0.000, 1.000],  loss: 0.331158, mae: 25.124194, mean_q: 50.550841, mean_eps: 0.100000\n",
            " 8967/10000: episode: 67, duration: 1.178s, episode steps: 188, steps per second: 160, episode reward: 188.000, mean reward:  1.000 [ 1.000,  1.000], mean action: 0.484 [0.000, 1.000],  loss: 0.601286, mae: 25.037837, mean_q: 50.351098, mean_eps: 0.100000\n",
            " 9137/10000: episode: 68, duration: 1.089s, episode steps: 170, steps per second: 156, episode reward: 170.000, mean reward:  1.000 [ 1.000,  1.000], mean action: 0.482 [0.000, 1.000],  loss: 0.330641, mae: 25.017378, mean_q: 50.286725, mean_eps: 0.100000\n",
            " 9337/10000: episode: 69, duration: 1.303s, episode steps: 200, steps per second: 153, episode reward: 200.000, mean reward:  1.000 [ 1.000,  1.000], mean action: 0.490 [0.000, 1.000],  loss: 0.753832, mae: 25.378332, mean_q: 51.026265, mean_eps: 0.100000\n",
            " 9537/10000: episode: 70, duration: 1.325s, episode steps: 200, steps per second: 151, episode reward: 200.000, mean reward:  1.000 [ 1.000,  1.000], mean action: 0.490 [0.000, 1.000],  loss: 0.426268, mae: 25.338951, mean_q: 50.916123, mean_eps: 0.100000\n",
            " 9737/10000: episode: 71, duration: 1.315s, episode steps: 200, steps per second: 152, episode reward: 200.000, mean reward:  1.000 [ 1.000,  1.000], mean action: 0.490 [0.000, 1.000],  loss: 0.204291, mae: 25.417773, mean_q: 51.095835, mean_eps: 0.100000\n",
            " 9932/10000: episode: 72, duration: 1.601s, episode steps: 195, steps per second: 122, episode reward: 195.000, mean reward:  1.000 [ 1.000,  1.000], mean action: 0.487 [0.000, 1.000],  loss: 0.429635, mae: 25.559243, mean_q: 51.369966, mean_eps: 0.100000\n",
            "done, took 68.635 seconds\n"
          ]
        },
        {
          "output_type": "display_data",
          "data": {
            "text/plain": [
              "<Figure size 432x288 with 1 Axes>"
            ],
            "image/png": "[encoded data removed]"
          },
          "metadata": {
            "needs_background": "light"
          }
        },
        {
          "output_type": "stream",
          "name": "stdout",
          "text": [
            "Testing for 20 episodes ...\n",
            "Episode 1: reward: 194.000, steps: 194\n",
            "Episode 2: reward: 198.000, steps: 198\n",
            "Episode 3: reward: 200.000, steps: 200\n",
            "Episode 4: reward: 200.000, steps: 200\n",
            "Episode 5: reward: 200.000, steps: 200\n",
            "Episode 6: reward: 192.000, steps: 192\n",
            "Episode 7: reward: 200.000, steps: 200\n",
            "Episode 8: reward: 200.000, steps: 200\n",
            "Episode 9: reward: 200.000, steps: 200\n",
            "Episode 10: reward: 200.000, steps: 200\n",
            "Episode 11: reward: 187.000, steps: 187\n",
            "Episode 12: reward: 187.000, steps: 187\n",
            "Episode 13: reward: 200.000, steps: 200\n",
            "Episode 14: reward: 200.000, steps: 200\n",
            "Episode 15: reward: 192.000, steps: 192\n",
            "Episode 16: reward: 200.000, steps: 200\n",
            "Episode 17: reward: 200.000, steps: 200\n",
            "Episode 18: reward: 200.000, steps: 200\n",
            "Episode 19: reward: 200.000, steps: 200\n",
            "Episode 20: reward: 200.000, steps: 200\n"
          ]
        },
        {
          "output_type": "execute_result",
          "data": {
            "text/plain": [
              "<keras.callbacks.History at 0x7f825dcfdcd0>"
            ]
          },
          "metadata": {},
          "execution_count": 10
        }
      ]
    },
    {
      "cell_type": "markdown",
      "source": [
        "##Warm up 55 & gamma 0.99\n"
      ],
      "metadata": {
        "id": "7kKP9-5qLrPn"
      }
    },
    {
      "cell_type": "code",
      "source": [
        "# define the agent\n",
        "dqn = DQNAgent(model=model, \n",
        "               nb_actions=env.action_space.n,\n",
        "               memory=memory,\n",
        "               nb_steps_warmup=55, # how many steps are waited before starting experience replay,\n",
        "               target_model_update=1e-2, \n",
        "               policy=policy,\n",
        "               gamma=0.99) \n",
        "\n",
        "dqn.compile(Adam(learning_rate=.0003), metrics=['mae'])\n",
        "\n",
        "history = dqn.fit(env, nb_steps=10000, visualize=False, verbose=2)\n",
        "\n",
        "# summarize the history for number  of episode steps\n",
        "plt.plot(history.history['nb_episode_steps'])\n",
        "plt.ylabel('nb_episode_steps')\n",
        "plt.xlabel('episodes')\n",
        "plt.show()\n",
        "\n",
        "dqn.test(env, nb_episodes=20, visualize=False)"
      ],
      "metadata": {
        "colab": {
          "base_uri": "https://localhost:8080/",
          "height": 1000
        },
        "id": "kDC9xFQuD-th",
        "outputId": "4c249676-5423-4d17-aee4-9db2dbfea7bc"
      },
      "execution_count": null,
      "outputs": [
        {
          "output_type": "stream",
          "name": "stdout",
          "text": [
            "Training for 10000 steps ...\n"
          ]
        },
        {
          "output_type": "stream",
          "name": "stderr",
          "text": [
            "/usr/local/lib/python3.9/dist-packages/keras/engine/training_v1.py:2357: UserWarning: `Model.state_updates` will be removed in a future version. This property should not be used in TensorFlow 2.0, as `updates` are applied automatically.\n",
            "  updates=self.state_updates,\n"
          ]
        },
        {
          "output_type": "stream",
          "name": "stdout",
          "text": [
            "   19/10000: episode: 1, duration: 0.298s, episode steps:  19, steps per second:  64, episode reward: 19.000, mean reward:  1.000 [ 1.000,  1.000], mean action: 0.526 [0.000, 1.000],  loss: --, mae: --, mean_q: --, mean_eps: --\n",
            "   46/10000: episode: 2, duration: 0.022s, episode steps:  27, steps per second: 1237, episode reward: 27.000, mean reward:  1.000 [ 1.000,  1.000], mean action: 0.593 [0.000, 1.000],  loss: --, mae: --, mean_q: --, mean_eps: --\n"
          ]
        },
        {
          "output_type": "stream",
          "name": "stderr",
          "text": [
            "/usr/local/lib/python3.9/dist-packages/keras/engine/training_v1.py:2357: UserWarning: `Model.state_updates` will be removed in a future version. This property should not be used in TensorFlow 2.0, as `updates` are applied automatically.\n",
            "  updates=self.state_updates,\n"
          ]
        },
        {
          "output_type": "stream",
          "name": "stdout",
          "text": [
            "   65/10000: episode: 3, duration: 1.303s, episode steps:  19, steps per second:  15, episode reward: 19.000, mean reward:  1.000 [ 1.000,  1.000], mean action: 0.474 [0.000, 1.000],  loss: 2.501514, mae: 25.493119, mean_q: 51.051331, mean_eps: 0.730000\n",
            "  197/10000: episode: 4, duration: 0.947s, episode steps: 132, steps per second: 139, episode reward: 132.000, mean reward:  1.000 [ 1.000,  1.000], mean action: 0.523 [0.000, 1.000],  loss: 4.095597, mae: 24.675640, mean_q: 49.378635, mean_eps: 0.412750\n",
            "  277/10000: episode: 5, duration: 0.579s, episode steps:  80, steps per second: 138, episode reward: 80.000, mean reward:  1.000 [ 1.000,  1.000], mean action: 0.463 [0.000, 1.000],  loss: 4.464411, mae: 24.536321, mean_q: 49.066797, mean_eps: 0.100337\n",
            "  341/10000: episode: 6, duration: 0.470s, episode steps:  64, steps per second: 136, episode reward: 64.000, mean reward:  1.000 [ 1.000,  1.000], mean action: 0.453 [0.000, 1.000],  loss: 3.978156, mae: 25.272487, mean_q: 50.565374, mean_eps: 0.100000\n",
            "  422/10000: episode: 7, duration: 0.606s, episode steps:  81, steps per second: 134, episode reward: 81.000, mean reward:  1.000 [ 1.000,  1.000], mean action: 0.469 [0.000, 1.000],  loss: 3.613063, mae: 24.970020, mean_q: 50.048717, mean_eps: 0.100000\n",
            "  485/10000: episode: 8, duration: 0.457s, episode steps:  63, steps per second: 138, episode reward: 63.000, mean reward:  1.000 [ 1.000,  1.000], mean action: 0.460 [0.000, 1.000],  loss: 3.388465, mae: 25.157882, mean_q: 50.362496, mean_eps: 0.100000\n",
            "  546/10000: episode: 9, duration: 0.451s, episode steps:  61, steps per second: 135, episode reward: 61.000, mean reward:  1.000 [ 1.000,  1.000], mean action: 0.459 [0.000, 1.000],  loss: 2.873972, mae: 24.930734, mean_q: 49.969750, mean_eps: 0.100000\n",
            "  603/10000: episode: 10, duration: 0.424s, episode steps:  57, steps per second: 134, episode reward: 57.000, mean reward:  1.000 [ 1.000,  1.000], mean action: 0.456 [0.000, 1.000],  loss: 5.110294, mae: 24.869167, mean_q: 49.668997, mean_eps: 0.100000\n",
            "  660/10000: episode: 11, duration: 0.404s, episode steps:  57, steps per second: 141, episode reward: 57.000, mean reward:  1.000 [ 1.000,  1.000], mean action: 0.456 [0.000, 1.000],  loss: 5.519461, mae: 25.037353, mean_q: 50.033860, mean_eps: 0.100000\n",
            "  717/10000: episode: 12, duration: 0.414s, episode steps:  57, steps per second: 138, episode reward: 57.000, mean reward:  1.000 [ 1.000,  1.000], mean action: 0.456 [0.000, 1.000],  loss: 4.736715, mae: 25.065714, mean_q: 50.029260, mean_eps: 0.100000\n",
            "  769/10000: episode: 13, duration: 0.393s, episode steps:  52, steps per second: 132, episode reward: 52.000, mean reward:  1.000 [ 1.000,  1.000], mean action: 0.462 [0.000, 1.000],  loss: 5.185188, mae: 25.326081, mean_q: 50.582992, mean_eps: 0.100000\n",
            "  833/10000: episode: 14, duration: 0.466s, episode steps:  64, steps per second: 137, episode reward: 64.000, mean reward:  1.000 [ 1.000,  1.000], mean action: 0.453 [0.000, 1.000],  loss: 2.783193, mae: 24.905842, mean_q: 49.877086, mean_eps: 0.100000\n",
            "  895/10000: episode: 15, duration: 0.463s, episode steps:  62, steps per second: 134, episode reward: 62.000, mean reward:  1.000 [ 1.000,  1.000], mean action: 0.468 [0.000, 1.000],  loss: 3.231267, mae: 24.912661, mean_q: 49.833695, mean_eps: 0.100000\n",
            "  969/10000: episode: 16, duration: 0.529s, episode steps:  74, steps per second: 140, episode reward: 74.000, mean reward:  1.000 [ 1.000,  1.000], mean action: 0.473 [0.000, 1.000],  loss: 3.369749, mae: 25.059023, mean_q: 50.126395, mean_eps: 0.100000\n",
            " 1032/10000: episode: 17, duration: 0.454s, episode steps:  63, steps per second: 139, episode reward: 63.000, mean reward:  1.000 [ 1.000,  1.000], mean action: 0.460 [0.000, 1.000],  loss: 4.001779, mae: 24.954180, mean_q: 49.883361, mean_eps: 0.100000\n",
            " 1118/10000: episode: 18, duration: 0.803s, episode steps:  86, steps per second: 107, episode reward: 86.000, mean reward:  1.000 [ 1.000,  1.000], mean action: 0.477 [0.000, 1.000],  loss: 3.205512, mae: 25.031354, mean_q: 50.049139, mean_eps: 0.100000\n",
            " 1173/10000: episode: 19, duration: 0.576s, episode steps:  55, steps per second:  96, episode reward: 55.000, mean reward:  1.000 [ 1.000,  1.000], mean action: 0.455 [0.000, 1.000],  loss: 3.131633, mae: 25.111675, mean_q: 50.178031, mean_eps: 0.100000\n",
            " 1234/10000: episode: 20, duration: 0.645s, episode steps:  61, steps per second:  95, episode reward: 61.000, mean reward:  1.000 [ 1.000,  1.000], mean action: 0.492 [0.000, 1.000],  loss: 4.288194, mae: 24.759171, mean_q: 49.411626, mean_eps: 0.100000\n",
            " 1295/10000: episode: 21, duration: 0.647s, episode steps:  61, steps per second:  94, episode reward: 61.000, mean reward:  1.000 [ 1.000,  1.000], mean action: 0.459 [0.000, 1.000],  loss: 5.660323, mae: 25.249715, mean_q: 50.291461, mean_eps: 0.100000\n",
            " 1347/10000: episode: 22, duration: 0.437s, episode steps:  52, steps per second: 119, episode reward: 52.000, mean reward:  1.000 [ 1.000,  1.000], mean action: 0.462 [0.000, 1.000],  loss: 2.762280, mae: 24.682822, mean_q: 49.317797, mean_eps: 0.100000\n",
            " 1418/10000: episode: 23, duration: 0.531s, episode steps:  71, steps per second: 134, episode reward: 71.000, mean reward:  1.000 [ 1.000,  1.000], mean action: 0.465 [0.000, 1.000],  loss: 2.627178, mae: 24.968602, mean_q: 49.903625, mean_eps: 0.100000\n",
            " 1476/10000: episode: 24, duration: 0.442s, episode steps:  58, steps per second: 131, episode reward: 58.000, mean reward:  1.000 [ 1.000,  1.000], mean action: 0.466 [0.000, 1.000],  loss: 2.841092, mae: 24.734148, mean_q: 49.446462, mean_eps: 0.100000\n",
            " 1544/10000: episode: 25, duration: 0.494s, episode steps:  68, steps per second: 138, episode reward: 68.000, mean reward:  1.000 [ 1.000,  1.000], mean action: 0.471 [0.000, 1.000],  loss: 2.895623, mae: 24.889643, mean_q: 49.717244, mean_eps: 0.100000\n",
            " 1623/10000: episode: 26, duration: 0.597s, episode steps:  79, steps per second: 132, episode reward: 79.000, mean reward:  1.000 [ 1.000,  1.000], mean action: 0.468 [0.000, 1.000],  loss: 2.089493, mae: 24.824890, mean_q: 49.605667, mean_eps: 0.100000\n",
            " 1697/10000: episode: 27, duration: 0.532s, episode steps:  74, steps per second: 139, episode reward: 74.000, mean reward:  1.000 [ 1.000,  1.000], mean action: 0.473 [0.000, 1.000],  loss: 1.790580, mae: 25.055616, mean_q: 50.116168, mean_eps: 0.100000\n",
            " 1761/10000: episode: 28, duration: 0.474s, episode steps:  64, steps per second: 135, episode reward: 64.000, mean reward:  1.000 [ 1.000,  1.000], mean action: 0.453 [0.000, 1.000],  loss: 1.599870, mae: 25.139696, mean_q: 50.272458, mean_eps: 0.100000\n",
            " 1838/10000: episode: 29, duration: 0.581s, episode steps:  77, steps per second: 132, episode reward: 77.000, mean reward:  1.000 [ 1.000,  1.000], mean action: 0.468 [0.000, 1.000],  loss: 2.708936, mae: 24.764782, mean_q: 49.429917, mean_eps: 0.100000\n",
            " 1939/10000: episode: 30, duration: 0.747s, episode steps: 101, steps per second: 135, episode reward: 101.000, mean reward:  1.000 [ 1.000,  1.000], mean action: 0.475 [0.000, 1.000],  loss: 3.094988, mae: 24.859383, mean_q: 49.629264, mean_eps: 0.100000\n",
            " 2068/10000: episode: 31, duration: 0.935s, episode steps: 129, steps per second: 138, episode reward: 129.000, mean reward:  1.000 [ 1.000,  1.000], mean action: 0.473 [0.000, 1.000],  loss: 2.516532, mae: 24.563735, mean_q: 49.079152, mean_eps: 0.100000\n",
            " 2122/10000: episode: 32, duration: 0.389s, episode steps:  54, steps per second: 139, episode reward: 54.000, mean reward:  1.000 [ 1.000,  1.000], mean action: 0.444 [0.000, 1.000],  loss: 3.359306, mae: 24.563092, mean_q: 49.010813, mean_eps: 0.100000\n",
            " 2192/10000: episode: 33, duration: 0.524s, episode steps:  70, steps per second: 134, episode reward: 70.000, mean reward:  1.000 [ 1.000,  1.000], mean action: 0.457 [0.000, 1.000],  loss: 2.367361, mae: 24.578506, mean_q: 49.064755, mean_eps: 0.100000\n",
            " 2257/10000: episode: 34, duration: 0.459s, episode steps:  65, steps per second: 142, episode reward: 65.000, mean reward:  1.000 [ 1.000,  1.000], mean action: 0.462 [0.000, 1.000],  loss: 1.572786, mae: 24.325713, mean_q: 48.642573, mean_eps: 0.100000\n",
            " 2351/10000: episode: 35, duration: 0.701s, episode steps:  94, steps per second: 134, episode reward: 94.000, mean reward:  1.000 [ 1.000,  1.000], mean action: 0.468 [0.000, 1.000],  loss: 1.987096, mae: 24.508799, mean_q: 48.928970, mean_eps: 0.100000\n",
            " 2489/10000: episode: 36, duration: 1.000s, episode steps: 138, steps per second: 138, episode reward: 138.000, mean reward:  1.000 [ 1.000,  1.000], mean action: 0.478 [0.000, 1.000],  loss: 1.588703, mae: 24.401524, mean_q: 48.760692, mean_eps: 0.100000\n",
            " 2544/10000: episode: 37, duration: 0.381s, episode steps:  55, steps per second: 144, episode reward: 55.000, mean reward:  1.000 [ 1.000,  1.000], mean action: 0.455 [0.000, 1.000],  loss: 2.264712, mae: 24.094272, mean_q: 48.086079, mean_eps: 0.100000\n",
            " 2626/10000: episode: 38, duration: 0.607s, episode steps:  82, steps per second: 135, episode reward: 82.000, mean reward:  1.000 [ 1.000,  1.000], mean action: 0.463 [0.000, 1.000],  loss: 2.292710, mae: 24.442158, mean_q: 48.724601, mean_eps: 0.100000\n",
            " 2705/10000: episode: 39, duration: 0.712s, episode steps:  79, steps per second: 111, episode reward: 79.000, mean reward:  1.000 [ 1.000,  1.000], mean action: 0.481 [0.000, 1.000],  loss: 1.509139, mae: 24.207466, mean_q: 48.303583, mean_eps: 0.100000\n",
            " 2905/10000: episode: 40, duration: 2.054s, episode steps: 200, steps per second:  97, episode reward: 200.000, mean reward:  1.000 [ 1.000,  1.000], mean action: 0.500 [0.000, 1.000],  loss: 1.507081, mae: 24.229686, mean_q: 48.389165, mean_eps: 0.100000\n",
            " 3035/10000: episode: 41, duration: 0.966s, episode steps: 130, steps per second: 135, episode reward: 130.000, mean reward:  1.000 [ 1.000,  1.000], mean action: 0.477 [0.000, 1.000],  loss: 1.690908, mae: 23.873767, mean_q: 47.617676, mean_eps: 0.100000\n",
            " 3108/10000: episode: 42, duration: 0.544s, episode steps:  73, steps per second: 134, episode reward: 73.000, mean reward:  1.000 [ 1.000,  1.000], mean action: 0.452 [0.000, 1.000],  loss: 2.554325, mae: 23.680340, mean_q: 47.151113, mean_eps: 0.100000\n",
            " 3172/10000: episode: 43, duration: 0.483s, episode steps:  64, steps per second: 133, episode reward: 64.000, mean reward:  1.000 [ 1.000,  1.000], mean action: 0.453 [0.000, 1.000],  loss: 2.522968, mae: 23.862854, mean_q: 47.577866, mean_eps: 0.100000\n",
            " 3240/10000: episode: 44, duration: 0.513s, episode steps:  68, steps per second: 133, episode reward: 68.000, mean reward:  1.000 [ 1.000,  1.000], mean action: 0.456 [0.000, 1.000],  loss: 2.941187, mae: 23.752166, mean_q: 47.324762, mean_eps: 0.100000\n",
            " 3345/10000: episode: 45, duration: 0.759s, episode steps: 105, steps per second: 138, episode reward: 105.000, mean reward:  1.000 [ 1.000,  1.000], mean action: 0.467 [0.000, 1.000],  loss: 0.653828, mae: 23.343594, mean_q: 46.646642, mean_eps: 0.100000\n",
            " 3485/10000: episode: 46, duration: 1.014s, episode steps: 140, steps per second: 138, episode reward: 140.000, mean reward:  1.000 [ 1.000,  1.000], mean action: 0.479 [0.000, 1.000],  loss: 2.036523, mae: 23.521467, mean_q: 46.907514, mean_eps: 0.100000\n",
            " 3650/10000: episode: 47, duration: 1.203s, episode steps: 165, steps per second: 137, episode reward: 165.000, mean reward:  1.000 [ 1.000,  1.000], mean action: 0.485 [0.000, 1.000],  loss: 1.327263, mae: 22.846206, mean_q: 45.508696, mean_eps: 0.100000\n",
            " 3728/10000: episode: 48, duration: 0.582s, episode steps:  78, steps per second: 134, episode reward: 78.000, mean reward:  1.000 [ 1.000,  1.000], mean action: 0.462 [0.000, 1.000],  loss: 0.733512, mae: 23.323497, mean_q: 46.575874, mean_eps: 0.100000\n",
            " 3821/10000: episode: 49, duration: 0.654s, episode steps:  93, steps per second: 142, episode reward: 93.000, mean reward:  1.000 [ 1.000,  1.000], mean action: 0.462 [0.000, 1.000],  loss: 0.539073, mae: 22.324269, mean_q: 44.521163, mean_eps: 0.100000\n",
            " 3929/10000: episode: 50, duration: 0.784s, episode steps: 108, steps per second: 138, episode reward: 108.000, mean reward:  1.000 [ 1.000,  1.000], mean action: 0.472 [0.000, 1.000],  loss: 2.118830, mae: 22.532289, mean_q: 44.741590, mean_eps: 0.100000\n",
            " 4028/10000: episode: 51, duration: 0.718s, episode steps:  99, steps per second: 138, episode reward: 99.000, mean reward:  1.000 [ 1.000,  1.000], mean action: 0.465 [0.000, 1.000],  loss: 0.888889, mae: 22.273333, mean_q: 44.295769, mean_eps: 0.100000\n",
            " 4135/10000: episode: 52, duration: 0.773s, episode steps: 107, steps per second: 138, episode reward: 107.000, mean reward:  1.000 [ 1.000,  1.000], mean action: 0.467 [0.000, 1.000],  loss: 1.761251, mae: 22.569598, mean_q: 44.882255, mean_eps: 0.100000\n",
            " 4222/10000: episode: 53, duration: 0.617s, episode steps:  87, steps per second: 141, episode reward: 87.000, mean reward:  1.000 [ 1.000,  1.000], mean action: 0.460 [0.000, 1.000],  loss: 1.758039, mae: 21.952163, mean_q: 43.631342, mean_eps: 0.100000\n",
            " 4422/10000: episode: 54, duration: 1.913s, episode steps: 200, steps per second: 105, episode reward: 200.000, mean reward:  1.000 [ 1.000,  1.000], mean action: 0.485 [0.000, 1.000],  loss: 1.202699, mae: 21.813782, mean_q: 43.498907, mean_eps: 0.100000\n",
            " 4507/10000: episode: 55, duration: 0.900s, episode steps:  85, steps per second:  94, episode reward: 85.000, mean reward:  1.000 [ 1.000,  1.000], mean action: 0.459 [0.000, 1.000],  loss: 1.337633, mae: 21.890764, mean_q: 43.656467, mean_eps: 0.100000\n",
            " 4602/10000: episode: 56, duration: 0.768s, episode steps:  95, steps per second: 124, episode reward: 95.000, mean reward:  1.000 [ 1.000,  1.000], mean action: 0.463 [0.000, 1.000],  loss: 1.069315, mae: 21.963910, mean_q: 43.822788, mean_eps: 0.100000\n",
            " 4767/10000: episode: 57, duration: 1.236s, episode steps: 165, steps per second: 133, episode reward: 165.000, mean reward:  1.000 [ 1.000,  1.000], mean action: 0.479 [0.000, 1.000],  loss: 0.788634, mae: 21.557019, mean_q: 43.063966, mean_eps: 0.100000\n",
            " 4922/10000: episode: 58, duration: 1.150s, episode steps: 155, steps per second: 135, episode reward: 155.000, mean reward:  1.000 [ 1.000,  1.000], mean action: 0.523 [0.000, 1.000],  loss: 0.887172, mae: 21.629495, mean_q: 43.265847, mean_eps: 0.100000\n",
            " 5122/10000: episode: 59, duration: 1.417s, episode steps: 200, steps per second: 141, episode reward: 200.000, mean reward:  1.000 [ 1.000,  1.000], mean action: 0.480 [0.000, 1.000],  loss: 0.979631, mae: 21.628837, mean_q: 43.114964, mean_eps: 0.100000\n",
            " 5224/10000: episode: 60, duration: 0.743s, episode steps: 102, steps per second: 137, episode reward: 102.000, mean reward:  1.000 [ 1.000,  1.000], mean action: 0.461 [0.000, 1.000],  loss: 0.426916, mae: 21.528310, mean_q: 43.054627, mean_eps: 0.100000\n",
            " 5386/10000: episode: 61, duration: 1.233s, episode steps: 162, steps per second: 131, episode reward: 162.000, mean reward:  1.000 [ 1.000,  1.000], mean action: 0.475 [0.000, 1.000],  loss: 1.108037, mae: 21.896520, mean_q: 43.741745, mean_eps: 0.100000\n",
            " 5495/10000: episode: 62, duration: 0.802s, episode steps: 109, steps per second: 136, episode reward: 109.000, mean reward:  1.000 [ 1.000,  1.000], mean action: 0.459 [0.000, 1.000],  loss: 0.833744, mae: 21.412494, mean_q: 42.741287, mean_eps: 0.100000\n",
            " 5680/10000: episode: 63, duration: 1.380s, episode steps: 185, steps per second: 134, episode reward: 185.000, mean reward:  1.000 [ 1.000,  1.000], mean action: 0.476 [0.000, 1.000],  loss: 0.557768, mae: 21.149713, mean_q: 42.265980, mean_eps: 0.100000\n",
            " 5794/10000: episode: 64, duration: 0.862s, episode steps: 114, steps per second: 132, episode reward: 114.000, mean reward:  1.000 [ 1.000,  1.000], mean action: 0.456 [0.000, 1.000],  loss: 0.549331, mae: 21.477139, mean_q: 42.927514, mean_eps: 0.100000\n",
            " 5994/10000: episode: 65, duration: 1.856s, episode steps: 200, steps per second: 108, episode reward: 200.000, mean reward:  1.000 [ 1.000,  1.000], mean action: 0.480 [0.000, 1.000],  loss: 1.430060, mae: 21.306829, mean_q: 42.530483, mean_eps: 0.100000\n",
            " 6149/10000: episode: 66, duration: 1.483s, episode steps: 155, steps per second: 105, episode reward: 155.000, mean reward:  1.000 [ 1.000,  1.000], mean action: 0.465 [0.000, 1.000],  loss: 1.197244, mae: 21.373549, mean_q: 42.717080, mean_eps: 0.100000\n",
            " 6302/10000: episode: 67, duration: 1.127s, episode steps: 153, steps per second: 136, episode reward: 153.000, mean reward:  1.000 [ 1.000,  1.000], mean action: 0.471 [0.000, 1.000],  loss: 0.790536, mae: 21.605009, mean_q: 43.197313, mean_eps: 0.100000\n",
            " 6502/10000: episode: 68, duration: 1.434s, episode steps: 200, steps per second: 139, episode reward: 200.000, mean reward:  1.000 [ 1.000,  1.000], mean action: 0.500 [0.000, 1.000],  loss: 1.276479, mae: 21.297939, mean_q: 42.372610, mean_eps: 0.100000\n",
            " 6702/10000: episode: 69, duration: 1.443s, episode steps: 200, steps per second: 139, episode reward: 200.000, mean reward:  1.000 [ 1.000,  1.000], mean action: 0.485 [0.000, 1.000],  loss: 1.067029, mae: 21.693076, mean_q: 43.384253, mean_eps: 0.100000\n",
            " 6893/10000: episode: 70, duration: 1.393s, episode steps: 191, steps per second: 137, episode reward: 191.000, mean reward:  1.000 [ 1.000,  1.000], mean action: 0.471 [0.000, 1.000],  loss: 1.178433, mae: 21.716268, mean_q: 43.303441, mean_eps: 0.100000\n",
            " 7093/10000: episode: 71, duration: 1.496s, episode steps: 200, steps per second: 134, episode reward: 200.000, mean reward:  1.000 [ 1.000,  1.000], mean action: 0.500 [0.000, 1.000],  loss: 0.913597, mae: 21.837249, mean_q: 43.605411, mean_eps: 0.100000\n",
            " 7293/10000: episode: 72, duration: 1.478s, episode steps: 200, steps per second: 135, episode reward: 200.000, mean reward:  1.000 [ 1.000,  1.000], mean action: 0.525 [0.000, 1.000],  loss: 1.109976, mae: 22.547450, mean_q: 45.159678, mean_eps: 0.100000\n",
            " 7493/10000: episode: 73, duration: 1.533s, episode steps: 200, steps per second: 130, episode reward: 200.000, mean reward:  1.000 [ 1.000,  1.000], mean action: 0.525 [0.000, 1.000],  loss: 1.346447, mae: 22.790395, mean_q: 45.674297, mean_eps: 0.100000\n",
            " 7693/10000: episode: 74, duration: 2.060s, episode steps: 200, steps per second:  97, episode reward: 200.000, mean reward:  1.000 [ 1.000,  1.000], mean action: 0.500 [0.000, 1.000],  loss: 2.127342, mae: 23.295630, mean_q: 46.624027, mean_eps: 0.100000\n",
            " 7893/10000: episode: 75, duration: 1.520s, episode steps: 200, steps per second: 132, episode reward: 200.000, mean reward:  1.000 [ 1.000,  1.000], mean action: 0.500 [0.000, 1.000],  loss: 1.653345, mae: 23.845294, mean_q: 47.811731, mean_eps: 0.100000\n",
            " 8093/10000: episode: 76, duration: 1.455s, episode steps: 200, steps per second: 137, episode reward: 200.000, mean reward:  1.000 [ 1.000,  1.000], mean action: 0.515 [0.000, 1.000],  loss: 2.580130, mae: 24.243270, mean_q: 48.536715, mean_eps: 0.100000\n",
            " 8293/10000: episode: 77, duration: 1.485s, episode steps: 200, steps per second: 135, episode reward: 200.000, mean reward:  1.000 [ 1.000,  1.000], mean action: 0.500 [0.000, 1.000],  loss: 1.360653, mae: 24.764665, mean_q: 49.701555, mean_eps: 0.100000\n",
            " 8493/10000: episode: 78, duration: 1.505s, episode steps: 200, steps per second: 133, episode reward: 200.000, mean reward:  1.000 [ 1.000,  1.000], mean action: 0.500 [0.000, 1.000],  loss: 1.889926, mae: 25.304882, mean_q: 50.806117, mean_eps: 0.100000\n",
            " 8693/10000: episode: 79, duration: 1.444s, episode steps: 200, steps per second: 138, episode reward: 200.000, mean reward:  1.000 [ 1.000,  1.000], mean action: 0.505 [0.000, 1.000],  loss: 2.987324, mae: 25.610480, mean_q: 51.363678, mean_eps: 0.100000\n",
            " 8893/10000: episode: 80, duration: 1.480s, episode steps: 200, steps per second: 135, episode reward: 200.000, mean reward:  1.000 [ 1.000,  1.000], mean action: 0.500 [0.000, 1.000],  loss: 2.772328, mae: 26.365377, mean_q: 53.035031, mean_eps: 0.100000\n",
            " 9093/10000: episode: 81, duration: 1.532s, episode steps: 200, steps per second: 131, episode reward: 200.000, mean reward:  1.000 [ 1.000,  1.000], mean action: 0.510 [0.000, 1.000],  loss: 2.762181, mae: 26.991394, mean_q: 54.298379, mean_eps: 0.100000\n",
            " 9293/10000: episode: 82, duration: 2.057s, episode steps: 200, steps per second:  97, episode reward: 200.000, mean reward:  1.000 [ 1.000,  1.000], mean action: 0.505 [0.000, 1.000],  loss: 3.796290, mae: 27.332223, mean_q: 54.875742, mean_eps: 0.100000\n",
            " 9493/10000: episode: 83, duration: 1.524s, episode steps: 200, steps per second: 131, episode reward: 200.000, mean reward:  1.000 [ 1.000,  1.000], mean action: 0.500 [0.000, 1.000],  loss: 5.738834, mae: 27.979122, mean_q: 56.046438, mean_eps: 0.100000\n",
            " 9693/10000: episode: 84, duration: 1.462s, episode steps: 200, steps per second: 137, episode reward: 200.000, mean reward:  1.000 [ 1.000,  1.000], mean action: 0.500 [0.000, 1.000],  loss: 3.472286, mae: 28.665566, mean_q: 57.543269, mean_eps: 0.100000\n",
            " 9893/10000: episode: 85, duration: 1.455s, episode steps: 200, steps per second: 137, episode reward: 200.000, mean reward:  1.000 [ 1.000,  1.000], mean action: 0.500 [0.000, 1.000],  loss: 4.238681, mae: 29.073450, mean_q: 58.337754, mean_eps: 0.100000\n",
            "done, took 79.066 seconds\n"
          ]
        },
        {
          "output_type": "display_data",
          "data": {
            "text/plain": [
              "<Figure size 432x288 with 1 Axes>"
            ],
            "image/png": "[encoded data removed]"
          },
          "metadata": {
            "needs_background": "light"
          }
        },
        {
          "output_type": "stream",
          "name": "stdout",
          "text": [
            "Testing for 20 episodes ...\n",
            "Episode 1: reward: 200.000, steps: 200\n",
            "Episode 2: reward: 200.000, steps: 200\n",
            "Episode 3: reward: 200.000, steps: 200\n",
            "Episode 4: reward: 200.000, steps: 200\n",
            "Episode 5: reward: 200.000, steps: 200\n",
            "Episode 6: reward: 200.000, steps: 200\n",
            "Episode 7: reward: 200.000, steps: 200\n",
            "Episode 8: reward: 200.000, steps: 200\n",
            "Episode 9: reward: 200.000, steps: 200\n",
            "Episode 10: reward: 200.000, steps: 200\n",
            "Episode 11: reward: 200.000, steps: 200\n",
            "Episode 12: reward: 200.000, steps: 200\n",
            "Episode 13: reward: 200.000, steps: 200\n",
            "Episode 14: reward: 200.000, steps: 200\n",
            "Episode 15: reward: 200.000, steps: 200\n",
            "Episode 16: reward: 200.000, steps: 200\n",
            "Episode 17: reward: 200.000, steps: 200\n",
            "Episode 18: reward: 200.000, steps: 200\n",
            "Episode 19: reward: 200.000, steps: 200\n",
            "Episode 20: reward: 200.000, steps: 200\n"
          ]
        },
        {
          "output_type": "execute_result",
          "data": {
            "text/plain": [
              "<keras.callbacks.History at 0x7f825d60a820>"
            ]
          },
          "metadata": {},
          "execution_count": 15
        }
      ]
    },
    {
      "cell_type": "markdown",
      "source": [
        "## Warm up 55 & gamma 0.99 but with nb_steps 7000\n"
      ],
      "metadata": {
        "id": "TRgApdoRLxr5"
      }
    },
    {
      "cell_type": "code",
      "source": [
        "memory = SequentialMemory(limit=10000, window_length=1)\n",
        "\n",
        "policy =  LinearAnnealedPolicy(inner_policy=EpsGreedyQPolicy(0.2), \n",
        "                               attr='eps',            \n",
        "                               value_max=1.,\n",
        "                               value_min=.1, \n",
        "                               value_test=.05,\n",
        "                               nb_steps=200)\n",
        "\n",
        "# Q-Network\n",
        "model = Sequential()\n",
        "model.add(Input(shape=(1,env.observation_space.shape[0])))  # The input is 1 observation vector, and the number of observations in that vector \n",
        "# add extra layers here\n",
        "model.add(Flatten())\n",
        "model.add(Dense(16, activation='relu'))\n",
        "model.add(Dense(16, activation='relu'))\n",
        "model.add(Dense(env.action_space.n, activation='linear'))   # the output is the number of actions in the action space\n",
        "print(model.summary())"
      ],
      "metadata": {
        "colab": {
          "base_uri": "https://localhost:8080/"
        },
        "id": "igKU4hAzL2s4",
        "outputId": "9fe4a2da-4f41-41d7-e08f-574406b29f21"
      },
      "execution_count": null,
      "outputs": [
        {
          "output_type": "stream",
          "name": "stdout",
          "text": [
            "Model: \"sequential_9\"\n",
            "_________________________________________________________________\n",
            " Layer (type)                Output Shape              Param #   \n",
            "=================================================================\n",
            " flatten_9 (Flatten)         (None, 4)                 0         \n",
            "                                                                 \n",
            " dense_27 (Dense)            (None, 16)                80        \n",
            "                                                                 \n",
            " dense_28 (Dense)            (None, 16)                272       \n",
            "                                                                 \n",
            " dense_29 (Dense)            (None, 2)                 34        \n",
            "                                                                 \n",
            "=================================================================\n",
            "Total params: 386\n",
            "Trainable params: 386\n",
            "Non-trainable params: 0\n",
            "_________________________________________________________________\n",
            "None\n"
          ]
        }
      ]
    },
    {
      "cell_type": "code",
      "source": [
        "# define the agent\n",
        "dqn = DQNAgent(model=model, \n",
        "               nb_actions=env.action_space.n,\n",
        "               memory=memory,\n",
        "               nb_steps_warmup=55, # how many steps are waited before starting experience replay,\n",
        "               target_model_update=1e-2, \n",
        "               policy=policy,\n",
        "               gamma=0.99) \n",
        "\n",
        "dqn.compile(Adam(learning_rate=.0003), metrics=['mae'])\n",
        "\n",
        "history = dqn.fit(env, nb_steps=7000, visualize=False, verbose=2)\n",
        "\n",
        "# summarize the history for number  of episode steps\n",
        "plt.plot(history.history['nb_episode_steps'])\n",
        "plt.ylabel('nb_episode_steps')\n",
        "plt.xlabel('episodes')\n",
        "plt.show()\n",
        "\n",
        "dqn.test(env, nb_episodes=20, visualize=False)"
      ],
      "metadata": {
        "colab": {
          "base_uri": "https://localhost:8080/",
          "height": 1000
        },
        "outputId": "f24b008f-f2a1-4d4b-d3da-3dccb295c540",
        "id": "3kM3jcH_Lxr5"
      },
      "execution_count": null,
      "outputs": [
        {
          "output_type": "stream",
          "name": "stdout",
          "text": [
            "Training for 7000 steps ...\n"
          ]
        },
        {
          "output_type": "stream",
          "name": "stderr",
          "text": [
            "/usr/local/lib/python3.9/dist-packages/keras/engine/training_v1.py:2357: UserWarning: `Model.state_updates` will be removed in a future version. This property should not be used in TensorFlow 2.0, as `updates` are applied automatically.\n",
            "  updates=self.state_updates,\n"
          ]
        },
        {
          "output_type": "stream",
          "name": "stdout",
          "text": [
            "   12/7000: episode: 1, duration: 0.953s, episode steps:  12, steps per second:  13, episode reward: 12.000, mean reward:  1.000 [ 1.000,  1.000], mean action: 0.667 [0.000, 1.000],  loss: --, mae: --, mean_q: --, mean_eps: --\n"
          ]
        },
        {
          "output_type": "stream",
          "name": "stderr",
          "text": [
            "/usr/local/lib/python3.9/dist-packages/keras/engine/training_v1.py:2357: UserWarning: `Model.state_updates` will be removed in a future version. This property should not be used in TensorFlow 2.0, as `updates` are applied automatically.\n",
            "  updates=self.state_updates,\n"
          ]
        },
        {
          "output_type": "stream",
          "name": "stdout",
          "text": [
            "   73/7000: episode: 2, duration: 3.550s, episode steps:  61, steps per second:  17, episode reward: 61.000, mean reward:  1.000 [ 1.000,  1.000], mean action: 0.525 [0.000, 1.000],  loss: 4.070912, mae: 12.237512, mean_q: 23.960834, mean_eps: 0.712000\n",
            "  107/7000: episode: 3, duration: 0.336s, episode steps:  34, steps per second: 101, episode reward: 34.000, mean reward:  1.000 [ 1.000,  1.000], mean action: 0.529 [0.000, 1.000],  loss: 5.885544, mae: 12.342272, mean_q: 24.045447, mean_eps: 0.597250\n",
            "  172/7000: episode: 4, duration: 0.593s, episode steps:  65, steps per second: 110, episode reward: 65.000, mean reward:  1.000 [ 1.000,  1.000], mean action: 0.492 [0.000, 1.000],  loss: 5.256099, mae: 12.318729, mean_q: 24.012841, mean_eps: 0.374500\n",
            "  224/7000: episode: 5, duration: 0.474s, episode steps:  52, steps per second: 110, episode reward: 52.000, mean reward:  1.000 [ 1.000,  1.000], mean action: 0.481 [0.000, 1.000],  loss: 5.262971, mae: 12.463736, mean_q: 24.339831, mean_eps: 0.135135\n",
            "  286/7000: episode: 6, duration: 0.600s, episode steps:  62, steps per second: 103, episode reward: 62.000, mean reward:  1.000 [ 1.000,  1.000], mean action: 0.468 [0.000, 1.000],  loss: 5.522846, mae: 12.530791, mean_q: 24.406029, mean_eps: 0.100000\n",
            "  329/7000: episode: 7, duration: 0.396s, episode steps:  43, steps per second: 108, episode reward: 43.000, mean reward:  1.000 [ 1.000,  1.000], mean action: 0.465 [0.000, 1.000],  loss: 5.418550, mae: 12.529652, mean_q: 24.477452, mean_eps: 0.100000\n",
            "  490/7000: episode: 8, duration: 1.420s, episode steps: 161, steps per second: 113, episode reward: 161.000, mean reward:  1.000 [ 1.000,  1.000], mean action: 0.484 [0.000, 1.000],  loss: 6.217068, mae: 12.741379, mean_q: 24.900501, mean_eps: 0.100000\n",
            "  538/7000: episode: 9, duration: 0.422s, episode steps:  48, steps per second: 114, episode reward: 48.000, mean reward:  1.000 [ 1.000,  1.000], mean action: 0.458 [0.000, 1.000],  loss: 4.198472, mae: 12.845118, mean_q: 25.286681, mean_eps: 0.100000\n",
            "  738/7000: episode: 10, duration: 2.195s, episode steps: 200, steps per second:  91, episode reward: 200.000, mean reward:  1.000 [ 1.000,  1.000], mean action: 0.490 [0.000, 1.000],  loss: 6.132947, mae: 12.939629, mean_q: 25.307670, mean_eps: 0.100000\n",
            "  833/7000: episode: 11, duration: 1.106s, episode steps:  95, steps per second:  86, episode reward: 95.000, mean reward:  1.000 [ 1.000,  1.000], mean action: 0.474 [0.000, 1.000],  loss: 6.783958, mae: 13.217153, mean_q: 25.864988, mean_eps: 0.100000\n",
            "  988/7000: episode: 12, duration: 1.345s, episode steps: 155, steps per second: 115, episode reward: 155.000, mean reward:  1.000 [ 1.000,  1.000], mean action: 0.465 [0.000, 1.000],  loss: 6.070838, mae: 13.290027, mean_q: 26.122570, mean_eps: 0.100000\n",
            " 1055/7000: episode: 13, duration: 0.580s, episode steps:  67, steps per second: 116, episode reward: 67.000, mean reward:  1.000 [ 1.000,  1.000], mean action: 0.448 [0.000, 1.000],  loss: 6.655739, mae: 13.251857, mean_q: 25.951195, mean_eps: 0.100000\n",
            " 1140/7000: episode: 14, duration: 0.754s, episode steps:  85, steps per second: 113, episode reward: 85.000, mean reward:  1.000 [ 1.000,  1.000], mean action: 0.471 [0.000, 1.000],  loss: 5.521475, mae: 13.421029, mean_q: 26.447142, mean_eps: 0.100000\n",
            " 1340/7000: episode: 15, duration: 1.773s, episode steps: 200, steps per second: 113, episode reward: 200.000, mean reward:  1.000 [ 1.000,  1.000], mean action: 0.500 [0.000, 1.000],  loss: 5.613829, mae: 13.584341, mean_q: 26.803405, mean_eps: 0.100000\n",
            " 1522/7000: episode: 16, duration: 1.630s, episode steps: 182, steps per second: 112, episode reward: 182.000, mean reward:  1.000 [ 1.000,  1.000], mean action: 0.489 [0.000, 1.000],  loss: 5.834026, mae: 13.887250, mean_q: 27.458463, mean_eps: 0.100000\n",
            " 1699/7000: episode: 17, duration: 1.603s, episode steps: 177, steps per second: 110, episode reward: 177.000, mean reward:  1.000 [ 1.000,  1.000], mean action: 0.480 [0.000, 1.000],  loss: 5.798488, mae: 14.002141, mean_q: 27.722879, mean_eps: 0.100000\n",
            " 1899/7000: episode: 18, duration: 1.740s, episode steps: 200, steps per second: 115, episode reward: 200.000, mean reward:  1.000 [ 1.000,  1.000], mean action: 0.485 [0.000, 1.000],  loss: 6.246608, mae: 14.241626, mean_q: 28.253361, mean_eps: 0.100000\n",
            " 2099/7000: episode: 19, duration: 2.315s, episode steps: 200, steps per second:  86, episode reward: 200.000, mean reward:  1.000 [ 1.000,  1.000], mean action: 0.490 [0.000, 1.000],  loss: 5.954243, mae: 14.475589, mean_q: 28.685960, mean_eps: 0.100000\n",
            " 2299/7000: episode: 20, duration: 1.918s, episode steps: 200, steps per second: 104, episode reward: 200.000, mean reward:  1.000 [ 1.000,  1.000], mean action: 0.490 [0.000, 1.000],  loss: 6.354595, mae: 14.876755, mean_q: 29.525388, mean_eps: 0.100000\n",
            " 2455/7000: episode: 21, duration: 1.413s, episode steps: 156, steps per second: 110, episode reward: 156.000, mean reward:  1.000 [ 1.000,  1.000], mean action: 0.474 [0.000, 1.000],  loss: 7.257182, mae: 15.028842, mean_q: 29.708278, mean_eps: 0.100000\n",
            " 2655/7000: episode: 22, duration: 1.848s, episode steps: 200, steps per second: 108, episode reward: 200.000, mean reward:  1.000 [ 1.000,  1.000], mean action: 0.490 [0.000, 1.000],  loss: 5.426870, mae: 15.088217, mean_q: 29.954245, mean_eps: 0.100000\n",
            " 2831/7000: episode: 23, duration: 1.590s, episode steps: 176, steps per second: 111, episode reward: 176.000, mean reward:  1.000 [ 1.000,  1.000], mean action: 0.483 [0.000, 1.000],  loss: 6.358040, mae: 15.075935, mean_q: 29.928666, mean_eps: 0.100000\n",
            " 3024/7000: episode: 24, duration: 1.687s, episode steps: 193, steps per second: 114, episode reward: 193.000, mean reward:  1.000 [ 1.000,  1.000], mean action: 0.482 [0.000, 1.000],  loss: 5.244378, mae: 15.299751, mean_q: 30.522980, mean_eps: 0.100000\n",
            " 3224/7000: episode: 25, duration: 1.742s, episode steps: 200, steps per second: 115, episode reward: 200.000, mean reward:  1.000 [ 1.000,  1.000], mean action: 0.480 [0.000, 1.000],  loss: 6.620882, mae: 15.426076, mean_q: 30.684042, mean_eps: 0.100000\n",
            " 3408/7000: episode: 26, duration: 2.155s, episode steps: 184, steps per second:  85, episode reward: 184.000, mean reward:  1.000 [ 1.000,  1.000], mean action: 0.489 [0.000, 1.000],  loss: 4.475284, mae: 15.630171, mean_q: 31.348590, mean_eps: 0.100000\n",
            " 3608/7000: episode: 27, duration: 1.946s, episode steps: 200, steps per second: 103, episode reward: 200.000, mean reward:  1.000 [ 1.000,  1.000], mean action: 0.485 [0.000, 1.000],  loss: 5.246284, mae: 15.902116, mean_q: 31.933914, mean_eps: 0.100000\n",
            " 3808/7000: episode: 28, duration: 1.727s, episode steps: 200, steps per second: 116, episode reward: 200.000, mean reward:  1.000 [ 1.000,  1.000], mean action: 0.490 [0.000, 1.000],  loss: 5.396105, mae: 16.164830, mean_q: 32.475147, mean_eps: 0.100000\n",
            " 4008/7000: episode: 29, duration: 1.802s, episode steps: 200, steps per second: 111, episode reward: 200.000, mean reward:  1.000 [ 1.000,  1.000], mean action: 0.505 [0.000, 1.000],  loss: 4.299708, mae: 16.657479, mean_q: 33.605624, mean_eps: 0.100000\n",
            " 4208/7000: episode: 30, duration: 1.745s, episode steps: 200, steps per second: 115, episode reward: 200.000, mean reward:  1.000 [ 1.000,  1.000], mean action: 0.500 [0.000, 1.000],  loss: 5.570843, mae: 17.082150, mean_q: 34.346694, mean_eps: 0.100000\n",
            " 4408/7000: episode: 31, duration: 1.818s, episode steps: 200, steps per second: 110, episode reward: 200.000, mean reward:  1.000 [ 1.000,  1.000], mean action: 0.495 [0.000, 1.000],  loss: 5.340768, mae: 17.500827, mean_q: 35.291467, mean_eps: 0.100000\n",
            " 4608/7000: episode: 32, duration: 1.800s, episode steps: 200, steps per second: 111, episode reward: 200.000, mean reward:  1.000 [ 1.000,  1.000], mean action: 0.495 [0.000, 1.000],  loss: 3.786279, mae: 17.905670, mean_q: 36.279945, mean_eps: 0.100000\n",
            " 4808/7000: episode: 33, duration: 2.548s, episode steps: 200, steps per second:  78, episode reward: 200.000, mean reward:  1.000 [ 1.000,  1.000], mean action: 0.495 [0.000, 1.000],  loss: 5.621196, mae: 18.485133, mean_q: 37.327915, mean_eps: 0.100000\n",
            " 5008/7000: episode: 34, duration: 1.817s, episode steps: 200, steps per second: 110, episode reward: 200.000, mean reward:  1.000 [ 1.000,  1.000], mean action: 0.495 [0.000, 1.000],  loss: 4.589054, mae: 18.728802, mean_q: 37.911874, mean_eps: 0.100000\n",
            " 5208/7000: episode: 35, duration: 1.781s, episode steps: 200, steps per second: 112, episode reward: 200.000, mean reward:  1.000 [ 1.000,  1.000], mean action: 0.495 [0.000, 1.000],  loss: 3.073481, mae: 19.281600, mean_q: 39.140777, mean_eps: 0.100000\n",
            " 5408/7000: episode: 36, duration: 1.835s, episode steps: 200, steps per second: 109, episode reward: 200.000, mean reward:  1.000 [ 1.000,  1.000], mean action: 0.495 [0.000, 1.000],  loss: 3.065338, mae: 19.744553, mean_q: 40.058445, mean_eps: 0.100000\n",
            " 5608/7000: episode: 37, duration: 1.805s, episode steps: 200, steps per second: 111, episode reward: 200.000, mean reward:  1.000 [ 1.000,  1.000], mean action: 0.485 [0.000, 1.000],  loss: 5.851674, mae: 20.190638, mean_q: 40.799794, mean_eps: 0.100000\n",
            " 5808/7000: episode: 38, duration: 1.795s, episode steps: 200, steps per second: 111, episode reward: 200.000, mean reward:  1.000 [ 1.000,  1.000], mean action: 0.485 [0.000, 1.000],  loss: 3.350317, mae: 20.398860, mean_q: 41.307023, mean_eps: 0.100000\n",
            " 6008/7000: episode: 39, duration: 2.129s, episode steps: 200, steps per second:  94, episode reward: 200.000, mean reward:  1.000 [ 1.000,  1.000], mean action: 0.515 [0.000, 1.000],  loss: 3.991830, mae: 20.895579, mean_q: 42.321509, mean_eps: 0.100000\n",
            " 6208/7000: episode: 40, duration: 2.195s, episode steps: 200, steps per second:  91, episode reward: 200.000, mean reward:  1.000 [ 1.000,  1.000], mean action: 0.485 [0.000, 1.000],  loss: 3.961758, mae: 21.290897, mean_q: 43.079026, mean_eps: 0.100000\n",
            " 6408/7000: episode: 41, duration: 1.809s, episode steps: 200, steps per second: 111, episode reward: 200.000, mean reward:  1.000 [ 1.000,  1.000], mean action: 0.485 [0.000, 1.000],  loss: 4.298685, mae: 21.521705, mean_q: 43.500808, mean_eps: 0.100000\n",
            " 6608/7000: episode: 42, duration: 1.775s, episode steps: 200, steps per second: 113, episode reward: 200.000, mean reward:  1.000 [ 1.000,  1.000], mean action: 0.490 [0.000, 1.000],  loss: 4.452201, mae: 21.819671, mean_q: 44.147835, mean_eps: 0.100000\n",
            " 6808/7000: episode: 43, duration: 1.777s, episode steps: 200, steps per second: 113, episode reward: 200.000, mean reward:  1.000 [ 1.000,  1.000], mean action: 0.505 [0.000, 1.000],  loss: 6.510055, mae: 22.183354, mean_q: 44.742025, mean_eps: 0.100000\n",
            "done, took 70.011 seconds\n"
          ]
        },
        {
          "output_type": "display_data",
          "data": {
            "text/plain": [
              "<Figure size 432x288 with 1 Axes>"
            ],
            "image/png": "[encoded data removed]"
          },
          "metadata": {
            "needs_background": "light"
          }
        },
        {
          "output_type": "stream",
          "name": "stdout",
          "text": [
            "Testing for 20 episodes ...\n",
            "Episode 1: reward: 200.000, steps: 200\n",
            "Episode 2: reward: 200.000, steps: 200\n",
            "Episode 3: reward: 200.000, steps: 200\n",
            "Episode 4: reward: 200.000, steps: 200\n",
            "Episode 5: reward: 200.000, steps: 200\n",
            "Episode 6: reward: 200.000, steps: 200\n",
            "Episode 7: reward: 200.000, steps: 200\n",
            "Episode 8: reward: 200.000, steps: 200\n",
            "Episode 9: reward: 200.000, steps: 200\n",
            "Episode 10: reward: 200.000, steps: 200\n",
            "Episode 11: reward: 200.000, steps: 200\n",
            "Episode 12: reward: 200.000, steps: 200\n",
            "Episode 13: reward: 200.000, steps: 200\n",
            "Episode 14: reward: 200.000, steps: 200\n",
            "Episode 15: reward: 200.000, steps: 200\n",
            "Episode 16: reward: 200.000, steps: 200\n",
            "Episode 17: reward: 200.000, steps: 200\n",
            "Episode 18: reward: 200.000, steps: 200\n",
            "Episode 19: reward: 200.000, steps: 200\n",
            "Episode 20: reward: 200.000, steps: 200\n"
          ]
        },
        {
          "output_type": "execute_result",
          "data": {
            "text/plain": [
              "<keras.callbacks.History at 0x7f825b1a9a30>"
            ]
          },
          "metadata": {},
          "execution_count": 38
        }
      ]
    },
    {
      "cell_type": "markdown",
      "source": [
        "## Warm up 55 & gamma 0.99 but with nb_steps 6000"
      ],
      "metadata": {
        "id": "l7sv425SRGnL"
      }
    },
    {
      "cell_type": "code",
      "source": [
        "# define the agent\n",
        "dqn = DQNAgent(model=model, \n",
        "               nb_actions=env.action_space.n,\n",
        "               memory=memory,\n",
        "               nb_steps_warmup=55, # how many steps are waited before starting experience replay,\n",
        "               target_model_update=1e-2, \n",
        "               policy=policy,\n",
        "               gamma=0.99) \n",
        "\n",
        "dqn.compile(Adam(learning_rate=.0003), metrics=['mae'])\n",
        "\n",
        "history = dqn.fit(env, nb_steps=6000, visualize=False, verbose=2)\n",
        "\n",
        "# summarize the history for number  of episode steps\n",
        "plt.plot(history.history['nb_episode_steps'])\n",
        "plt.ylabel('nb_episode_steps')\n",
        "plt.xlabel('episodes')\n",
        "plt.show()\n",
        "\n",
        "dqn.test(env, nb_episodes=20, visualize=False)"
      ],
      "metadata": {
        "colab": {
          "base_uri": "https://localhost:8080/",
          "height": 1000
        },
        "id": "urdQLNlVMC3e",
        "outputId": "34fa79a3-5939-42df-bd3d-e66a8d8b329e"
      },
      "execution_count": null,
      "outputs": [
        {
          "output_type": "stream",
          "name": "stdout",
          "text": [
            "Training for 6000 steps ...\n"
          ]
        },
        {
          "output_type": "stream",
          "name": "stderr",
          "text": [
            "/usr/local/lib/python3.9/dist-packages/keras/engine/training_v1.py:2357: UserWarning: `Model.state_updates` will be removed in a future version. This property should not be used in TensorFlow 2.0, as `updates` are applied automatically.\n",
            "  updates=self.state_updates,\n"
          ]
        },
        {
          "output_type": "stream",
          "name": "stdout",
          "text": [
            "   21/6000: episode: 1, duration: 1.401s, episode steps:  21, steps per second:  15, episode reward: 21.000, mean reward:  1.000 [ 1.000,  1.000], mean action: 0.571 [0.000, 1.000],  loss: --, mae: --, mean_q: --, mean_eps: --\n",
            "   41/6000: episode: 2, duration: 0.023s, episode steps:  20, steps per second: 855, episode reward: 20.000, mean reward:  1.000 [ 1.000,  1.000], mean action: 0.550 [0.000, 1.000],  loss: --, mae: --, mean_q: --, mean_eps: --\n"
          ]
        },
        {
          "output_type": "stream",
          "name": "stderr",
          "text": [
            "/usr/local/lib/python3.9/dist-packages/keras/engine/training_v1.py:2357: UserWarning: `Model.state_updates` will be removed in a future version. This property should not be used in TensorFlow 2.0, as `updates` are applied automatically.\n",
            "  updates=self.state_updates,\n"
          ]
        },
        {
          "output_type": "stream",
          "name": "stdout",
          "text": [
            "   63/6000: episode: 3, duration: 3.620s, episode steps:  22, steps per second:   6, episode reward: 22.000, mean reward:  1.000 [ 1.000,  1.000], mean action: 0.500 [0.000, 1.000],  loss: 5.777946, mae: 22.876723, mean_q: 46.157059, mean_eps: 0.734500\n",
            "  263/6000: episode: 4, duration: 1.764s, episode steps: 200, steps per second: 113, episode reward: 200.000, mean reward:  1.000 [ 1.000,  1.000], mean action: 0.500 [0.000, 1.000],  loss: 5.084045, mae: 23.262863, mean_q: 46.961567, mean_eps: 0.312692\n",
            "  463/6000: episode: 5, duration: 1.791s, episode steps: 200, steps per second: 112, episode reward: 200.000, mean reward:  1.000 [ 1.000,  1.000], mean action: 0.500 [0.000, 1.000],  loss: 7.508859, mae: 23.744461, mean_q: 47.798727, mean_eps: 0.100000\n",
            "  663/6000: episode: 6, duration: 1.768s, episode steps: 200, steps per second: 113, episode reward: 200.000, mean reward:  1.000 [ 1.000,  1.000], mean action: 0.495 [0.000, 1.000],  loss: 5.287035, mae: 23.941380, mean_q: 48.263032, mean_eps: 0.100000\n",
            "  863/6000: episode: 7, duration: 2.244s, episode steps: 200, steps per second:  89, episode reward: 200.000, mean reward:  1.000 [ 1.000,  1.000], mean action: 0.500 [0.000, 1.000],  loss: 4.285153, mae: 24.263479, mean_q: 48.942425, mean_eps: 0.100000\n",
            " 1063/6000: episode: 8, duration: 2.079s, episode steps: 200, steps per second:  96, episode reward: 200.000, mean reward:  1.000 [ 1.000,  1.000], mean action: 0.495 [0.000, 1.000],  loss: 4.179882, mae: 24.606970, mean_q: 49.642594, mean_eps: 0.100000\n",
            " 1263/6000: episode: 9, duration: 1.787s, episode steps: 200, steps per second: 112, episode reward: 200.000, mean reward:  1.000 [ 1.000,  1.000], mean action: 0.495 [0.000, 1.000],  loss: 3.655188, mae: 25.143758, mean_q: 50.740770, mean_eps: 0.100000\n",
            " 1463/6000: episode: 10, duration: 1.766s, episode steps: 200, steps per second: 113, episode reward: 200.000, mean reward:  1.000 [ 1.000,  1.000], mean action: 0.505 [0.000, 1.000],  loss: 5.311664, mae: 25.457675, mean_q: 51.295675, mean_eps: 0.100000\n",
            " 1663/6000: episode: 11, duration: 1.790s, episode steps: 200, steps per second: 112, episode reward: 200.000, mean reward:  1.000 [ 1.000,  1.000], mean action: 0.495 [0.000, 1.000],  loss: 6.822479, mae: 25.852605, mean_q: 51.971875, mean_eps: 0.100000\n",
            " 1863/6000: episode: 12, duration: 1.788s, episode steps: 200, steps per second: 112, episode reward: 200.000, mean reward:  1.000 [ 1.000,  1.000], mean action: 0.495 [0.000, 1.000],  loss: 3.922833, mae: 26.061188, mean_q: 52.499652, mean_eps: 0.100000\n",
            " 2063/6000: episode: 13, duration: 1.765s, episode steps: 200, steps per second: 113, episode reward: 200.000, mean reward:  1.000 [ 1.000,  1.000], mean action: 0.505 [0.000, 1.000],  loss: 7.465173, mae: 26.427112, mean_q: 53.021292, mean_eps: 0.100000\n",
            " 2263/6000: episode: 14, duration: 2.508s, episode steps: 200, steps per second:  80, episode reward: 200.000, mean reward:  1.000 [ 1.000,  1.000], mean action: 0.500 [0.000, 1.000],  loss: 6.817984, mae: 26.891890, mean_q: 53.993927, mean_eps: 0.100000\n",
            " 2463/6000: episode: 15, duration: 1.764s, episode steps: 200, steps per second: 113, episode reward: 200.000, mean reward:  1.000 [ 1.000,  1.000], mean action: 0.500 [0.000, 1.000],  loss: 9.479422, mae: 27.181783, mean_q: 54.342340, mean_eps: 0.100000\n",
            " 2663/6000: episode: 16, duration: 1.817s, episode steps: 200, steps per second: 110, episode reward: 200.000, mean reward:  1.000 [ 1.000,  1.000], mean action: 0.500 [0.000, 1.000],  loss: 7.061114, mae: 27.525387, mean_q: 55.208430, mean_eps: 0.100000\n",
            " 2863/6000: episode: 17, duration: 1.835s, episode steps: 200, steps per second: 109, episode reward: 200.000, mean reward:  1.000 [ 1.000,  1.000], mean action: 0.505 [0.000, 1.000],  loss: 5.346756, mae: 27.907473, mean_q: 56.037101, mean_eps: 0.100000\n",
            " 3063/6000: episode: 18, duration: 1.767s, episode steps: 200, steps per second: 113, episode reward: 200.000, mean reward:  1.000 [ 1.000,  1.000], mean action: 0.490 [0.000, 1.000],  loss: 9.230570, mae: 28.229966, mean_q: 56.496042, mean_eps: 0.100000\n",
            " 3263/6000: episode: 19, duration: 1.840s, episode steps: 200, steps per second: 109, episode reward: 200.000, mean reward:  1.000 [ 1.000,  1.000], mean action: 0.490 [0.000, 1.000],  loss: 7.941558, mae: 28.245941, mean_q: 56.475424, mean_eps: 0.100000\n",
            " 3463/6000: episode: 20, duration: 2.134s, episode steps: 200, steps per second:  94, episode reward: 200.000, mean reward:  1.000 [ 1.000,  1.000], mean action: 0.495 [0.000, 1.000],  loss: 7.985822, mae: 28.497556, mean_q: 56.944335, mean_eps: 0.100000\n",
            " 3663/6000: episode: 21, duration: 2.151s, episode steps: 200, steps per second:  93, episode reward: 200.000, mean reward:  1.000 [ 1.000,  1.000], mean action: 0.485 [0.000, 1.000],  loss: 7.020543, mae: 28.588566, mean_q: 57.180589, mean_eps: 0.100000\n",
            " 3863/6000: episode: 22, duration: 1.757s, episode steps: 200, steps per second: 114, episode reward: 200.000, mean reward:  1.000 [ 1.000,  1.000], mean action: 0.505 [0.000, 1.000],  loss: 7.483552, mae: 28.913604, mean_q: 57.812247, mean_eps: 0.100000\n",
            " 4063/6000: episode: 23, duration: 1.786s, episode steps: 200, steps per second: 112, episode reward: 200.000, mean reward:  1.000 [ 1.000,  1.000], mean action: 0.495 [0.000, 1.000],  loss: 8.915247, mae: 29.240545, mean_q: 58.340834, mean_eps: 0.100000\n",
            " 4263/6000: episode: 24, duration: 1.838s, episode steps: 200, steps per second: 109, episode reward: 200.000, mean reward:  1.000 [ 1.000,  1.000], mean action: 0.500 [0.000, 1.000],  loss: 8.142385, mae: 29.549740, mean_q: 59.066815, mean_eps: 0.100000\n",
            " 4463/6000: episode: 25, duration: 1.794s, episode steps: 200, steps per second: 111, episode reward: 200.000, mean reward:  1.000 [ 1.000,  1.000], mean action: 0.510 [0.000, 1.000],  loss: 8.409374, mae: 29.953164, mean_q: 59.805424, mean_eps: 0.100000\n",
            " 4663/6000: episode: 26, duration: 1.839s, episode steps: 200, steps per second: 109, episode reward: 200.000, mean reward:  1.000 [ 1.000,  1.000], mean action: 0.500 [0.000, 1.000],  loss: 8.864973, mae: 30.403853, mean_q: 60.736500, mean_eps: 0.100000\n",
            " 4863/6000: episode: 27, duration: 2.559s, episode steps: 200, steps per second:  78, episode reward: 200.000, mean reward:  1.000 [ 1.000,  1.000], mean action: 0.505 [0.000, 1.000],  loss: 7.831929, mae: 30.522853, mean_q: 61.064305, mean_eps: 0.100000\n",
            " 5063/6000: episode: 28, duration: 1.839s, episode steps: 200, steps per second: 109, episode reward: 200.000, mean reward:  1.000 [ 1.000,  1.000], mean action: 0.505 [0.000, 1.000],  loss: 8.478464, mae: 30.762208, mean_q: 61.483911, mean_eps: 0.100000\n",
            " 5263/6000: episode: 29, duration: 1.755s, episode steps: 200, steps per second: 114, episode reward: 200.000, mean reward:  1.000 [ 1.000,  1.000], mean action: 0.505 [0.000, 1.000],  loss: 9.682791, mae: 30.806429, mean_q: 61.517484, mean_eps: 0.100000\n",
            " 5463/6000: episode: 30, duration: 1.785s, episode steps: 200, steps per second: 112, episode reward: 200.000, mean reward:  1.000 [ 1.000,  1.000], mean action: 0.500 [0.000, 1.000],  loss: 11.459744, mae: 31.085288, mean_q: 61.957184, mean_eps: 0.100000\n",
            " 5663/6000: episode: 31, duration: 1.757s, episode steps: 200, steps per second: 114, episode reward: 200.000, mean reward:  1.000 [ 1.000,  1.000], mean action: 0.505 [0.000, 1.000],  loss: 8.587292, mae: 31.239734, mean_q: 62.402216, mean_eps: 0.100000\n",
            " 5863/6000: episode: 32, duration: 1.795s, episode steps: 200, steps per second: 111, episode reward: 200.000, mean reward:  1.000 [ 1.000,  1.000], mean action: 0.510 [0.000, 1.000],  loss: 7.862395, mae: 31.397240, mean_q: 62.756256, mean_eps: 0.100000\n",
            "done, took 61.250 seconds\n"
          ]
        },
        {
          "output_type": "display_data",
          "data": {
            "text/plain": [
              "<Figure size 432x288 with 1 Axes>"
            ],
            "image/png": "[encoded data removed]"
          },
          "metadata": {
            "needs_background": "light"
          }
        },
        {
          "output_type": "stream",
          "name": "stdout",
          "text": [
            "Testing for 20 episodes ...\n",
            "Episode 1: reward: 200.000, steps: 200\n",
            "Episode 2: reward: 200.000, steps: 200\n",
            "Episode 3: reward: 200.000, steps: 200\n",
            "Episode 4: reward: 200.000, steps: 200\n",
            "Episode 5: reward: 200.000, steps: 200\n",
            "Episode 6: reward: 200.000, steps: 200\n",
            "Episode 7: reward: 200.000, steps: 200\n",
            "Episode 8: reward: 200.000, steps: 200\n",
            "Episode 9: reward: 200.000, steps: 200\n",
            "Episode 10: reward: 200.000, steps: 200\n",
            "Episode 11: reward: 200.000, steps: 200\n",
            "Episode 12: reward: 200.000, steps: 200\n",
            "Episode 13: reward: 200.000, steps: 200\n",
            "Episode 14: reward: 200.000, steps: 200\n",
            "Episode 15: reward: 200.000, steps: 200\n",
            "Episode 16: reward: 200.000, steps: 200\n",
            "Episode 17: reward: 200.000, steps: 200\n",
            "Episode 18: reward: 200.000, steps: 200\n",
            "Episode 19: reward: 200.000, steps: 200\n",
            "Episode 20: reward: 200.000, steps: 200\n"
          ]
        },
        {
          "output_type": "execute_result",
          "data": {
            "text/plain": [
              "<keras.callbacks.History at 0x7f825b455310>"
            ]
          },
          "metadata": {},
          "execution_count": 39
        }
      ]
    },
    {
      "cell_type": "code",
      "source": [],
      "metadata": {
        "id": "9-O-sNoWPu6T"
      },
      "execution_count": null,
      "outputs": []
    }
  ]
}
